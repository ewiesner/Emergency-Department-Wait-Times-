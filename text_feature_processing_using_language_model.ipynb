{
 "cells": [
  {
   "cell_type": "code",
   "execution_count": null,
   "metadata": {},
   "outputs": [],
   "source": [
    "from transformers import AutoModel, AutoTokenizer\n",
    "import torch\n",
    "import pandas as pd\n",
    "import glob\n",
    "from tqdm import tqdm"
   ]
  },
  {
   "cell_type": "code",
   "execution_count": null,
   "metadata": {},
   "outputs": [],
   "source": [
    "# Language Model Processing Pipeline for 'chiefcomplaint'\n",
    "# \n",
    "# This notebook describes the pipeline for processing the 'chiefcomplaint' column using language models."
   ]
  },
  {
   "cell_type": "code",
   "execution_count": null,
   "metadata": {},
   "outputs": [],
   "source": [
    "# Load the triage dataframe, which contains the 'chiefcomplaint' column\n",
    "ed_triage_df =  pd.read_csv('triage.csv.gz', compression='gzip')"
   ]
  },
  {
   "cell_type": "code",
   "execution_count": null,
   "metadata": {},
   "outputs": [],
   "source": [
    "# Helper function to generate prompts for language models.\n",
    "# We use a simple formulation by prepending \"Chief Complaint: \" to each entry in 'chiefcomplaint'.\n",
    "# This aligns with the pretraining format of GatorTron, which was trained on concise clinical notes.\n",
    "\n",
    "def text_gen(x):\n",
    "    return f\"Chief Complaint: {x}\""
   ]
  },
  {
   "cell_type": "code",
   "execution_count": 10,
   "metadata": {},
   "outputs": [],
   "source": [
    "# Helper function to convert the 'chiefcomplaint' column into batches of prompts.\n",
    "# This is useful for efficiently feeding data into language models that process inputs in batches.\n",
    "# \n",
    "# Arguments:\n",
    "# - df: A DataFrame where each row contains a 'chiefcomplaint' string\n",
    "# - m: Batch size (number of prompts per batch)\n",
    "# \n",
    "# Returns:\n",
    "# - A list of lists, where each sublist is a batch of formatted prompt strings.\n",
    "\n",
    "def converter(df, m):\n",
    "    ans = []\n",
    "    temp = []\n",
    "    for i in range(df.shape[0]):\n",
    "        text = text_gen(df.iloc[i])  # Generate prompt from the ith row\n",
    "        temp.append(text)\n",
    "        if (i + 1) % m == 0:\n",
    "            if len(temp) != 0:\n",
    "                ans.append(temp)\n",
    "            temp = []\n",
    "    if len(temp) != 0:\n",
    "        ans.append(temp)\n",
    "    return ans\n"
   ]
  },
  {
   "cell_type": "code",
   "execution_count": null,
   "metadata": {},
   "outputs": [],
   "source": [
    "# We're now ready to work with language models!\n",
    "# First, we set the device to use GPU if available, otherwise fallback to CPU. \n",
    "# The model we use is not large so CPU would suffice.\n",
    "device = \"cuda\" if torch.cuda.is_available() else \"cpu\"\n"
   ]
  },
  {
   "cell_type": "code",
   "execution_count": null,
   "metadata": {},
   "outputs": [],
   "source": [
    "# Helper function to run inference on batches of prompts and extract embeddings.\n",
    "# \n",
    "# Each prompt is passed through a language model, and the [CLS] token embedding (first token)\n",
    "# is used as the representation. The function returns a pandas Series of embeddings.\n",
    "#\n",
    "# Arguments:\n",
    "# - batch_lst: List of batches (each batch is a list of prompt strings)\n",
    "# - tokenizer: Tokenizer corresponding to the language model\n",
    "# - model: Language model (here we use GatorTron)\n",
    "# - device: Device to run inference on (\"cuda\" or \"cpu\")\n",
    "#\n",
    "# Returns:\n",
    "# - A pandas Series where each entry is a 1D numpy array (embedding vector) for a prompt.\n",
    "\n",
    "def inference_prompt(batch_lst, tokenizer, model, device=\"cuda\" if torch.cuda.is_available() else \"cpu\"):\n",
    "    ans = []\n",
    "    for batch in tqdm(batch_lst):\n",
    "        bs = len(batch)\n",
    "        # Tokenize the batch of prompts\n",
    "        inputs = tokenizer(batch, padding=True, return_tensors=\"pt\", truncation=True, max_length=128)\n",
    "        inputs = {k: v.to(device) for k, v in inputs.items()}\n",
    "        \n",
    "        # Run inference\n",
    "        with torch.no_grad():\n",
    "            output_sequences = model(**inputs)\n",
    "            # Extract [CLS] token embeddings (first token in each sequence)\n",
    "            outputs_cls_embeddings = output_sequences.last_hidden_state[:, 0, :].cpu().numpy()\n",
    "        \n",
    "        # Collect embeddings for each prompt in the batch\n",
    "        for i in range(bs):\n",
    "            ans.append(outputs_cls_embeddings[i, :])\n",
    "\n",
    "    return pd.Series(ans)\n",
    "\n",
    "        \n",
    "        \n"
   ]
  },
  {
   "cell_type": "code",
   "execution_count": null,
   "metadata": {},
   "outputs": [],
   "source": [
    "# Now that all helper functions are defined, we can start using them.\n",
    "# Here, we convert the 'chiefcomplaint' column into batches of 500 prompts each.\n",
    "\n",
    "lst_prompt = converter(ed_triage_df[\"chiefcomplaint\"], 500)"
   ]
  },
  {
   "cell_type": "code",
   "execution_count": null,
   "metadata": {},
   "outputs": [
    {
     "data": {
      "text/plain": [
       "MegatronBertModel(\n",
       "  (embeddings): MegatronBertEmbeddings(\n",
       "    (word_embeddings): Embedding(50176, 1024, padding_idx=0)\n",
       "    (position_embeddings): Embedding(512, 1024)\n",
       "    (token_type_embeddings): Embedding(2, 1024)\n",
       "    (dropout): Dropout(p=0.1, inplace=False)\n",
       "  )\n",
       "  (encoder): MegatronBertEncoder(\n",
       "    (layer): ModuleList(\n",
       "      (0-23): 24 x MegatronBertLayer(\n",
       "        (attention): MegatronBertAttention(\n",
       "          (ln): LayerNorm((1024,), eps=1e-12, elementwise_affine=True)\n",
       "          (self): MegatronBertSelfAttention(\n",
       "            (query): Linear(in_features=1024, out_features=1024, bias=True)\n",
       "            (key): Linear(in_features=1024, out_features=1024, bias=True)\n",
       "            (value): Linear(in_features=1024, out_features=1024, bias=True)\n",
       "            (dropout): Dropout(p=0.1, inplace=False)\n",
       "          )\n",
       "          (output): MegatronBertSelfOutput(\n",
       "            (dense): Linear(in_features=1024, out_features=1024, bias=True)\n",
       "            (dropout): Dropout(p=0.1, inplace=False)\n",
       "          )\n",
       "        )\n",
       "        (ln): LayerNorm((1024,), eps=1e-12, elementwise_affine=True)\n",
       "        (intermediate): MegatronBertIntermediate(\n",
       "          (dense): Linear(in_features=1024, out_features=4096, bias=True)\n",
       "          (intermediate_act_fn): GELUActivation()\n",
       "        )\n",
       "        (output): MegatronBertOutput(\n",
       "          (dense): Linear(in_features=4096, out_features=1024, bias=True)\n",
       "          (dropout): Dropout(p=0.1, inplace=False)\n",
       "        )\n",
       "      )\n",
       "    )\n",
       "    (ln): LayerNorm((1024,), eps=1e-12, elementwise_affine=True)\n",
       "  )\n",
       "  (pooler): MegatronBertPooler(\n",
       "    (dense): Linear(in_features=1024, out_features=1024, bias=True)\n",
       "    (activation): Tanh()\n",
       "  )\n",
       ")"
      ]
     },
     "execution_count": 22,
     "metadata": {},
     "output_type": "execute_result"
    }
   ],
   "source": [
    "# We use GatorTron as our language model.\n",
    "# The reason behind this choice is discussed in our presentation slides.\n",
    "\n",
    "model_name = \"UFNLP/gatortron-base\"\n",
    "tokenizer = AutoTokenizer.from_pretrained(model_name)\n",
    "model = AutoModel.from_pretrained(model_name)\n",
    "model.to(device)"
   ]
  },
  {
   "cell_type": "code",
   "execution_count": 23,
   "metadata": {},
   "outputs": [
    {
     "name": "stderr",
     "output_type": "stream",
     "text": [
      "100%|██████████| 851/851 [13:04<00:00,  1.08it/s]\n"
     ]
    }
   ],
   "source": [
    "# Run inference on the generated prompt batches and get the embeddings for each prompt.\n",
    "res = inference_prompt(lst_prompt, tokenizer, model, device=device)"
   ]
  },
  {
   "cell_type": "code",
   "execution_count": 24,
   "metadata": {},
   "outputs": [],
   "source": [
    "# Save the results (embeddings) to a CSV file for later use.\n",
    "res.to_csv(\"chiefcomplaint_embeddings.csv\", index=False)\n"
   ]
  }
 ],
 "metadata": {
  "kernelspec": {
   "display_name": "ece",
   "language": "python",
   "name": "python3"
  },
  "language_info": {
   "codemirror_mode": {
    "name": "ipython",
    "version": 3
   },
   "file_extension": ".py",
   "mimetype": "text/x-python",
   "name": "python",
   "nbconvert_exporter": "python",
   "pygments_lexer": "ipython3",
   "version": "3.13.3"
  }
 },
 "nbformat": 4,
 "nbformat_minor": 2
}
