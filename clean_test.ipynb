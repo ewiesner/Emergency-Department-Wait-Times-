{
 "cells": [
  {
   "cell_type": "code",
   "execution_count": null,
   "metadata": {},
   "outputs": [
    {
     "ename": "NameError",
     "evalue": "name 'pd' is not defined",
     "output_type": "error",
     "traceback": [
      "\u001b[0;31m---------------------------------------------------------------------------\u001b[0m",
      "\u001b[0;31mNameError\u001b[0m                                 Traceback (most recent call last)",
      "Cell \u001b[0;32mIn[1], line 5\u001b[0m\n\u001b[1;32m      3\u001b[0m \u001b[38;5;66;03m# Create sample dataframe\u001b[39;00m\n\u001b[1;32m      4\u001b[0m data \u001b[38;5;241m=\u001b[39m {\u001b[38;5;124m'\u001b[39m\u001b[38;5;124mtemperature\u001b[39m\u001b[38;5;124m'\u001b[39m: [\u001b[38;5;241m30\u001b[39m, \u001b[38;5;241m105\u001b[39m, \u001b[38;5;241m850\u001b[39m], \u001b[38;5;124m'\u001b[39m\u001b[38;5;124mresprate\u001b[39m\u001b[38;5;124m'\u001b[39m: [\u001b[38;5;241m20\u001b[39m, \u001b[38;5;241m350\u001b[39m, \u001b[38;5;241m60\u001b[39m], \u001b[38;5;124m'\u001b[39m\u001b[38;5;124msbp\u001b[39m\u001b[38;5;124m'\u001b[39m: [\u001b[38;5;241m120\u001b[39m, \u001b[38;5;241m1100\u001b[39m, \u001b[38;5;241m90\u001b[39m], \u001b[38;5;124m'\u001b[39m\u001b[38;5;124mdbp\u001b[39m\u001b[38;5;124m'\u001b[39m: [\u001b[38;5;241m80\u001b[39m, \u001b[38;5;241m1050\u001b[39m, \u001b[38;5;241m60\u001b[39m]}\n\u001b[0;32m----> 5\u001b[0m df \u001b[38;5;241m=\u001b[39m \u001b[43mpd\u001b[49m\u001b[38;5;241m.\u001b[39mDataFrame(data)\n\u001b[1;32m      7\u001b[0m cleaner \u001b[38;5;241m=\u001b[39m DataCleaner(df)\n\u001b[1;32m      8\u001b[0m cleaner\u001b[38;5;241m.\u001b[39mclean_data()\n",
      "\u001b[0;31mNameError\u001b[0m: name 'pd' is not defined"
     ]
    }
   ],
   "source": [
    "from CustomClasses import DataCleaner\n",
    "import pandas as pd\n",
    "# Create sample dataframe\n",
    "data = {'temperature': [30, 105, 850], 'resprate': [20, 350, 60], 'sbp': [120, 1100, 90], 'dbp': [80, 1050, 60]}\n",
    "df = pd.DataFrame(data)\n",
    "\n",
    "cleaner = DataCleaner(df)\n",
    "cleaner.clean_data()\n",
    "df_cleaned = cleaner.get_dataframe()\n",
    "\n",
    "print(df_cleaned)\n"
   ]
  }
 ],
 "metadata": {
  "kernelspec": {
   "display_name": "erdos_spring_2025",
   "language": "python",
   "name": "python3"
  },
  "language_info": {
   "codemirror_mode": {
    "name": "ipython",
    "version": 3
   },
   "file_extension": ".py",
   "mimetype": "text/x-python",
   "name": "python",
   "nbconvert_exporter": "python",
   "pygments_lexer": "ipython3",
   "version": "3.12.8"
  }
 },
 "nbformat": 4,
 "nbformat_minor": 2
}
