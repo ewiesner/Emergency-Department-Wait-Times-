{
 "cells": [
  {
   "cell_type": "code",
   "execution_count": 2,
   "metadata": {},
   "outputs": [],
   "source": [
    "import numpy as np\n",
    "import pandas as pd\n",
    "import matplotlib.pyplot as plt\n",
    "import seaborn as sns\n"
   ]
  },
  {
   "cell_type": "code",
   "execution_count": 3,
   "metadata": {},
   "outputs": [],
   "source": [
    "#The data relevant to our research question is in the following two files. Note these contain background information about patients (age, sex, etc), as well as information obtained at the paitent's arrival at the ED. \n",
    "# Although there is other data available, it is obtained later in the patient's ED stay.\n",
    "ed_edstays_df = pd.read_csv('MIMIC_data/edstays.csv.gz', compression='gzip')\n",
    "ed_triage_df = pd.read_csv('MIMIC_data/triage.csv.gz', compression='gzip') \n",
    "hosp_patients_df = pd.read_csv('MIMIC_data/patients.csv.gz', compression='gzip') \n",
    "hosp_admissions_df = pd.read_csv('MIMIC_data/admissions.csv.gz', compression='gzip')"
   ]
  },
  {
   "cell_type": "code",
   "execution_count": 4,
   "metadata": {},
   "outputs": [
    {
     "data": {
      "text/plain": [
       "425087"
      ]
     },
     "execution_count": 4,
     "metadata": {},
     "output_type": "execute_result"
    }
   ],
   "source": [
<<<<<<< Updated upstream
    "len(ed_edstays_df)"
=======
    "ed_edstays_df['stay_id'].nunique()"
   ]
  },
  {
   "cell_type": "code",
   "execution_count": 5,
   "metadata": {},
   "outputs": [],
   "source": [
    "# Merge two dataframes edstays and triage\n",
    "from MergeCleanClasses import DataMerge \n",
    "df_merge = DataMerge(ed_edstays_df, ed_triage_df, hosp_patients_df).get_dataframe()"
   ]
  },
  {
   "cell_type": "code",
   "execution_count": 6,
   "metadata": {},
   "outputs": [
    {
     "data": {
      "text/plain": [
       "Index(['subject_id', 'hadm_id', 'stay_id', 'intime', 'outtime', 'gender',\n",
       "       'race', 'arrival_transport', 'disposition', 'admission_age',\n",
       "       'temperature', 'heartrate', 'resprate', 'o2sat', 'sbp', 'dbp', 'pain',\n",
       "       'acuity', 'chiefcomplaint'],\n",
       "      dtype='object')"
      ]
     },
     "execution_count": 6,
     "metadata": {},
     "output_type": "execute_result"
    }
   ],
   "source": [
    "df_merge.columns"
>>>>>>> Stashed changes
   ]
  },
  {
   "cell_type": "code",
   "execution_count": 7,
   "metadata": {},
   "outputs": [],
   "source": [
    "# Merge two dataframes edstays and triage\n",
    "from MergeCleanClasses import DataMerge \n",
    "df_merge = DataMerge(ed_edstays_df, ed_triage_df, hosp_patients_df, hosp_admissions_df).get_dataframe()"
   ]
  },
  {
   "cell_type": "code",
   "execution_count": 7,
   "metadata": {},
   "outputs": [
    {
     "data": {
      "text/html": [
       "<div>\n",
       "<style scoped>\n",
       "    .dataframe tbody tr th:only-of-type {\n",
       "        vertical-align: middle;\n",
       "    }\n",
       "\n",
       "    .dataframe tbody tr th {\n",
       "        vertical-align: top;\n",
       "    }\n",
       "\n",
       "    .dataframe thead th {\n",
       "        text-align: right;\n",
       "    }\n",
       "</style>\n",
       "<table border=\"1\" class=\"dataframe\">\n",
       "  <thead>\n",
       "    <tr style=\"text-align: right;\">\n",
       "      <th></th>\n",
       "      <th>subject_id</th>\n",
       "      <th>hadm_id</th>\n",
       "      <th>stay_id</th>\n",
       "      <th>admission_age</th>\n",
       "      <th>temperature</th>\n",
       "      <th>heartrate</th>\n",
       "      <th>resprate</th>\n",
       "      <th>o2sat</th>\n",
       "      <th>sbp</th>\n",
       "      <th>dbp</th>\n",
       "      <th>acuity</th>\n",
       "    </tr>\n",
       "  </thead>\n",
       "  <tbody>\n",
       "    <tr>\n",
       "      <th>count</th>\n",
       "      <td>4.250870e+05</td>\n",
       "      <td>2.030160e+05</td>\n",
       "      <td>4.250870e+05</td>\n",
       "      <td>425011.000000</td>\n",
       "      <td>401672.000000</td>\n",
       "      <td>407997.000000</td>\n",
       "      <td>404734.000000</td>\n",
       "      <td>404491.000000</td>\n",
       "      <td>406796.000000</td>\n",
       "      <td>405996.000000</td>\n",
       "      <td>418100.000000</td>\n",
       "    </tr>\n",
       "    <tr>\n",
       "      <th>mean</th>\n",
       "      <td>1.500871e+07</td>\n",
       "      <td>2.499495e+07</td>\n",
       "      <td>3.499735e+07</td>\n",
       "      <td>52.864493</td>\n",
       "      <td>98.015046</td>\n",
       "      <td>85.079891</td>\n",
       "      <td>17.565521</td>\n",
       "      <td>98.471888</td>\n",
       "      <td>135.395352</td>\n",
       "      <td>81.262126</td>\n",
       "      <td>2.625102</td>\n",
       "    </tr>\n",
       "    <tr>\n",
       "      <th>std</th>\n",
       "      <td>2.878486e+06</td>\n",
       "      <td>2.888745e+06</td>\n",
       "      <td>2.888342e+06</td>\n",
       "      <td>20.619906</td>\n",
       "      <td>4.008575</td>\n",
       "      <td>18.041690</td>\n",
       "      <td>5.485706</td>\n",
       "      <td>17.040807</td>\n",
       "      <td>240.956408</td>\n",
       "      <td>1057.220031</td>\n",
       "      <td>0.708084</td>\n",
       "    </tr>\n",
       "    <tr>\n",
       "      <th>min</th>\n",
       "      <td>1.000003e+07</td>\n",
       "      <td>2.000002e+07</td>\n",
       "      <td>3.000001e+07</td>\n",
       "      <td>18.000000</td>\n",
       "      <td>0.100000</td>\n",
       "      <td>1.000000</td>\n",
       "      <td>0.000000</td>\n",
       "      <td>0.000000</td>\n",
       "      <td>1.000000</td>\n",
       "      <td>0.000000</td>\n",
       "      <td>1.000000</td>\n",
       "    </tr>\n",
       "    <tr>\n",
       "      <th>25%</th>\n",
       "      <td>1.251789e+07</td>\n",
       "      <td>2.248982e+07</td>\n",
       "      <td>3.249799e+07</td>\n",
       "      <td>35.000000</td>\n",
       "      <td>97.500000</td>\n",
       "      <td>72.000000</td>\n",
       "      <td>16.000000</td>\n",
       "      <td>97.000000</td>\n",
       "      <td>120.000000</td>\n",
       "      <td>68.000000</td>\n",
       "      <td>2.000000</td>\n",
       "    </tr>\n",
       "    <tr>\n",
       "      <th>50%</th>\n",
       "      <td>1.501628e+07</td>\n",
       "      <td>2.499935e+07</td>\n",
       "      <td>3.499395e+07</td>\n",
       "      <td>53.000000</td>\n",
       "      <td>98.000000</td>\n",
       "      <td>84.000000</td>\n",
       "      <td>18.000000</td>\n",
       "      <td>99.000000</td>\n",
       "      <td>133.000000</td>\n",
       "      <td>77.000000</td>\n",
       "      <td>3.000000</td>\n",
       "    </tr>\n",
       "    <tr>\n",
       "      <th>75%</th>\n",
       "      <td>1.749900e+07</td>\n",
       "      <td>2.749388e+07</td>\n",
       "      <td>3.750387e+07</td>\n",
       "      <td>69.000000</td>\n",
       "      <td>98.600000</td>\n",
       "      <td>96.000000</td>\n",
       "      <td>18.000000</td>\n",
       "      <td>100.000000</td>\n",
       "      <td>148.000000</td>\n",
       "      <td>87.000000</td>\n",
       "      <td>3.000000</td>\n",
       "    </tr>\n",
       "    <tr>\n",
       "      <th>max</th>\n",
       "      <td>1.999999e+07</td>\n",
       "      <td>2.999981e+07</td>\n",
       "      <td>3.999996e+07</td>\n",
       "      <td>103.000000</td>\n",
       "      <td>986.000000</td>\n",
       "      <td>1228.000000</td>\n",
       "      <td>1820.000000</td>\n",
       "      <td>9322.000000</td>\n",
       "      <td>151103.000000</td>\n",
       "      <td>661672.000000</td>\n",
       "      <td>5.000000</td>\n",
       "    </tr>\n",
       "  </tbody>\n",
       "</table>\n",
       "</div>"
      ],
      "text/plain": [
       "         subject_id       hadm_id       stay_id  admission_age    temperature  \\\n",
       "count  4.250870e+05  2.030160e+05  4.250870e+05  425011.000000  401672.000000   \n",
       "mean   1.500871e+07  2.499495e+07  3.499735e+07      52.864493      98.015046   \n",
       "std    2.878486e+06  2.888745e+06  2.888342e+06      20.619906       4.008575   \n",
       "min    1.000003e+07  2.000002e+07  3.000001e+07      18.000000       0.100000   \n",
       "25%    1.251789e+07  2.248982e+07  3.249799e+07      35.000000      97.500000   \n",
       "50%    1.501628e+07  2.499935e+07  3.499395e+07      53.000000      98.000000   \n",
       "75%    1.749900e+07  2.749388e+07  3.750387e+07      69.000000      98.600000   \n",
       "max    1.999999e+07  2.999981e+07  3.999996e+07     103.000000     986.000000   \n",
       "\n",
       "           heartrate       resprate          o2sat            sbp  \\\n",
       "count  407997.000000  404734.000000  404491.000000  406796.000000   \n",
       "mean       85.079891      17.565521      98.471888     135.395352   \n",
       "std        18.041690       5.485706      17.040807     240.956408   \n",
       "min         1.000000       0.000000       0.000000       1.000000   \n",
       "25%        72.000000      16.000000      97.000000     120.000000   \n",
       "50%        84.000000      18.000000      99.000000     133.000000   \n",
       "75%        96.000000      18.000000     100.000000     148.000000   \n",
       "max      1228.000000    1820.000000    9322.000000  151103.000000   \n",
       "\n",
       "                 dbp         acuity  \n",
       "count  405996.000000  418100.000000  \n",
       "mean       81.262126       2.625102  \n",
       "std      1057.220031       0.708084  \n",
       "min         0.000000       1.000000  \n",
       "25%        68.000000       2.000000  \n",
       "50%        77.000000       3.000000  \n",
       "75%        87.000000       3.000000  \n",
       "max    661672.000000       5.000000  "
      ]
     },
     "execution_count": 7,
     "metadata": {},
     "output_type": "execute_result"
    }
   ],
   "source": [
    "df_merge.describe()"
   ]
  },
  {
   "cell_type": "code",
   "execution_count": 9,
   "metadata": {},
   "outputs": [],
   "source": [
    "# Clean the dataframe by replacing abnormal values with np.nan in multiple columns, including\n",
    "#   stay_length_hours, temperature, resprate, sbp, dbp, o2sat, pain\n",
    "# Special treatments for several columns:\n",
    "# 1. For temperature, scale temperature values by 10 (if between 8.24 and 10.10) and by 0.10 (if between 824 and 1010),\n",
    "#      and convert temperature from Celsius to Fahrenheit (if betweeen 28 and 43.3)\n",
    "# 2. Exclude data where disposition is 'eloped', 'left without being seen' or 'left against medical advice'\n",
    "# 3. For pain, \n",
    "#   if it's a range (number-number), replace this range by the average (e.g., 6-9 is replaced by 7.5);\n",
    "#   if it's a number followed by a symbol, strip off the extra symbols and just keep the number  (e.g., '9+' is replaced by 9);\n",
    "#   it's a single number, convert to a float (covers integer and decimal). Round down to 10 if the result is larger than 10.\n",
    "# 4. Condense race into fewer categories: 'White', 'OTHER', 'HISPANIC/LATINO', 'ASIAN', 'BLACK', nan,\n",
    "#    'NATIVE HAWAIIAN OR OTHER PACIFIC ISLANDER', 'AMERICAN INDIAN/ALASKA NATIVE'\n",
    "# All above are copied from Emilie's Cleaning.ipynb\n",
    "\n",
    "from MergeCleanClasses import DataCleaner\n",
    "cleaner=DataCleaner(df_merge)\n",
    "cleaner.clean_data()\n",
    "df_cleaned = cleaner.get_dataframe()\n"
   ]
  },
  {
   "cell_type": "code",
<<<<<<< Updated upstream
   "execution_count": 10,
=======
   "execution_count": 8,
>>>>>>> Stashed changes
   "metadata": {},
   "outputs": [
    {
     "data": {
      "text/html": [
       "<div>\n",
       "<style scoped>\n",
       "    .dataframe tbody tr th:only-of-type {\n",
       "        vertical-align: middle;\n",
       "    }\n",
       "\n",
       "    .dataframe tbody tr th {\n",
       "        vertical-align: top;\n",
       "    }\n",
       "\n",
       "    .dataframe thead th {\n",
       "        text-align: right;\n",
       "    }\n",
       "</style>\n",
       "<table border=\"1\" class=\"dataframe\">\n",
       "  <thead>\n",
       "    <tr style=\"text-align: right;\">\n",
       "      <th></th>\n",
       "      <th>subject_id</th>\n",
       "      <th>hadm_id</th>\n",
       "      <th>stay_id</th>\n",
       "      <th>admission_age</th>\n",
       "      <th>temperature</th>\n",
       "      <th>heartrate</th>\n",
       "      <th>resprate</th>\n",
       "      <th>o2sat</th>\n",
       "      <th>sbp</th>\n",
       "      <th>dbp</th>\n",
       "      <th>acuity</th>\n",
       "      <th>stay_length_hours</th>\n",
       "      <th>pain_cleaned_advanced</th>\n",
       "    </tr>\n",
       "  </thead>\n",
       "  <tbody>\n",
       "    <tr>\n",
       "      <th>count</th>\n",
       "      <td>4.113340e+05</td>\n",
       "      <td>2.013790e+05</td>\n",
       "      <td>4.113340e+05</td>\n",
       "      <td>411262.000000</td>\n",
       "      <td>387794.000000</td>\n",
       "      <td>394499.000000</td>\n",
       "      <td>391311.000000</td>\n",
       "      <td>391050.000000</td>\n",
       "      <td>393348.000000</td>\n",
       "      <td>392474.00000</td>\n",
       "      <td>404454.000000</td>\n",
       "      <td>411334.000000</td>\n",
       "      <td>384853.000000</td>\n",
       "    </tr>\n",
       "    <tr>\n",
       "      <th>mean</th>\n",
       "      <td>1.500716e+07</td>\n",
       "      <td>2.499446e+07</td>\n",
       "      <td>3.499736e+07</td>\n",
       "      <td>53.028507</td>\n",
       "      <td>98.088336</td>\n",
       "      <td>85.055235</td>\n",
       "      <td>17.562021</td>\n",
       "      <td>98.371811</td>\n",
       "      <td>134.975010</td>\n",
       "      <td>77.87827</td>\n",
       "      <td>2.616505</td>\n",
       "      <td>7.249593</td>\n",
       "      <td>4.321234</td>\n",
       "    </tr>\n",
       "    <tr>\n",
       "      <th>std</th>\n",
       "      <td>2.879886e+06</td>\n",
       "      <td>2.888909e+06</td>\n",
       "      <td>2.888253e+06</td>\n",
       "      <td>20.613833</td>\n",
       "      <td>0.975326</td>\n",
       "      <td>18.101615</td>\n",
       "      <td>2.549355</td>\n",
       "      <td>2.464138</td>\n",
       "      <td>22.774136</td>\n",
       "      <td>23.60907</td>\n",
       "      <td>0.709298</td>\n",
       "      <td>6.599164</td>\n",
       "      <td>3.818753</td>\n",
       "    </tr>\n",
       "    <tr>\n",
       "      <th>min</th>\n",
       "      <td>1.000003e+07</td>\n",
       "      <td>2.000002e+07</td>\n",
       "      <td>3.000001e+07</td>\n",
       "      <td>18.000000</td>\n",
       "      <td>82.400000</td>\n",
       "      <td>1.000000</td>\n",
       "      <td>0.000000</td>\n",
       "      <td>0.000000</td>\n",
       "      <td>1.000000</td>\n",
       "      <td>0.00000</td>\n",
       "      <td>1.000000</td>\n",
       "      <td>0.000000</td>\n",
       "      <td>0.000000</td>\n",
       "    </tr>\n",
       "    <tr>\n",
       "      <th>25%</th>\n",
       "      <td>1.251479e+07</td>\n",
       "      <td>2.248894e+07</td>\n",
       "      <td>3.249805e+07</td>\n",
       "      <td>35.000000</td>\n",
       "      <td>97.600000</td>\n",
       "      <td>72.000000</td>\n",
       "      <td>16.000000</td>\n",
       "      <td>97.000000</td>\n",
       "      <td>120.000000</td>\n",
       "      <td>68.00000</td>\n",
       "      <td>2.000000</td>\n",
       "      <td>3.607847</td>\n",
       "      <td>0.000000</td>\n",
       "    </tr>\n",
       "    <tr>\n",
       "      <th>50%</th>\n",
       "      <td>1.501346e+07</td>\n",
       "      <td>2.499871e+07</td>\n",
       "      <td>3.499258e+07</td>\n",
       "      <td>54.000000</td>\n",
       "      <td>98.000000</td>\n",
       "      <td>84.000000</td>\n",
       "      <td>18.000000</td>\n",
       "      <td>99.000000</td>\n",
       "      <td>133.000000</td>\n",
       "      <td>77.00000</td>\n",
       "      <td>3.000000</td>\n",
       "      <td>5.533333</td>\n",
       "      <td>5.000000</td>\n",
       "    </tr>\n",
       "    <tr>\n",
       "      <th>75%</th>\n",
       "      <td>1.750040e+07</td>\n",
       "      <td>2.749296e+07</td>\n",
       "      <td>3.750453e+07</td>\n",
       "      <td>69.000000</td>\n",
       "      <td>98.600000</td>\n",
       "      <td>96.000000</td>\n",
       "      <td>18.000000</td>\n",
       "      <td>100.000000</td>\n",
       "      <td>148.000000</td>\n",
       "      <td>87.00000</td>\n",
       "      <td>3.000000</td>\n",
       "      <td>8.388819</td>\n",
       "      <td>8.000000</td>\n",
       "    </tr>\n",
       "    <tr>\n",
       "      <th>max</th>\n",
       "      <td>1.999999e+07</td>\n",
       "      <td>2.999981e+07</td>\n",
       "      <td>3.999996e+07</td>\n",
       "      <td>91.000000</td>\n",
       "      <td>110.000000</td>\n",
       "      <td>1228.000000</td>\n",
       "      <td>209.000000</td>\n",
       "      <td>100.000000</td>\n",
       "      <td>960.000000</td>\n",
       "      <td>998.00000</td>\n",
       "      <td>5.000000</td>\n",
       "      <td>192.566667</td>\n",
       "      <td>10.000000</td>\n",
       "    </tr>\n",
       "  </tbody>\n",
       "</table>\n",
       "</div>"
      ],
      "text/plain": [
       "         subject_id       hadm_id       stay_id  admission_age    temperature  \\\n",
       "count  4.113340e+05  2.013790e+05  4.113340e+05  411262.000000  387794.000000   \n",
       "mean   1.500716e+07  2.499446e+07  3.499736e+07      53.028507      98.088336   \n",
       "std    2.879886e+06  2.888909e+06  2.888253e+06      20.613833       0.975326   \n",
       "min    1.000003e+07  2.000002e+07  3.000001e+07      18.000000      82.400000   \n",
       "25%    1.251479e+07  2.248894e+07  3.249805e+07      35.000000      97.600000   \n",
       "50%    1.501346e+07  2.499871e+07  3.499258e+07      54.000000      98.000000   \n",
       "75%    1.750040e+07  2.749296e+07  3.750453e+07      69.000000      98.600000   \n",
       "max    1.999999e+07  2.999981e+07  3.999996e+07      91.000000     110.000000   \n",
       "\n",
       "           heartrate       resprate          o2sat            sbp  \\\n",
       "count  394499.000000  391311.000000  391050.000000  393348.000000   \n",
       "mean       85.055235      17.562021      98.371811     134.975010   \n",
       "std        18.101615       2.549355       2.464138      22.774136   \n",
       "min         1.000000       0.000000       0.000000       1.000000   \n",
       "25%        72.000000      16.000000      97.000000     120.000000   \n",
       "50%        84.000000      18.000000      99.000000     133.000000   \n",
       "75%        96.000000      18.000000     100.000000     148.000000   \n",
       "max      1228.000000     209.000000     100.000000     960.000000   \n",
       "\n",
       "                dbp         acuity  stay_length_hours  pain_cleaned_advanced  \n",
       "count  392474.00000  404454.000000      411334.000000          384853.000000  \n",
       "mean       77.87827       2.616505           7.249593               4.321234  \n",
       "std        23.60907       0.709298           6.599164               3.818753  \n",
       "min         0.00000       1.000000           0.000000               0.000000  \n",
       "25%        68.00000       2.000000           3.607847               0.000000  \n",
       "50%        77.00000       3.000000           5.533333               5.000000  \n",
       "75%        87.00000       3.000000           8.388819               8.000000  \n",
       "max       998.00000       5.000000         192.566667              10.000000  "
      ]
     },
<<<<<<< Updated upstream
     "execution_count": 10,
=======
     "execution_count": 8,
>>>>>>> Stashed changes
     "metadata": {},
     "output_type": "execute_result"
    }
   ],
   "source": [
    "df_cleaned.describe()"
   ]
  },
  {
   "cell_type": "code",
<<<<<<< Updated upstream
   "execution_count": 11,
=======
   "execution_count": 9,
   "metadata": {},
   "outputs": [
    {
     "data": {
      "text/plain": [
       "Index(['subject_id', 'hadm_id', 'stay_id', 'intime', 'outtime', 'gender',\n",
       "       'race', 'arrival_transport', 'admission_age', 'temperature',\n",
       "       'heartrate', 'resprate', 'o2sat', 'sbp', 'dbp', 'pain', 'acuity',\n",
       "       'chiefcomplaint', 'stay_length_hours', 'pain_cleaned_advanced',\n",
       "       'race_condensed'],\n",
       "      dtype='object')"
      ]
     },
     "execution_count": 9,
     "metadata": {},
     "output_type": "execute_result"
    }
   ],
   "source": [
    "df_cleaned.columns"
   ]
  },
  {
   "cell_type": "code",
   "execution_count": 10,
>>>>>>> Stashed changes
   "metadata": {},
   "outputs": [
    {
     "name": "stdout",
     "output_type": "stream",
     "text": [
      "201695\n",
      "411334\n"
     ]
    }
   ],
   "source": [
    "print(len(df_cleaned['subject_id'].unique()))\n",
    "print(len(df_cleaned['stay_id'].unique()))"
   ]
  },
  {
   "cell_type": "code",
<<<<<<< Updated upstream
   "execution_count": 12,
=======
   "execution_count": 11,
>>>>>>> Stashed changes
   "metadata": {},
   "outputs": [],
   "source": [
    "from sklearn.model_selection import train_test_split\n",
    "train, test= train_test_split(df_cleaned, shuffle = True, random_state = 489,test_size=.1)\n",
    "train.to_csv('train.csv', index=False)\n",
    "test.to_csv('test.csv', index=False)\n",
    "\n",
    "# What about null values? There are 76 data with null admission_age and 103113 null language."
   ]
  },
  {
   "cell_type": "code",
   "execution_count": 12,
   "metadata": {},
   "outputs": [
    {
     "name": "stdout",
     "output_type": "stream",
     "text": [
      "(370200, 21)\n"
     ]
    }
   ],
   "source": [
    "print(train.shape)"
   ]
  },
  {
   "cell_type": "code",
   "execution_count": 13,
   "metadata": {},
   "outputs": [],
   "source": [
    "cc_train=np.load('chief_complaint_data/train_pca.npy')"
   ]
  },
  {
   "cell_type": "code",
   "execution_count": 14,
   "metadata": {},
   "outputs": [
    {
     "data": {
      "text/plain": [
       "(370149, 100)"
      ]
     },
     "execution_count": 14,
     "metadata": {},
     "output_type": "execute_result"
    }
   ],
   "source": [
    "cc_train.shape"
   ]
  },
  {
   "cell_type": "code",
   "execution_count": 15,
   "metadata": {},
   "outputs": [
    {
     "data": {
      "text/plain": [
       "(41128, 100)"
      ]
     },
     "execution_count": 15,
     "metadata": {},
     "output_type": "execute_result"
    }
   ],
   "source": [
    "cc_test=np.load('chief_complaint_data/test_pca.npy')\n",
    "cc_test.shape"
   ]
  },
  {
   "cell_type": "code",
   "execution_count": 17,
   "metadata": {},
   "outputs": [
    {
     "name": "stdout",
     "output_type": "stream",
     "text": [
      "(41134, 21)\n"
     ]
    }
   ],
   "source": [
    "print(test.shape)"
   ]
  },
  {
   "cell_type": "code",
   "execution_count": null,
   "metadata": {},
   "outputs": [],
   "source": []
  }
 ],
 "metadata": {
  "kernelspec": {
   "display_name": "edpredict",
   "language": "python",
   "name": "python3"
  },
  "language_info": {
   "codemirror_mode": {
    "name": "ipython",
    "version": 3
   },
   "file_extension": ".py",
   "mimetype": "text/x-python",
   "name": "python",
   "nbconvert_exporter": "python",
   "pygments_lexer": "ipython3",
   "version": "3.11.11"
  }
 },
 "nbformat": 4,
 "nbformat_minor": 2
}
