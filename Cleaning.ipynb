{
 "cells": [
  {
   "cell_type": "code",
   "execution_count": 3,
   "metadata": {},
   "outputs": [],
   "source": [
    "import numpy as np\n",
    "import pandas as pd\n",
    "import matplotlib.pyplot as plt\n",
    "import seaborn as sns"
   ]
  },
  {
   "cell_type": "code",
   "execution_count": 4,
   "metadata": {},
   "outputs": [],
   "source": [
    "#The data relevant to our research question is in the following two files. Note these contain background information about patients (age, sex, etc), as well as information obtained at the paitent's arrival at the ED. \n",
    "# Although there is other data available, it is obtained later in the patient's ED stay.\n",
    "edstays = pd.read_csv('MIMIC_data/edstays.csv.gz', compression='gzip')\n",
    "triage = pd.read_csv('MIMIC_data/triage.csv.gz', compression='gzip')"
   ]
  },
  {
   "cell_type": "code",
   "execution_count": 5,
   "metadata": {},
   "outputs": [],
   "source": [
    "# Merge these two dataframes along the stay_id column.\n",
    "df=pd.merge(edstays, triage, how='outer', on='stay_id')\n",
    "\n",
    "#Eliminate the duplicate and simplify variable name:\n",
    "df.rename(columns={'subject_id_x': 'subject_id'}, inplace=True)\n",
    "df.drop('subject_id_y', axis=1, inplace=True)\n"
   ]
  },
  {
   "cell_type": "code",
   "execution_count": 6,
   "metadata": {},
   "outputs": [],
   "source": [
    "#Here I have added extra variables, day of the week and time of day, for the intime. \n",
    "#The date information has a random shift to preserve anonymity, so these variables can't be used.\n",
    "#df['day_of_week_intime'] = pd.to_datetime(df['intime']).dt.dayofweek\n",
    "#df['time_of_day_intime'] = pd.to_datetime(df['intime']).dt.time"
   ]
  },
  {
   "cell_type": "code",
   "execution_count": 7,
   "metadata": {},
   "outputs": [],
   "source": [
    "#Here I compute the target variable, stay length, in terms of hours.\n",
    "df['stay_length']=pd.to_datetime(df['outtime'])-pd.to_datetime(df['intime'])\n",
    "df['stay_length_hours']= df['stay_length'].dt.total_seconds() / 3600\n",
    "\n",
    "#Now I can drop the 'stay_length' variable.\n",
    "df.drop('stay_length', axis=1, inplace=True)"
   ]
  },
  {
   "cell_type": "markdown",
   "metadata": {},
   "source": [
    "Cleaning work starts here."
   ]
  },
  {
   "cell_type": "code",
   "execution_count": 8,
   "metadata": {},
   "outputs": [
    {
     "data": {
      "text/plain": [
       "count    425087.000000\n",
       "mean          7.158327\n",
       "std           6.628000\n",
       "min         -22.733333\n",
       "25%           3.533333\n",
       "50%           5.466667\n",
       "75%           8.316667\n",
       "max         493.069444\n",
       "Name: stay_length_hours, dtype: float64"
      ]
     },
     "execution_count": 8,
     "metadata": {},
     "output_type": "execute_result"
    }
   ],
   "source": [
    "#First, let's take a look at the target variable, stay_length_hours.\n",
    "\n",
    "df['stay_length_hours'].describe()"
   ]
  },
  {
   "cell_type": "code",
   "execution_count": 9,
   "metadata": {},
   "outputs": [
    {
     "data": {
      "image/png": "[encoded data removed]",
      "text/plain": [
       "<Figure size 640x480 with 1 Axes>"
      ]
     },
     "metadata": {},
     "output_type": "display_data"
    }
   ],
   "source": [
    "#There are some values for stay_length_hours, which are negative. This is nonsensical. We remove them.\n",
    "\n",
    "df = df[df['stay_length_hours'] >= 0]\n",
    "\n",
    "#We should also remove extreme high values for length of stay, as these are probably inaccurate. Looking at the graph, it seems we have a clear break\n",
    "#between the two most extreme outliers and the rest of the data, so I am just cutting out the two high values. \n",
    "#May want to revise this cut-off.\n",
    "\n",
    "df['stay_length_hours'].plot(kind='box')\n",
    "\n",
    "df = df[df['stay_length_hours'] <= 300]"
   ]
  },
  {
   "cell_type": "code",
   "execution_count": 10,
   "metadata": {},
   "outputs": [
    {
     "data": {
      "text/html": [
       "<div>\n",
       "<style scoped>\n",
       "    .dataframe tbody tr th:only-of-type {\n",
       "        vertical-align: middle;\n",
       "    }\n",
       "\n",
       "    .dataframe tbody tr th {\n",
       "        vertical-align: top;\n",
       "    }\n",
       "\n",
       "    .dataframe thead th {\n",
       "        text-align: right;\n",
       "    }\n",
       "</style>\n",
       "<table border=\"1\" class=\"dataframe\">\n",
       "  <thead>\n",
       "    <tr style=\"text-align: right;\">\n",
       "      <th></th>\n",
       "      <th>subject_id</th>\n",
       "      <th>hadm_id</th>\n",
       "      <th>stay_id</th>\n",
       "      <th>temperature</th>\n",
       "      <th>heartrate</th>\n",
       "      <th>resprate</th>\n",
       "      <th>o2sat</th>\n",
       "      <th>sbp</th>\n",
       "      <th>dbp</th>\n",
       "      <th>acuity</th>\n",
       "      <th>stay_length_hours</th>\n",
       "    </tr>\n",
       "  </thead>\n",
       "  <tbody>\n",
       "    <tr>\n",
       "      <th>count</th>\n",
       "      <td>4.250790e+05</td>\n",
       "      <td>2.030140e+05</td>\n",
       "      <td>4.250790e+05</td>\n",
       "      <td>401664.000000</td>\n",
       "      <td>407989.000000</td>\n",
       "      <td>404726.000000</td>\n",
       "      <td>404483.000000</td>\n",
       "      <td>406789.000000</td>\n",
       "      <td>405989.000000</td>\n",
       "      <td>418092.000000</td>\n",
       "      <td>425079.000000</td>\n",
       "    </tr>\n",
       "    <tr>\n",
       "      <th>mean</th>\n",
       "      <td>1.500873e+07</td>\n",
       "      <td>2.499499e+07</td>\n",
       "      <td>3.499737e+07</td>\n",
       "      <td>98.015054</td>\n",
       "      <td>85.079971</td>\n",
       "      <td>17.565532</td>\n",
       "      <td>98.471907</td>\n",
       "      <td>135.395407</td>\n",
       "      <td>81.262128</td>\n",
       "      <td>2.625092</td>\n",
       "      <td>7.156703</td>\n",
       "    </tr>\n",
       "    <tr>\n",
       "      <th>std</th>\n",
       "      <td>2.878475e+06</td>\n",
       "      <td>2.888739e+06</td>\n",
       "      <td>2.888331e+06</td>\n",
       "      <td>4.008614</td>\n",
       "      <td>18.041731</td>\n",
       "      <td>5.485734</td>\n",
       "      <td>17.040968</td>\n",
       "      <td>240.958472</td>\n",
       "      <td>1057.229145</td>\n",
       "      <td>0.708079</td>\n",
       "      <td>6.565501</td>\n",
       "    </tr>\n",
       "    <tr>\n",
       "      <th>min</th>\n",
       "      <td>1.000003e+07</td>\n",
       "      <td>2.000002e+07</td>\n",
       "      <td>3.000001e+07</td>\n",
       "      <td>0.100000</td>\n",
       "      <td>1.000000</td>\n",
       "      <td>0.000000</td>\n",
       "      <td>0.000000</td>\n",
       "      <td>1.000000</td>\n",
       "      <td>0.000000</td>\n",
       "      <td>1.000000</td>\n",
       "      <td>0.000000</td>\n",
       "    </tr>\n",
       "    <tr>\n",
       "      <th>25%</th>\n",
       "      <td>1.251793e+07</td>\n",
       "      <td>2.248985e+07</td>\n",
       "      <td>3.249802e+07</td>\n",
       "      <td>97.500000</td>\n",
       "      <td>72.000000</td>\n",
       "      <td>16.000000</td>\n",
       "      <td>97.000000</td>\n",
       "      <td>120.000000</td>\n",
       "      <td>68.000000</td>\n",
       "      <td>2.000000</td>\n",
       "      <td>3.533333</td>\n",
       "    </tr>\n",
       "    <tr>\n",
       "      <th>50%</th>\n",
       "      <td>1.501632e+07</td>\n",
       "      <td>2.499939e+07</td>\n",
       "      <td>3.499401e+07</td>\n",
       "      <td>98.000000</td>\n",
       "      <td>84.000000</td>\n",
       "      <td>18.000000</td>\n",
       "      <td>99.000000</td>\n",
       "      <td>133.000000</td>\n",
       "      <td>77.000000</td>\n",
       "      <td>3.000000</td>\n",
       "      <td>5.466667</td>\n",
       "    </tr>\n",
       "    <tr>\n",
       "      <th>75%</th>\n",
       "      <td>1.749900e+07</td>\n",
       "      <td>2.749390e+07</td>\n",
       "      <td>3.750391e+07</td>\n",
       "      <td>98.600000</td>\n",
       "      <td>96.000000</td>\n",
       "      <td>18.000000</td>\n",
       "      <td>100.000000</td>\n",
       "      <td>148.000000</td>\n",
       "      <td>87.000000</td>\n",
       "      <td>3.000000</td>\n",
       "      <td>8.316667</td>\n",
       "    </tr>\n",
       "    <tr>\n",
       "      <th>max</th>\n",
       "      <td>1.999999e+07</td>\n",
       "      <td>2.999981e+07</td>\n",
       "      <td>3.999996e+07</td>\n",
       "      <td>986.000000</td>\n",
       "      <td>1228.000000</td>\n",
       "      <td>1820.000000</td>\n",
       "      <td>9322.000000</td>\n",
       "      <td>151103.000000</td>\n",
       "      <td>661672.000000</td>\n",
       "      <td>5.000000</td>\n",
       "      <td>192.566667</td>\n",
       "    </tr>\n",
       "  </tbody>\n",
       "</table>\n",
       "</div>"
      ],
      "text/plain": [
       "         subject_id       hadm_id       stay_id    temperature      heartrate  \\\n",
       "count  4.250790e+05  2.030140e+05  4.250790e+05  401664.000000  407989.000000   \n",
       "mean   1.500873e+07  2.499499e+07  3.499737e+07      98.015054      85.079971   \n",
       "std    2.878475e+06  2.888739e+06  2.888331e+06       4.008614      18.041731   \n",
       "min    1.000003e+07  2.000002e+07  3.000001e+07       0.100000       1.000000   \n",
       "25%    1.251793e+07  2.248985e+07  3.249802e+07      97.500000      72.000000   \n",
       "50%    1.501632e+07  2.499939e+07  3.499401e+07      98.000000      84.000000   \n",
       "75%    1.749900e+07  2.749390e+07  3.750391e+07      98.600000      96.000000   \n",
       "max    1.999999e+07  2.999981e+07  3.999996e+07     986.000000    1228.000000   \n",
       "\n",
       "            resprate          o2sat            sbp            dbp  \\\n",
       "count  404726.000000  404483.000000  406789.000000  405989.000000   \n",
       "mean       17.565532      98.471907     135.395407      81.262128   \n",
       "std         5.485734      17.040968     240.958472    1057.229145   \n",
       "min         0.000000       0.000000       1.000000       0.000000   \n",
       "25%        16.000000      97.000000     120.000000      68.000000   \n",
       "50%        18.000000      99.000000     133.000000      77.000000   \n",
       "75%        18.000000     100.000000     148.000000      87.000000   \n",
       "max      1820.000000    9322.000000  151103.000000  661672.000000   \n",
       "\n",
       "              acuity  stay_length_hours  \n",
       "count  418092.000000      425079.000000  \n",
       "mean        2.625092           7.156703  \n",
       "std         0.708079           6.565501  \n",
       "min         1.000000           0.000000  \n",
       "25%         2.000000           3.533333  \n",
       "50%         3.000000           5.466667  \n",
       "75%         3.000000           8.316667  \n",
       "max         5.000000         192.566667  "
      ]
     },
     "execution_count": 10,
     "metadata": {},
     "output_type": "execute_result"
    }
   ],
   "source": [
    "#Now let's look at each variable more closely.\n",
    "\n",
    "df.describe()"
   ]
  },
  {
   "cell_type": "code",
   "execution_count": 11,
   "metadata": {},
   "outputs": [
    {
     "name": "stdout",
     "output_type": "stream",
     "text": [
      "44\n",
      "30497      8.80\n",
      "37682      9.00\n",
      "48915      9.40\n",
      "57420      9.10\n",
      "63041      9.80\n",
      "63134      9.00\n",
      "68023      9.00\n",
      "72974      9.70\n",
      "80024      9.20\n",
      "90363      8.40\n",
      "99394      9.50\n",
      "104910     9.00\n",
      "110887     9.80\n",
      "112636     9.00\n",
      "113407     9.00\n",
      "115550     9.60\n",
      "119192     9.00\n",
      "124773     9.60\n",
      "138646     9.80\n",
      "157582     9.00\n",
      "168211     9.40\n",
      "180822    10.00\n",
      "181794     9.00\n",
      "190344     9.10\n",
      "192237     9.10\n",
      "192917     9.10\n",
      "193734     9.60\n",
      "195015     8.40\n",
      "199376     9.00\n",
      "207364     9.10\n",
      "208990     9.00\n",
      "216460     9.00\n",
      "219589     9.50\n",
      "268045     8.60\n",
      "276287     9.60\n",
      "282379     9.50\n",
      "313908     9.70\n",
      "322975     9.83\n",
      "331676     9.00\n",
      "348233     9.00\n",
      "368614     9.00\n",
      "388628     8.60\n",
      "389857     9.90\n",
      "416869     9.80\n",
      "Name: temperature, dtype: float64\n"
     ]
    }
   ],
   "source": [
    "#Note that the various input variables have values that are physically impossible. We'll need to address each of these\n",
    "# Let's start with temperature. Here, the max value recorded is 986.000, and the minimum is 0.1. Both of these are physically impossible. \n",
    "\n",
    "#First let's look for values where the decimal point may have been moved to the left one place in error.  \n",
    "# I started with the assumption that values should be between 82.4 F (lower cut-off for moderate hypothermia \n",
    "# according to https://my.clevelandclinic.org/health/diseases/21164-hypothermia-low-body-temperature) and 110 F. \n",
    "# Note that there are 44 of these, and some of them would certainly be normal temperatures with a move in decimal place. \n",
    "# I replace these values with their value multiplied by 10.\n",
    "\n",
    "filtered_values = df[(df['temperature'] >= 8.24) & (df['temperature'] <= 10.10)]['temperature']\n",
    "\n",
    "print(len(filtered_values))\n",
    "\n",
    "print(filtered_values)\n",
    "\n",
    "df.loc[(df['temperature'] >= 8.24) & (df['temperature'] <= 10.10), 'temperature'] *= 10"
   ]
  },
  {
   "cell_type": "code",
   "execution_count": 12,
   "metadata": {},
   "outputs": [
    {
     "name": "stdout",
     "output_type": "stream",
     "text": [
      "5\n",
      "31824     981.0\n",
      "126529    978.0\n",
      "161723    977.0\n",
      "364451    979.0\n",
      "366200    986.0\n",
      "Name: temperature, dtype: float64\n"
     ]
    }
   ],
   "source": [
    "#Next let's consider values where the decimal point may have been moved one place to the right in error. \n",
    "\n",
    "filtered_values = df[(df['temperature'] >= 824) & (df['temperature'] <= 1010)]['temperature']\n",
    "\n",
    "print(len(filtered_values))\n",
    "\n",
    "print(filtered_values)\n",
    "\n",
    "df.loc[(df['temperature'] >= 824) & (df['temperature'] <= 1010), 'temperature'] *= .10"
   ]
  },
  {
   "cell_type": "code",
   "execution_count": 13,
   "metadata": {},
   "outputs": [
    {
     "name": "stdout",
     "output_type": "stream",
     "text": [
      "391\n",
      "976       36.1\n",
      "4074      36.9\n",
      "5274      37.6\n",
      "5407      36.9\n",
      "5533      36.1\n",
      "          ... \n",
      "420423    36.4\n",
      "422050    36.7\n",
      "422906    36.3\n",
      "422979    36.5\n",
      "423337    36.0\n",
      "Name: temperature, Length: 391, dtype: float64\n"
     ]
    }
   ],
   "source": [
    "# Next we look for values that may be in Celsius, using the same cut-off as above: 28 C= 82.4 F and 43.3 C=110 F. \n",
    "# Note that the documentation for the data indicates that some of the temperature data may be in Celsius.\n",
    "\n",
    "filtered_values = df[(df['temperature'] >= 28) & (df['temperature'] <= 43.3)]['temperature']\n",
    "\n",
    "print(len(filtered_values))\n",
    "\n",
    "print(filtered_values)\n",
    "\n",
    "df.loc[(df['temperature'] >= 28) & (df['temperature'] <= 43.3), 'temperature'] = df['temperature'] * 9/5 + 32\n"
   ]
  },
  {
   "cell_type": "code",
   "execution_count": 14,
   "metadata": {},
   "outputs": [
    {
     "name": "stdout",
     "output_type": "stream",
     "text": [
      "87\n",
      "3569       62.0000\n",
      "5938      111.4000\n",
      "7149       75.9000\n",
      "9674        7.8000\n",
      "14522       7.6000\n",
      "            ...   \n",
      "404703     77.7778\n",
      "405941      1.0400\n",
      "414134     80.0000\n",
      "419804      7.2000\n",
      "420497      6.0000\n",
      "Name: temperature, Length: 87, dtype: float64\n"
     ]
    }
   ],
   "source": [
    "# The above work addresses all of the issues that I can think of. So now for any values that are below 82.4 or above 110, \n",
    "# I assume they are a mistake that I can't fix and replace them with NaN.\n",
    "\n",
    "filtered_values = df[(df['temperature'] > 110) | (df['temperature'] < 82.4)]['temperature']\n",
    "\n",
    "print(len(filtered_values))\n",
    "\n",
    "print(filtered_values)\n",
    "\n",
    "df.loc[(df['temperature'] > 110) | (df['temperature'] < 82.4), 'temperature'] = np.nan\n"
   ]
  },
  {
   "cell_type": "markdown",
   "metadata": {},
   "source": []
  },
  {
   "cell_type": "code",
   "execution_count": 15,
   "metadata": {},
   "outputs": [
    {
     "data": {
      "text/plain": [
       "count    404726.000000\n",
       "mean         17.565532\n",
       "std           5.485734\n",
       "min           0.000000\n",
       "25%          16.000000\n",
       "50%          18.000000\n",
       "75%          18.000000\n",
       "max        1820.000000\n",
       "Name: resprate, dtype: float64"
      ]
     },
     "execution_count": 15,
     "metadata": {},
     "output_type": "execute_result"
    }
   ],
   "source": [
    "#Now let's consider heart rate. There are some very high values, but from my internet search, it seems these could be real values of someone experiencing a medical emergency. \n",
    "# So I am not going to do anything about them. There are no negative values reported for heart rate.\n",
    "\n",
    "df['resprate'].describe()"
   ]
  },
  {
   "cell_type": "code",
   "execution_count": 16,
   "metadata": {},
   "outputs": [
    {
     "name": "stdout",
     "output_type": "stream",
     "text": [
      "3\n",
      "53010     1796.5\n",
      "359661    1820.0\n",
      "401104    1797.9\n",
      "Name: resprate, dtype: float64\n"
     ]
    }
   ],
   "source": [
    "#resprate: There are some very large values which appear to be physically impossible. (My cut-off of 300 here is a guess by me about what is reasonable. I could not find information about what values \n",
    "# might be possible for human beings.) There is no obvious error here (like a misplaced decimal), so I am replacing these with NaN's.\n",
    "\n",
    "filtered_values = df[(df['resprate'] > 300)]['resprate']\n",
    "\n",
    "print(len(filtered_values))\n",
    "\n",
    "print(filtered_values)\n",
    "\n",
    "df.loc[(df['resprate'] > 300), 'resprate'] = np.nan"
   ]
  },
  {
   "cell_type": "code",
   "execution_count": 17,
   "metadata": {},
   "outputs": [
    {
     "name": "stdout",
     "output_type": "stream",
     "text": [
      "4\n",
      "113412     19734.0\n",
      "126529     12080.0\n",
      "266542    151103.0\n",
      "365075      9656.0\n",
      "Name: sbp, dtype: float64\n"
     ]
    }
   ],
   "source": [
    "#Eliminate O2sat above 100. \n",
    "df.loc[(df['o2sat'] > 100), 'o2sat'] = np.nan\n",
    "\n",
    "#sbp: systolic blood pressure. The internet indicated that a sbp of 1000 could be possible, but unlikely and fatal. Looking at the data, there are a few values that are large than 1000 by at least a factor of 10. \n",
    "# I am guessing these are errors and replacing with NaN.\n",
    "\n",
    "filtered_values = df[(df['sbp'] > 1000)]['sbp']\n",
    "\n",
    "print(len(filtered_values))\n",
    "\n",
    "print(filtered_values)\n",
    "\n",
    "df.loc[(df['sbp'] > 1000), 'sbp'] = np.nan"
   ]
  },
  {
   "cell_type": "code",
   "execution_count": 18,
   "metadata": {},
   "outputs": [
    {
     "name": "stdout",
     "output_type": "stream",
     "text": [
      "101\n",
      "1571      6698.0\n",
      "3037      3108.0\n",
      "3195      8102.0\n",
      "3642      3101.0\n",
      "3888      6113.0\n",
      "           ...  \n",
      "408900    7288.0\n",
      "413318    7297.8\n",
      "420108    9102.0\n",
      "420779    9556.0\n",
      "422808    1102.0\n",
      "Name: dbp, Length: 101, dtype: float64\n"
     ]
    }
   ],
   "source": [
    "#dbp: diastolic blood pressure. I'll use the same criterion as above, eliminating values above 1000, although this is likely too high a cut-off. Note that there are many more dbp that fall above this cut-off.\n",
    "\n",
    "filtered_values = df[(df['dbp'] > 1000)]['dbp']\n",
    "\n",
    "print(len(filtered_values))\n",
    "\n",
    "print(filtered_values)\n",
    "\n",
    "df.loc[(df['dbp'] > 1000), 'sbp'] = np.nan\n",
    "\n",
    "#Note that there are some instances where sbp is smaller than dbp. This is nonsensical, but it's not clear what to do with these cases."
   ]
  },
  {
   "cell_type": "code",
   "execution_count": 19,
   "metadata": {},
   "outputs": [
    {
     "name": "stdout",
     "output_type": "stream",
     "text": [
      "['0' '2' '9' '3' '10' '7' '8' '5' '6' '13' '1' nan '4' '6.5' 'UTA' '6-7'\n",
      " 'unable' 'Critical' 'UA' 'balit' '00' 'mucho' 'ua' 'Unable' 'c' '8.5'\n",
      " 'uta' 'critical' '20' '5/9' 'dull' 'denies' '9-10' 'bad' '3-4' 'unable '\n",
      " 'ett' 'not to bad' '25' '3.5' 'unable to assess' 'alot' 'not too bad'\n",
      " '97' '9.5' '\"pain\"' 'u/a' '5.5' '12' '15' 'not bad' '5-6' '14' 'crit'\n",
      " 'crit ' '\"alot\"' 'asleep' '19' '0-2' '1-2' 'UNABLE' '1/2' '4-5' '2-3'\n",
      " '70' 'Non-verbal' 'it hurts' 'na' 'hurts alot' 'manageable' 'mild'\n",
      " 'achey' 'burning' '10/' 'REF' '11' '9.5-10' 'yes' 'bone pain'\n",
      " 'unable to obtain' '8-9' 'through the roof' '069' 'cramping' 'moderate'\n",
      " 'sleeping' 'refusing' 'u' '1.5' 'somulent' 'unalbe' 's' '7.5' 'uable'\n",
      " '7.235' 'prehosp' 'pressure' '\"a little\"' 'mild aches ' 'a little'\n",
      " 'little' '\"15\"' '4.5' '7-8' '5-10' 'L chest' '9-8' 'Unresponsive' '0-'\n",
      " 'unknown' 'unqble' '10+' 'refused' '60' '\"bad\"' '\"a lot\"' '?' 'nonverbal'\n",
      " '03' '7.5-8' '10 ' 'tiny bit' 'unable to access' '\"a little more\"'\n",
      " 'not that bad' ' a little' 'pain' 'UTA ' '88' '.' 'nha'\n",
      " 'unable to report (aphasic)' 'hurts' 'critical ' '2-4' '10/10'\n",
      " '\"I love you all\" ' '8  ' 'heaviness' 'severe' '\"Alot\"' 'throbbing'\n",
      " '\"12\"' ' 8' '\"I dont do the pain scale\"'\n",
      " 'Pt states he is unable to give me a number ' 'o' '10 w/ movement' '0 '\n",
      " 'unablw' 'unabkle' '16' '01' '\"mucho\"' '5-9' '0.5' '7/8' 'uta ' '\"1000\"'\n",
      " 'discomfort' 'chronic' 'not too bad.' '0pcn' '10  ' 'sharp' ')' '.5'\n",
      " '3-10' 'unjable' 'pre-hosp' '9+' 'ok' '\"10+\"' '3t' 'uanble' '7-7.5'\n",
      " 'too much' '?/' 'non verbal' 'pretty badf' '.0' '95' 'agitated ' '+'\n",
      " 'uta.' '8 ' '\"yes\"' 'pre hosp' 'refuses' '3-8' 'asleep ' '0, ' ' 0'\n",
      " 'so so' 'refused ' '-0' '??' 'unk' 'tightness' 'unabl3' '2.' 'some'\n",
      " 'pain ' 'grimacing' '1-8' 'yes - R arm' 'aphasic' '98' '0-5' '4-8' '09'\n",
      " '\"11\"' 'very painful' 'sore' 'trigger' 'moaning' '3 ' '2-8' 'a lot'\n",
      " 'Refusing' '5-8' 'un' 'unable d/t intox' '5/8' 'CP 4/10 and groin 7/10'\n",
      " '3-7' 'critcal ' 'uncomfortable' 'middle' 'very bad' 'unbale' '>10' '4/9'\n",
      " '4-10' '100' '0-8' 'U/A' 'U' 'achy' '4. ' 'scary' 'right' '73' '2-9'\n",
      " 'Screaming in triage ' 'bit of pain' 'INTUBATED' '8/9' 'varies' '0  '\n",
      " '10...' '8-10' '5 ' 'A little' 'mild discomfort' '6 ' 'unable - sleeping'\n",
      " '\"maybe a little\"' '0-10' 'Unable ' 'controlled' '10/5' 'chronic pain'\n",
      " '90' 'C' 'crying' '27' 'intubated' '7-6' '3.' '0no nf' '51'\n",
      " 'a little bit' '10. ' 'uA' '22' 'unale ' 'total body pain' 'utta' '8.6'\n",
      " 'uts' '9 ' '7-10' '000' '8/' '9.7' '\"pretty big\"' '\"20\"' '0-9' 'reduced'\n",
      " 'all over' '\"a little bit.\"' '\"not much\"' 'painful' 'when i pee' 'unbel'\n",
      " 'really bad' '2-10' ' 10' '2.5' 'all over body pain' '0. ' '56' 'strong'\n",
      " 'hurts to touch' '2/3' 'unable to give #' \"u/'a\" 'cramps' '098.6'\n",
      " 'moderate pain' '\"moderate\"' 'Refused'\n",
      " '10 (but dozing off during questioning)' 'fine' '9/10' 'unabke'\n",
      " '8/ paronychia lanced   3  days  ago' 'dull achy' 'unknwn'\n",
      " 'unable to quantify' 'utd' 'diffuse' 'itchy' '30' '8.7' '0.'\n",
      " '\"hurts everywhere\"' 'language barrier' 'trightness' 'uanlbe' '3/10'\n",
      " 'it hurts alot' '07' 'nonw' '\"10\"' '___' 'refusing ' 'small' '5/10'\n",
      " '\"terrible\"' '6-10' '\"so much\"' 'poquito' 'unable to score' 'eloped'\n",
      " 'c/o severe HA since mon' 'minor' '0-3' 'very' '2,' 'unable moaning'\n",
      " 'constant' '7 ' 'unabe' '8.5-9' '\"13\"' 'everywhere' '8,' '31' 'criot'\n",
      " 'gi upset' 'uncoop' 'unabale' '75' 'Mild' '9 1.2' 'un able'\n",
      " 'semi comfortable' 'non-verbal' 'Bad' 'when i touch it hurts' 'ETT'\n",
      " 'unknown ' '\"50\"' '8 9 or 10' 'sleep' 'Critcal' '0F' 'lots'\n",
      " 'hurts like hell' 'really hurts' 'pta' '0..' 'awful' '2-7' ' 7' 'xc'\n",
      " 'real bad' 'not really' '10knee' '1.2' 'unclear' 'too much pain'\n",
      " '\"not as bad not, they gave me tylenol\"' 'sleepy' '9/8' 'unwilling'\n",
      " '\"little\"' 'uncomfort' '4 ' '9.4' '5, 7' 'ref' 'over 10'\n",
      " 'increasingly worse' '3  ' '5 1/2' '61' 'alright' 'not comfortable.' 't'\n",
      " 'pretty bad' '0-7' 'RA' 'dont ' '7.6' 'better' 'i' '\"hurts\"'\n",
      " '\"borderline\" ' '\"heavy\"' 'uto' 'some ' '6/10' 'Ref' 'unab;le'\n",
      " 'tolerable' '<1' '6-9' 'crrit ' 'agitated' 'no pain if not moving' 'NAD'\n",
      " 'UNK' 'Moderate' 'normal chronic pain' '\"real bad\"' 'hardly anything'\n",
      " 'unab le' 'unable to give' '\"pouco\"' '7/' '96' 'only a little bit'\n",
      " 'unablwe' 'stiffness' '5/7' 'unanble' 'crti' 'criticial' '\"slight pain\"'\n",
      " '0sent  for  lab' 'slight' 'unsure ' '1 0' '8,10' 'not very painful'\n",
      " 'INT' '\"I dont feel pain I feel more discomfort than anything\" ' '18'\n",
      " 'unale' 'really bad if i move' 'low' '101' 'bipap' 'not alot' '8/6' '4-6'\n",
      " 'unaknown' 'it is up there' '3-6' '7-9' 'mod' '9  ' '0-1' 'twingy' 'vent'\n",
      " '98.3' '06' '\"no more than normal\"' '4.4' '9.75' '15-20' '\"strong\"' '50'\n",
      " 'medium' '7 chronic back and neck pain' 'UTA121/69' '8.' 'not much' '1`0'\n",
      " 'unable to assess ' 'sedated' '8 \"this my usual pain level\"' 'UNKNOWN'\n",
      " 'o3' 'unalb e' 'did not give pain scale' 'yes.' '97.5' '\"sharp\"'\n",
      " '\"heaviness\"' 'unable to scale' '1-3' 'unable to score pain everywhere'\n",
      " 'ow' 'utts' 'critcal' '.3' 'FACES pain scale of 7' 'ASLEEP' '-' 'ut'\n",
      " 'vague' '  6-9' '\"badly\"' ' 4' 'too tight' 'intubuated' '\"painful\"'\n",
      " 'irritated' '6-8' 'wont answer' '0-6' 'prehosp ' 'excrutiating' 'none'\n",
      " 'hurts a great deal' '\"Pain\"' 'ok.' '9/6' '2/10' '7-8 ' 'little bit'\n",
      " '`10' 'heavy' 'critial ' '81/2' '-1' 'UUTA' 'three four or five' '5  '\n",
      " 'unresp' '0-4' 'leg pain' '8/10' '68' '\"pretty high\"' 'UTa' '134' '\"no\"'\n",
      " '\"tension\"' 'unble' 'pain with walking' '?10' 'unknow n' 'yes everywhere'\n",
      " 'please help me' '40' 'groaning' '\">10\"' 'Yes' '\"30\"' 'uanble to answer'\n",
      " '\"oye\"' 'see below' 'T' '4  H' 'not there' 'unable - c/o abd pain' '++'\n",
      " 'denies ' 'REFUSED' '54' 'unsure' 'no' '3, 7' 'everything hurts' 'slot'\n",
      " '\"dont touch me\"' 'UAT' 'uncooperative' '\"there\"' 'ua ' '1-7'\n",
      " '10(with ambulation)' 'jaw pain' 'can get severe' 'nausea'\n",
      " 'unable trauma' 'no answer' 'cirt' 'constant discomfort' '110'\n",
      " 'intermittent' '0,10' '\"10++\"' 'crtitcal' '2-6' 'trauma' 'untabl ' '4-'\n",
      " ':unable\"' 'FACES 4' ' 6' '180' '\"up there\" ' '\"A LITTLE\"' \"i don't know\"\n",
      " 'refusing to give a number' 'pinching' 'bloated' 'achy all over' '\"200\"'\n",
      " '\"too much\"' 'unable to provide' 'tight' 'non-verbal ' 'bad enough'\n",
      " 'ache' '\"22\"' 'critical; ' '7.2' 'unaable' '4 knee and neck pain'\n",
      " 'horrible' 'declined' 'in legs to touch' '\"annoying\" ' '\"14\"'\n",
      " 'pain with urination' 'unBLE' 'stings' '0,' 'uti' 'not able' 'unabl e'\n",
      " 'AMS' '5.8' 'hurts when moving' 'throbs' 'ra' \"I'm ok\" 'almost nothing'\n",
      " 'note' 'trauma ' 'U/a ' '\"feels like shit\"' 'not strong at all' 'uabble '\n",
      " 'just bodyaches' 'prehsp' 'heartburn' 'unable to rate ' '\"alittle\"'\n",
      " 'vent/UTA' 'urta' '6.' 'not normal' 'U.A' '10   ' 'minimal'\n",
      " 'slight pressure' 'hurts real bad' 'yes '\n",
      " \"unable to give a number, says it's hard to describe\" 'constant pressure'\n",
      " '4-7' 'neuropathy' 'criut' '10-' 'uTA' '\"Too much\"'\n",
      " 'little bit of pressure' 'I dont know' 'uanable' 'not cooperative'\n",
      " 'critica;' 'moaning ' 'squeezing' 'CP' 'Critical ' '2. ' 'joint pain'\n",
      " '/?' 'not so bad' 'feels ok' '\"all over\"' 'unable 97/' '6`' '8.59'\n",
      " 'confused' '\"BAD\"' 'feels awful' 'prehsop' 'toothach' 'intense'\n",
      " 'discomfort.' '. 10' 'unkno' 'SLEEP' 'refsused' 'Declined' '8.4' '10/7'\n",
      " '\"very bad\"' 'unable.' 'neb' 'tender at gtube site' '8.2' '8.9' '8.5-10'\n",
      " 'snoring' '\"litte\"' 'good' 'Moaning' 'not bad at all'\n",
      " '9.  started at  6 am   vomitted  bile' 'not terrible' '\" alittle\"'\n",
      " 'uncomfortable.' '0/' 'inable' 'not bac' 'refused to answer'\n",
      " '\"negligible\" ' 'Intubated' 'error' 'u/a. ' 'CRITICAL'\n",
      " 'no pain if seated' 'no pain' 'refusing VS' '1-0' 'stabbing pain' 'ura'\n",
      " 'unsettling' 'variable' '\"pain pain\"' '3-11' 'less sharp'\n",
      " '\"not too good\"' 'red' 'ache all over' 'Refusing ' '\"discomfort\"'\n",
      " 'not good' 'refuses ' 'moans' '08' '\"litte bit\"' ' c' '\"pains\"'\n",
      " '\"annoying\"' 'Pt ' 'numb' 'crtiical' '6s' '5*' 'CP unable to score'\n",
      " 'unable. ' 'terrible pain' 'not answering' '\"110\"' '010' 'pretty good'\n",
      " '6.5-7' 'refuses to answer' 'unable to score - abd pain'\n",
      " \"it doesn't hurt unless i move it\" 'untable ' 'uncomfortable. '\n",
      " 'in knees' ' 67' 'pretty ad' 'other ' '3-5' 'scratchy feeling'\n",
      " 'unable to state' '7.  ' 'tender' '10.' 'yelling' '10..'\n",
      " 'could not collect' 'aches' '\"100\"' 'uNABLE' 'sinus pain' '5.' 'annoying'\n",
      " '\"yest\"' 'pehosp' '0-;' 'quite p ainful' 'lttle' 'unable to rate'\n",
      " 'refuse' 'under control' 'intense pressure' '23' 'terrible' '0   '\n",
      " 'unable critical' '1-10' '109' 'sort of' '\"a lot of pain\"' 'excruciaing'\n",
      " 'cramp' 'Ua' '0-8/10' '4.' '\"not bad\" '\n",
      " '\"Not as good as id like it to be\"' 'unable sleeping'\n",
      " '\"I dont know I dont know how to do scales\"' '10 with standing'\n",
      " 'unable to answer' '46' 'unwell' '30-40' 'UNABLE ' 'u/a ' '21'\n",
      " 'tenderness' 'ph' 'arm hurts' '10 w/ walking' 'not much pain' 'eased up'\n",
      " '02' '9.9' '\"im fine\"' 'pre-hospital' '4-3' 'killing me' '98.6' 'unabl '\n",
      " '6.83' '\"60\"' '98.60' 'soreness' '0.3' '\"constant\"' '1/10' '&']\n",
      "848\n"
     ]
    }
   ],
   "source": [
    "#Now we consider 'pain.' Although the pain variable is described as a numerical score between 0 and 10, the actual data contains many text entries\n",
    "#and values outside of the stated range.\n",
    "print(df['pain'].unique())\n",
    "print(len(df['pain'].unique()))"
   ]
  },
  {
   "cell_type": "code",
   "execution_count": 20,
   "metadata": {},
   "outputs": [
    {
     "name": "stdout",
     "output_type": "stream",
     "text": [
      "NaN entries before cleaning:\n",
      "12933\n",
      "NaN entries after removing text entries:\n",
      "28112\n",
      "NaN entries after removing outside range:\n",
      "39316\n"
     ]
    }
   ],
   "source": [
    "#THe simplest thing we can do to make this variable useable while still preserving the information is to through out all text information \n",
    "#as well as all numerical values outside the range 0-10.\n",
    " \n",
    "#Check how many NaN entries we have.\n",
    "print(\"NaN entries before cleaning:\")\n",
    "print(df['pain'].isna().sum())\n",
    "\n",
    "#This takes all non-numeric entries to NaN.\n",
    "df['pain_cleaned']=pd.to_numeric(df['pain'], errors='coerce')\n",
    "\n",
    "print(\"NaN entries after removing text entries:\")\n",
    "print(df['pain_cleaned'].isna().sum())\n",
    "\n",
    "#This sends numerical entries outside of range to NaN.\n",
    "df.loc[~((df['pain_cleaned'] <=10) & (df['pain_cleaned'] >=0)), 'pain_cleaned'] = np.nan\n",
    "\n",
    "print(\"NaN entries after removing outside range:\")\n",
    "print(df['pain_cleaned'].isna().sum())"
   ]
  },
  {
   "cell_type": "code",
   "execution_count": 21,
   "metadata": {},
   "outputs": [],
   "source": [
    "import re"
   ]
  },
  {
   "cell_type": "code",
   "execution_count": 22,
   "metadata": {},
   "outputs": [
    {
     "name": "stdout",
     "output_type": "stream",
     "text": [
      "NaN entries after cleaning:\n",
      "27047\n"
     ]
    }
   ],
   "source": [
    "#But I could be more clever about this cleaning, although the results may be less reliable. Here, I will try to clean up any entries that \n",
    "# involve any numbers at all.\n",
    "\n",
    "# Function to transform pain entries based on format:\n",
    "def pain_cleaner(entry):\n",
    "    # Check if it's a range (number-number). For example, 6-9. I will replace this range by the average of the endpoints of the range.\n",
    "    if isinstance(entry, str) and '-' in entry:\n",
    "        try:\n",
    "            # Split the string at the hyphen and calculate the average of the two numbers. Round down to 10 if the result is larger than 10.\n",
    "            num1, num2 = map(int, entry.split('-'))\n",
    "            num=(num1 + num2) / 2\n",
    "            if num > 10: #Round down to 10 if the result is larger than 10.\n",
    "                num=10\n",
    "            return num\n",
    "        except ValueError:\n",
    "            return np.nan  # If the split values are not integers, return NaN\n",
    "    \n",
    "    # Check if it's a number followed by a symbol (e.g., '9+'). In this case, I will strip off the extra symbols and just keep the number.\n",
    "    match = re.match(r'(\\d+(\\.\\d+)?)\\D*$', str(entry))  # Matches a number followed by any non-digit symbol(s)\n",
    "    if match:\n",
    "        num=float(match.group(1))  # Return the numeric part as a float. Round down to 10 if the result is larger than 10.\n",
    "        if num > 10:\n",
    "            num=10\n",
    "        return num\n",
    "    # Check if it's a single number\n",
    "    try:\n",
    "        num=float(entry)  # Try converting to a float (covers integer and decimal). Round down to 10 if the result is larger than 10.\n",
    "        if num > 10:\n",
    "            num=10\n",
    "        return num\n",
    "    except ValueError:\n",
    "        return np.nan  # If it's not a number, return NaN\n",
    "\n",
    "# Apply the transformation function to the column\n",
    "df['pain_cleaned_advanced'] = df['pain'].apply(pain_cleaner)\n",
    "\n",
    "print(\"NaN entries after cleaning:\")\n",
    "print(df['pain_cleaned_advanced'].isna().sum())\n"
   ]
  },
  {
   "cell_type": "code",
   "execution_count": 23,
   "metadata": {},
   "outputs": [
    {
     "name": "stdout",
     "output_type": "stream",
     "text": [
      "['WHITE' 'BLACK/AFRICAN AMERICAN' 'OTHER' 'HISPANIC/LATINO - PUERTO RICAN'\n",
      " 'ASIAN - SOUTH EAST ASIAN' 'ASIAN - ASIAN INDIAN'\n",
      " 'HISPANIC/LATINO - DOMINICAN' 'HISPANIC/LATINO - SALVADORAN'\n",
      " 'BLACK/CARIBBEAN ISLAND' 'ASIAN' 'HISPANIC/LATINO - MEXICAN'\n",
      " 'WHITE - OTHER EUROPEAN' 'WHITE - EASTERN EUROPEAN' 'WHITE - BRAZILIAN'\n",
      " 'UNKNOWN' 'HISPANIC OR LATINO' 'SOUTH AMERICAN' 'ASIAN - CHINESE'\n",
      " 'BLACK/CAPE VERDEAN' 'HISPANIC/LATINO - HONDURAN'\n",
      " 'HISPANIC/LATINO - GUATEMALAN' 'BLACK/AFRICAN' 'WHITE - RUSSIAN'\n",
      " 'NATIVE HAWAIIAN OR OTHER PACIFIC ISLANDER' 'PORTUGUESE'\n",
      " 'HISPANIC/LATINO - COLUMBIAN' 'HISPANIC/LATINO - CUBAN'\n",
      " 'AMERICAN INDIAN/ALASKA NATIVE' 'UNABLE TO OBTAIN'\n",
      " 'PATIENT DECLINED TO ANSWER' 'ASIAN - KOREAN'\n",
      " 'HISPANIC/LATINO - CENTRAL AMERICAN' 'MULTIPLE RACE/ETHNICITY']\n",
      "33\n"
     ]
    }
   ],
   "source": [
    "#We have a lot of race categories and this is too many for at least some model types. \n",
    "#(We couldn't reasonbly use this for linear regression, for example.) So we will collapse the categories into \n",
    "# the standard race/ethnicity categories used in the US.\n",
    "print(df['race'].unique())\n",
    "print(len(df['race'].unique()))"
   ]
  },
  {
   "cell_type": "code",
   "execution_count": 24,
   "metadata": {},
   "outputs": [],
   "source": [
    "#This functions collapses the race categories into white, Black, Asian, Hispanic/Latino, etc.\n",
    "\n",
    "def race_cleaner(entry):\n",
    "    if 'ASIAN' in entry:\n",
    "        return 'ASIAN'\n",
    "    elif 'WHITE' in entry:\n",
    "        return 'White'\n",
    "    elif 'HISPANIC' in entry:\n",
    "        return 'HISPANIC/LATINO'\n",
    "    elif 'NATIVE HAWAIIAN OR OTHER PACIFIC ISLANDER' in entry:\n",
    "        return 'NATIVE HAWAIIAN OR OTHER PACIFIC ISLANDER'\n",
    "    elif 'AMERICAN INDIAN/ALASKA NATIVE' in entry:\n",
    "        return 'AMERICAN INDIAN/ALASKA NATIVE'\n",
    "    elif 'BLACK' in entry:\n",
    "        return 'BLACK'\n",
    "    elif entry in ['OTHER','MULTIPLE RACE/ETHNICITY','SOUTH AMERICAN', 'PORTUGUESE']:\n",
    "        return 'OTHER'\n",
    "    else:\n",
    "        return np.nan\n",
    "    \n",
    "# Apply the transformation function to the column\n",
    "df['race_condensed'] = df['race'].apply(race_cleaner)"
   ]
  },
  {
   "cell_type": "code",
   "execution_count": 25,
   "metadata": {},
   "outputs": [
    {
     "data": {
      "text/plain": [
       "race\n",
       "WHITE                                        228118\n",
       "BLACK/AFRICAN AMERICAN                        76796\n",
       "OTHER                                         20751\n",
       "HISPANIC/LATINO - PUERTO RICAN                14036\n",
       "WHITE - OTHER EUROPEAN                         8992\n",
       "HISPANIC/LATINO - DOMINICAN                    8330\n",
       "BLACK/CAPE VERDEAN                             7638\n",
       "ASIAN - CHINESE                                7348\n",
       "ASIAN                                          7294\n",
       "UNKNOWN                                        7083\n",
       "WHITE - RUSSIAN                                6091\n",
       "BLACK/AFRICAN                                  4887\n",
       "BLACK/CARIBBEAN ISLAND                         3675\n",
       "HISPANIC OR LATINO                             3141\n",
       "HISPANIC/LATINO - GUATEMALAN                   2356\n",
       "ASIAN - ASIAN INDIAN                           1567\n",
       "ASIAN - SOUTH EAST ASIAN                       1533\n",
       "HISPANIC/LATINO - SALVADORAN                   1497\n",
       "WHITE - BRAZILIAN                              1484\n",
       "PORTUGUESE                                     1457\n",
       "WHITE - EASTERN EUROPEAN                       1312\n",
       "HISPANIC/LATINO - COLUMBIAN                    1306\n",
       "HISPANIC/LATINO - MEXICAN                      1261\n",
       "SOUTH AMERICAN                                 1063\n",
       "AMERICAN INDIAN/ALASKA NATIVE                  1037\n",
       "HISPANIC/LATINO - HONDURAN                     1005\n",
       "HISPANIC/LATINO - CUBAN                         790\n",
       "HISPANIC/LATINO - CENTRAL AMERICAN              789\n",
       "ASIAN - KOREAN                                  786\n",
       "PATIENT DECLINED TO ANSWER                      624\n",
       "NATIVE HAWAIIAN OR OTHER PACIFIC ISLANDER       507\n",
       "MULTIPLE RACE/ETHNICITY                         281\n",
       "UNABLE TO OBTAIN                                244\n",
       "Name: count, dtype: int64"
      ]
     },
     "execution_count": 25,
     "metadata": {},
     "output_type": "execute_result"
    }
   ],
   "source": [
    "#Counts for the original categories.\n",
    "df['race'].value_counts()"
   ]
  },
  {
   "cell_type": "code",
   "execution_count": 26,
   "metadata": {},
   "outputs": [
    {
     "name": "stdout",
     "output_type": "stream",
     "text": [
      "race_condensed\n",
      "White                                        245997\n",
      "BLACK                                         92996\n",
      "HISPANIC/LATINO                               34511\n",
      "OTHER                                         23552\n",
      "ASIAN                                         18528\n",
      "AMERICAN INDIAN/ALASKA NATIVE                  1037\n",
      "NATIVE HAWAIIAN OR OTHER PACIFIC ISLANDER       507\n",
      "Name: count, dtype: int64\n",
      "7951\n"
     ]
    }
   ],
   "source": [
    "#Counts for the new race_condensed variable.\n",
    "print(df['race_condensed'].value_counts())\n",
    "print(df['race_condensed'].isna().sum())"
   ]
  },
  {
   "cell_type": "code",
   "execution_count": 27,
   "metadata": {},
   "outputs": [
    {
     "data": {
      "text/html": [
       "<div>\n",
       "<style scoped>\n",
       "    .dataframe tbody tr th:only-of-type {\n",
       "        vertical-align: middle;\n",
       "    }\n",
       "\n",
       "    .dataframe tbody tr th {\n",
       "        vertical-align: top;\n",
       "    }\n",
       "\n",
       "    .dataframe thead th {\n",
       "        text-align: right;\n",
       "    }\n",
       "</style>\n",
       "<table border=\"1\" class=\"dataframe\">\n",
       "  <thead>\n",
       "    <tr style=\"text-align: right;\">\n",
       "      <th></th>\n",
       "      <th>subject_id</th>\n",
       "      <th>hadm_id</th>\n",
       "      <th>stay_id</th>\n",
       "      <th>temperature</th>\n",
       "      <th>heartrate</th>\n",
       "      <th>resprate</th>\n",
       "      <th>o2sat</th>\n",
       "      <th>sbp</th>\n",
       "      <th>dbp</th>\n",
       "      <th>acuity</th>\n",
       "      <th>stay_length_hours</th>\n",
       "      <th>pain_cleaned</th>\n",
       "      <th>pain_cleaned_advanced</th>\n",
       "    </tr>\n",
       "  </thead>\n",
       "  <tbody>\n",
       "    <tr>\n",
       "      <th>count</th>\n",
       "      <td>4.250790e+05</td>\n",
       "      <td>2.030140e+05</td>\n",
       "      <td>4.250790e+05</td>\n",
       "      <td>401577.000000</td>\n",
       "      <td>407989.000000</td>\n",
       "      <td>404723.000000</td>\n",
       "      <td>404436.000000</td>\n",
       "      <td>406684.000000</td>\n",
       "      <td>405989.000000</td>\n",
       "      <td>418092.000000</td>\n",
       "      <td>425079.000000</td>\n",
       "      <td>385763.000000</td>\n",
       "      <td>398032.000000</td>\n",
       "    </tr>\n",
       "    <tr>\n",
       "      <th>mean</th>\n",
       "      <td>1.500873e+07</td>\n",
       "      <td>2.499499e+07</td>\n",
       "      <td>3.499737e+07</td>\n",
       "      <td>98.083969</td>\n",
       "      <td>85.079971</td>\n",
       "      <td>17.552284</td>\n",
       "      <td>98.375138</td>\n",
       "      <td>134.937554</td>\n",
       "      <td>81.262128</td>\n",
       "      <td>2.625092</td>\n",
       "      <td>7.156703</td>\n",
       "      <td>4.166849</td>\n",
       "      <td>4.334821</td>\n",
       "    </tr>\n",
       "    <tr>\n",
       "      <th>std</th>\n",
       "      <td>2.878475e+06</td>\n",
       "      <td>2.888739e+06</td>\n",
       "      <td>2.888331e+06</td>\n",
       "      <td>0.975244</td>\n",
       "      <td>18.041731</td>\n",
       "      <td>2.532867</td>\n",
       "      <td>2.457084</td>\n",
       "      <td>22.669486</td>\n",
       "      <td>1057.229145</td>\n",
       "      <td>0.708079</td>\n",
       "      <td>6.565501</td>\n",
       "      <td>3.754275</td>\n",
       "      <td>3.822145</td>\n",
       "    </tr>\n",
       "    <tr>\n",
       "      <th>min</th>\n",
       "      <td>1.000003e+07</td>\n",
       "      <td>2.000002e+07</td>\n",
       "      <td>3.000001e+07</td>\n",
       "      <td>82.400000</td>\n",
       "      <td>1.000000</td>\n",
       "      <td>0.000000</td>\n",
       "      <td>0.000000</td>\n",
       "      <td>1.000000</td>\n",
       "      <td>0.000000</td>\n",
       "      <td>1.000000</td>\n",
       "      <td>0.000000</td>\n",
       "      <td>-0.000000</td>\n",
       "      <td>0.000000</td>\n",
       "    </tr>\n",
       "    <tr>\n",
       "      <th>25%</th>\n",
       "      <td>1.251793e+07</td>\n",
       "      <td>2.248985e+07</td>\n",
       "      <td>3.249802e+07</td>\n",
       "      <td>97.500000</td>\n",
       "      <td>72.000000</td>\n",
       "      <td>16.000000</td>\n",
       "      <td>97.000000</td>\n",
       "      <td>120.000000</td>\n",
       "      <td>68.000000</td>\n",
       "      <td>2.000000</td>\n",
       "      <td>3.533333</td>\n",
       "      <td>0.000000</td>\n",
       "      <td>0.000000</td>\n",
       "    </tr>\n",
       "    <tr>\n",
       "      <th>50%</th>\n",
       "      <td>1.501632e+07</td>\n",
       "      <td>2.499939e+07</td>\n",
       "      <td>3.499401e+07</td>\n",
       "      <td>98.000000</td>\n",
       "      <td>84.000000</td>\n",
       "      <td>18.000000</td>\n",
       "      <td>99.000000</td>\n",
       "      <td>133.000000</td>\n",
       "      <td>77.000000</td>\n",
       "      <td>3.000000</td>\n",
       "      <td>5.466667</td>\n",
       "      <td>4.000000</td>\n",
       "      <td>5.000000</td>\n",
       "    </tr>\n",
       "    <tr>\n",
       "      <th>75%</th>\n",
       "      <td>1.749900e+07</td>\n",
       "      <td>2.749390e+07</td>\n",
       "      <td>3.750391e+07</td>\n",
       "      <td>98.600000</td>\n",
       "      <td>96.000000</td>\n",
       "      <td>18.000000</td>\n",
       "      <td>100.000000</td>\n",
       "      <td>148.000000</td>\n",
       "      <td>87.000000</td>\n",
       "      <td>3.000000</td>\n",
       "      <td>8.316667</td>\n",
       "      <td>8.000000</td>\n",
       "      <td>8.000000</td>\n",
       "    </tr>\n",
       "    <tr>\n",
       "      <th>max</th>\n",
       "      <td>1.999999e+07</td>\n",
       "      <td>2.999981e+07</td>\n",
       "      <td>3.999996e+07</td>\n",
       "      <td>110.000000</td>\n",
       "      <td>1228.000000</td>\n",
       "      <td>209.000000</td>\n",
       "      <td>100.000000</td>\n",
       "      <td>960.000000</td>\n",
       "      <td>661672.000000</td>\n",
       "      <td>5.000000</td>\n",
       "      <td>192.566667</td>\n",
       "      <td>10.000000</td>\n",
       "      <td>10.000000</td>\n",
       "    </tr>\n",
       "  </tbody>\n",
       "</table>\n",
       "</div>"
      ],
      "text/plain": [
       "         subject_id       hadm_id       stay_id    temperature      heartrate  \\\n",
       "count  4.250790e+05  2.030140e+05  4.250790e+05  401577.000000  407989.000000   \n",
       "mean   1.500873e+07  2.499499e+07  3.499737e+07      98.083969      85.079971   \n",
       "std    2.878475e+06  2.888739e+06  2.888331e+06       0.975244      18.041731   \n",
       "min    1.000003e+07  2.000002e+07  3.000001e+07      82.400000       1.000000   \n",
       "25%    1.251793e+07  2.248985e+07  3.249802e+07      97.500000      72.000000   \n",
       "50%    1.501632e+07  2.499939e+07  3.499401e+07      98.000000      84.000000   \n",
       "75%    1.749900e+07  2.749390e+07  3.750391e+07      98.600000      96.000000   \n",
       "max    1.999999e+07  2.999981e+07  3.999996e+07     110.000000    1228.000000   \n",
       "\n",
       "            resprate          o2sat            sbp            dbp  \\\n",
       "count  404723.000000  404436.000000  406684.000000  405989.000000   \n",
       "mean       17.552284      98.375138     134.937554      81.262128   \n",
       "std         2.532867       2.457084      22.669486    1057.229145   \n",
       "min         0.000000       0.000000       1.000000       0.000000   \n",
       "25%        16.000000      97.000000     120.000000      68.000000   \n",
       "50%        18.000000      99.000000     133.000000      77.000000   \n",
       "75%        18.000000     100.000000     148.000000      87.000000   \n",
       "max       209.000000     100.000000     960.000000  661672.000000   \n",
       "\n",
       "              acuity  stay_length_hours   pain_cleaned  pain_cleaned_advanced  \n",
       "count  418092.000000      425079.000000  385763.000000          398032.000000  \n",
       "mean        2.625092           7.156703       4.166849               4.334821  \n",
       "std         0.708079           6.565501       3.754275               3.822145  \n",
       "min         1.000000           0.000000      -0.000000               0.000000  \n",
       "25%         2.000000           3.533333       0.000000               0.000000  \n",
       "50%         3.000000           5.466667       4.000000               5.000000  \n",
       "75%         3.000000           8.316667       8.000000               8.000000  \n",
       "max         5.000000         192.566667      10.000000              10.000000  "
      ]
     },
     "execution_count": 27,
     "metadata": {},
     "output_type": "execute_result"
    }
   ],
   "source": [
    "#Check basic summary statistics to make sure it looks like all of the cleaning worked.\n",
    "df.describe()"
   ]
  },
  {
   "cell_type": "code",
   "execution_count": 28,
   "metadata": {},
   "outputs": [
    {
     "data": {
      "text/plain": [
       "disposition\n",
       "HOME                           241627\n",
       "ADMITTED                       158008\n",
       "TRANSFER                         7025\n",
       "LEFT WITHOUT BEING SEEN          6154\n",
       "ELOPED                           5710\n",
       "OTHER                            4297\n",
       "LEFT AGAINST MEDICAL ADVICE      1881\n",
       "EXPIRED                           377\n",
       "Name: count, dtype: int64"
      ]
     },
     "execution_count": 28,
     "metadata": {},
     "output_type": "execute_result"
    }
   ],
   "source": [
    "df['disposition'].value_counts()"
   ]
  },
  {
   "cell_type": "code",
   "execution_count": 29,
   "metadata": {},
   "outputs": [],
   "source": [
    "#hadm_id is a code for admission to the hospital from the ED. This information is not relevant to our work, so I am dropping it.\n",
    "#We actually need the hadm_id variable to merge with the HOSP data, so leave this in for now.\n",
    "#df.drop('hadm_id', axis=1, inplace=True)\n",
    "\n",
    "#Also, we are not going to make predictions for when the disposition (that is, means of leaving the hospital) is 'eloped', 'left without being seen', \n",
    "#'left against medical advice'. We also shouldn't use the variable 'disposition' as part of the predictor variable set, so I am going to drop it.\n",
    "df = df[~df['disposition'].isin(['ELOPED','LEFT WITHOUT BEING SEEN', 'LEFT AGAINST MEDICAL ADVICE'])]\n",
    "df.drop('disposition', axis=1, inplace=True)"
   ]
  },
  {
   "cell_type": "code",
   "execution_count": 30,
   "metadata": {},
   "outputs": [],
   "source": [
    "from sklearn.model_selection import train_test_split"
   ]
  },
  {
   "cell_type": "code",
   "execution_count": 31,
   "metadata": {},
   "outputs": [],
   "source": [
    "train, test= train_test_split(df, shuffle = True, random_state = 489,test_size=.1)"
   ]
  },
  {
   "cell_type": "code",
   "execution_count": 32,
   "metadata": {},
   "outputs": [],
   "source": [
    "train.to_csv('train.csv', index=False)\n",
    "test.to_csv('test.csv', index=False)"
   ]
  },
  {
   "cell_type": "code",
   "execution_count": 33,
   "metadata": {},
   "outputs": [
    {
     "name": "stdout",
     "output_type": "stream",
     "text": [
      "201695\n",
      "411334\n"
     ]
    }
   ],
   "source": [
    "print(len(df['subject_id'].unique()))\n",
    "print(len(df['stay_id'].unique()))"
   ]
  },
  {
   "cell_type": "markdown",
   "metadata": {},
   "source": []
  },
  {
   "cell_type": "code",
   "execution_count": 34,
   "metadata": {},
   "outputs": [
    {
     "data": {
      "text/plain": [
       "count    201695.000000\n",
       "mean          2.039386\n",
       "std           3.174314\n",
       "min           1.000000\n",
       "25%           1.000000\n",
       "50%           1.000000\n",
       "75%           2.000000\n",
       "max         276.000000\n",
       "Name: count, dtype: float64"
      ]
     },
     "execution_count": 34,
     "metadata": {},
     "output_type": "execute_result"
    }
   ],
   "source": [
    "counts=df['subject_id'].value_counts()\n",
    "counts.describe()"
   ]
  },
  {
   "cell_type": "code",
   "execution_count": null,
   "metadata": {},
   "outputs": [],
   "source": []
  }
 ],
 "metadata": {
  "kernelspec": {
   "display_name": "edpredict",
   "language": "python",
   "name": "python3"
  },
  "language_info": {
   "codemirror_mode": {
    "name": "ipython",
    "version": 3
   },
   "file_extension": ".py",
   "mimetype": "text/x-python",
   "name": "python",
   "nbconvert_exporter": "python",
   "pygments_lexer": "ipython3",
   "version": "3.11.11"
  }
 },
 "nbformat": 4,
 "nbformat_minor": 2
}
