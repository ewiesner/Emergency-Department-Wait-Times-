{
 "cells": [
  {
   "cell_type": "code",
   "execution_count": 1,
   "metadata": {},
   "outputs": [],
   "source": [
    "from transformers import AutoModelForCausalLM, AutoTokenizer\n",
    "import torch\n",
    "import pandas as pd\n",
    "import glob\n",
    "from read_csv_gz import read_csv_gz\n",
    "import matplotlib.pyplot as plt\n",
    "from tqdm import tqdm"
   ]
  },
  {
   "cell_type": "code",
   "execution_count": 2,
   "metadata": {},
   "outputs": [],
   "source": [
    "ed_diagnosis_df = read_csv_gz(\"/Users/hyzhang116/erdos_treating_time/Emergency-Room-Wait-Times-/mimic-iv-ed-2.2/ed/diagnosis.csv.gz\")\n",
    "ed_edstays_df = read_csv_gz(\"/Users/hyzhang116/erdos_treating_time/Emergency-Room-Wait-Times-/mimic-iv-ed-2.2/ed/edstays.csv.gz\")\n",
    "ed_medrecon_df = read_csv_gz(\"/Users/hyzhang116/erdos_treating_time/Emergency-Room-Wait-Times-/mimic-iv-ed-2.2/ed/medrecon.csv.gz\")\n",
    "ed_pyxis_df = read_csv_gz(\"/Users/hyzhang116/erdos_treating_time/Emergency-Room-Wait-Times-/mimic-iv-ed-2.2/ed/pyxis.csv.gz\")\n",
    "ed_triage_df = read_csv_gz(\"/Users/hyzhang116/erdos_treating_time/Emergency-Room-Wait-Times-/mimic-iv-ed-2.2/ed/triage.csv.gz\")\n",
    "ed_vitalsign_df = read_csv_gz(\"/Users/hyzhang116/erdos_treating_time/Emergency-Room-Wait-Times-/mimic-iv-ed-2.2/ed/vitalsign.csv.gz\")"
   ]
  },
  {
   "cell_type": "code",
   "execution_count": 3,
   "metadata": {},
   "outputs": [],
   "source": [
    "def text_gen(x):\n",
    "    return f\"You are a medical expert assisting in an Emergency Department (ED). Your task is to assess the **diagnostic complexity** of the following chief complaint on a scale of 1-10:\\n- **1-3 (Low Complexity):** Easily diagnosable, requires minimal tests.\\n- **4-6 (Moderate Complexity):** Needs some testing, single specialty.\\n- **7-10 (High Complexity):** Requires multiple tests, possible admission, specialist consults.\\nChief Complaint: **{x}**\\nPlease only return an integer of Complexity Score (1-10):\""
   ]
  },
  {
   "cell_type": "code",
   "execution_count": 4,
   "metadata": {},
   "outputs": [
    {
     "name": "stdout",
     "output_type": "stream",
     "text": [
      "425087\n"
     ]
    }
   ],
   "source": [
    "print(ed_triage_df.shape[0])"
   ]
  },
  {
   "cell_type": "code",
   "execution_count": 17,
   "metadata": {},
   "outputs": [],
   "source": [
    "def converter(df, m):\n",
    "    ans = []\n",
    "    temp = []\n",
    "    for i in range(df.shape[0]):\n",
    "        text = text_gen(df.iloc[i])\n",
    "        temp.append(text)\n",
    "        if (i + 1) % m == 0:\n",
    "            if len(temp) != 0 :\n",
    "                ans.append(temp)\n",
    "            temp = []\n",
    "    if len(temp) != 0:\n",
    "        ans.append(temp)\n",
    "    return ans"
   ]
  },
  {
   "cell_type": "code",
   "execution_count": 14,
   "metadata": {},
   "outputs": [],
   "source": [
    "device = \"cuda\" if torch.cuda.is_available() else \"cpu\""
   ]
  },
  {
   "cell_type": "code",
   "execution_count": 16,
   "metadata": {},
   "outputs": [],
   "source": [
    "def indefence_prompt(batch_lst, tokenizer, model, device=\"cuda\" if torch.cuda.is_available() else \"cpu\"):\n",
    "    ans = []\n",
    "    for batch in tqdm(batch_lst):\n",
    "        bs = len(batch)\n",
    "        inputs = tokenizer(batch, padding=True, padding_side='left', return_tensors=\"pt\").to(device)\n",
    "        output_sequences = model.generate(**inputs, max_length=200)\n",
    "        for i in range(bs):\n",
    "            generated_text = tokenizer.decode(output_sequences[i, :], skip_special_tokens=True)\n",
    "            ans.append(generated_text)\n",
    "    return pd.Series(ans)\n",
    "        \n",
    "        \n"
   ]
  },
  {
   "cell_type": "code",
   "execution_count": 23,
   "metadata": {},
   "outputs": [],
   "source": [
    "lst_prompt = converter(ed_triage_df[\"chiefcomplaint\"].head(234), 10)"
   ]
  },
  {
   "cell_type": "code",
   "execution_count": 24,
   "metadata": {},
   "outputs": [],
   "source": [
    "model_name = \"EleutherAI/pythia-70m\"\n",
    "tokenizer = AutoTokenizer.from_pretrained(model_name)\n",
    "model = AutoModelForCausalLM.from_pretrained(model_name, torch_dtype=torch.float32)\n",
    "tokenizer.pad_token = tokenizer.eos_token"
   ]
  },
  {
   "cell_type": "code",
   "execution_count": 26,
   "metadata": {},
   "outputs": [
    {
     "data": {
      "text/plain": [
       "GPTNeoXForCausalLM(\n",
       "  (gpt_neox): GPTNeoXModel(\n",
       "    (embed_in): Embedding(50304, 512)\n",
       "    (emb_dropout): Dropout(p=0.0, inplace=False)\n",
       "    (layers): ModuleList(\n",
       "      (0-5): 6 x GPTNeoXLayer(\n",
       "        (input_layernorm): LayerNorm((512,), eps=1e-05, elementwise_affine=True)\n",
       "        (post_attention_layernorm): LayerNorm((512,), eps=1e-05, elementwise_affine=True)\n",
       "        (post_attention_dropout): Dropout(p=0.0, inplace=False)\n",
       "        (post_mlp_dropout): Dropout(p=0.0, inplace=False)\n",
       "        (attention): GPTNeoXAttention(\n",
       "          (query_key_value): Linear(in_features=512, out_features=1536, bias=True)\n",
       "          (dense): Linear(in_features=512, out_features=512, bias=True)\n",
       "        )\n",
       "        (mlp): GPTNeoXMLP(\n",
       "          (dense_h_to_4h): Linear(in_features=512, out_features=2048, bias=True)\n",
       "          (dense_4h_to_h): Linear(in_features=2048, out_features=512, bias=True)\n",
       "          (act): GELUActivation()\n",
       "        )\n",
       "      )\n",
       "    )\n",
       "    (final_layer_norm): LayerNorm((512,), eps=1e-05, elementwise_affine=True)\n",
       "    (rotary_emb): GPTNeoXRotaryEmbedding()\n",
       "  )\n",
       "  (embed_out): Linear(in_features=512, out_features=50304, bias=False)\n",
       ")"
      ]
     },
     "execution_count": 26,
     "metadata": {},
     "output_type": "execute_result"
    }
   ],
   "source": [
    "device = \"cuda\" if torch.cuda.is_available() else \"cpu\"\n",
    "model.to(device)"
   ]
  },
  {
   "cell_type": "code",
   "execution_count": 27,
   "metadata": {},
   "outputs": [
    {
     "name": "stderr",
     "output_type": "stream",
     "text": [
      "  0%|          | 0/24 [00:00<?, ?it/s]Setting `pad_token_id` to `eos_token_id`:0 for open-end generation.\n",
      "  4%|▍         | 1/24 [00:01<00:30,  1.33s/it]Setting `pad_token_id` to `eos_token_id`:0 for open-end generation.\n",
      "  8%|▊         | 2/24 [00:02<00:29,  1.35s/it]Setting `pad_token_id` to `eos_token_id`:0 for open-end generation.\n",
      " 12%|█▎        | 3/24 [00:03<00:27,  1.30s/it]Setting `pad_token_id` to `eos_token_id`:0 for open-end generation.\n",
      " 17%|█▋        | 4/24 [00:05<00:27,  1.38s/it]Setting `pad_token_id` to `eos_token_id`:0 for open-end generation.\n",
      " 21%|██        | 5/24 [00:06<00:26,  1.39s/it]Setting `pad_token_id` to `eos_token_id`:0 for open-end generation.\n",
      " 25%|██▌       | 6/24 [00:08<00:26,  1.45s/it]Setting `pad_token_id` to `eos_token_id`:0 for open-end generation.\n",
      " 29%|██▉       | 7/24 [00:09<00:24,  1.45s/it]Setting `pad_token_id` to `eos_token_id`:0 for open-end generation.\n",
      " 33%|███▎      | 8/24 [00:11<00:22,  1.42s/it]Setting `pad_token_id` to `eos_token_id`:0 for open-end generation.\n",
      " 38%|███▊      | 9/24 [00:12<00:20,  1.38s/it]Setting `pad_token_id` to `eos_token_id`:0 for open-end generation.\n",
      " 42%|████▏     | 10/24 [00:13<00:19,  1.36s/it]Setting `pad_token_id` to `eos_token_id`:0 for open-end generation.\n",
      " 46%|████▌     | 11/24 [00:15<00:17,  1.38s/it]Setting `pad_token_id` to `eos_token_id`:0 for open-end generation.\n",
      " 50%|█████     | 12/24 [00:16<00:16,  1.38s/it]Setting `pad_token_id` to `eos_token_id`:0 for open-end generation.\n",
      " 54%|█████▍    | 13/24 [00:18<00:15,  1.39s/it]Setting `pad_token_id` to `eos_token_id`:0 for open-end generation.\n",
      " 58%|█████▊    | 14/24 [00:19<00:13,  1.38s/it]Setting `pad_token_id` to `eos_token_id`:0 for open-end generation.\n",
      " 62%|██████▎   | 15/24 [00:20<00:12,  1.35s/it]Setting `pad_token_id` to `eos_token_id`:0 for open-end generation.\n",
      " 67%|██████▋   | 16/24 [00:22<00:10,  1.37s/it]Setting `pad_token_id` to `eos_token_id`:0 for open-end generation.\n",
      " 71%|███████   | 17/24 [00:23<00:09,  1.37s/it]Setting `pad_token_id` to `eos_token_id`:0 for open-end generation.\n",
      " 75%|███████▌  | 18/24 [00:24<00:08,  1.38s/it]Setting `pad_token_id` to `eos_token_id`:0 for open-end generation.\n",
      " 79%|███████▉  | 19/24 [00:26<00:07,  1.42s/it]Setting `pad_token_id` to `eos_token_id`:0 for open-end generation.\n",
      " 83%|████████▎ | 20/24 [00:27<00:05,  1.44s/it]Setting `pad_token_id` to `eos_token_id`:0 for open-end generation.\n",
      " 88%|████████▊ | 21/24 [00:29<00:04,  1.48s/it]Setting `pad_token_id` to `eos_token_id`:0 for open-end generation.\n",
      " 92%|█████████▏| 22/24 [00:30<00:02,  1.47s/it]Setting `pad_token_id` to `eos_token_id`:0 for open-end generation.\n",
      " 96%|█████████▌| 23/24 [00:32<00:01,  1.41s/it]Setting `pad_token_id` to `eos_token_id`:0 for open-end generation.\n",
      "100%|██████████| 24/24 [00:33<00:00,  1.38s/it]\n"
     ]
    }
   ],
   "source": [
    "res = indefence_prompt(lst_prompt, tokenizer, model, device=\"cuda\" if torch.cuda.is_available() else \"cpu\")"
   ]
  },
  {
   "cell_type": "code",
   "execution_count": 28,
   "metadata": {},
   "outputs": [
    {
     "name": "stdout",
     "output_type": "stream",
     "text": [
      "0      You are a medical expert assisting in an Emerg...\n",
      "1      You are a medical expert assisting in an Emerg...\n",
      "2      You are a medical expert assisting in an Emerg...\n",
      "3      You are a medical expert assisting in an Emerg...\n",
      "4      You are a medical expert assisting in an Emerg...\n",
      "                             ...                        \n",
      "229    You are a medical expert assisting in an Emerg...\n",
      "230    You are a medical expert assisting in an Emerg...\n",
      "231    You are a medical expert assisting in an Emerg...\n",
      "232    You are a medical expert assisting in an Emerg...\n",
      "233    You are a medical expert assisting in an Emerg...\n",
      "Length: 234, dtype: object\n"
     ]
    }
   ],
   "source": [
    "print(res)"
   ]
  }
 ],
 "metadata": {
  "kernelspec": {
   "display_name": "test",
   "language": "python",
   "name": "python3"
  },
  "language_info": {
   "codemirror_mode": {
    "name": "ipython",
    "version": 3
   },
   "file_extension": ".py",
   "mimetype": "text/x-python",
   "name": "python",
   "nbconvert_exporter": "python",
   "pygments_lexer": "ipython3",
   "version": "3.9.16"
  }
 },
 "nbformat": 4,
 "nbformat_minor": 2
}
