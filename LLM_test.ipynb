{
 "cells": [
  {
   "cell_type": "code",
   "execution_count": 56,
   "metadata": {},
   "outputs": [],
   "source": [
    "from transformers import AutoModel, AutoModelForCausalLM, AutoTokenizer, T5Tokenizer, T5ForConditionalGeneration\n",
    "import torch\n",
    "import pandas as pd\n",
    "import glob\n",
    "from read_csv_gz import read_csv_gz\n",
    "import matplotlib.pyplot as plt\n",
    "from tqdm import tqdm"
   ]
  },
  {
   "cell_type": "code",
   "execution_count": 2,
   "metadata": {},
   "outputs": [],
   "source": [
    "ed_diagnosis_df = read_csv_gz(\"ed_data/diagnosis.csv.gz\")\n",
    "ed_edstays_df = read_csv_gz(\"ed_data/edstays.csv.gz\")\n",
    "ed_medrecon_df = read_csv_gz(\"ed_data/medrecon.csv.gz\")\n",
    "ed_pyxis_df = read_csv_gz(\"ed_data/pyxis.csv.gz\")\n",
    "ed_triage_df = read_csv_gz(\"ed_data/triage.csv.gz\")\n",
    "ed_vitalsign_df = read_csv_gz(\"ed_data/vitalsign.csv.gz\")\n"
   ]
  },
  {
   "cell_type": "code",
   "execution_count": 3,
   "metadata": {},
   "outputs": [],
   "source": [
    "# def text_gen(x):\n",
    "#     return f\"You are a medical expert assisting in an Emergency Department (ED). Your task is to assess the **diagnostic complexity** of the following chief complaint on a scale of 1-10:\\n- **1-3 (Low Complexity):** Easily diagnosable, requires minimal tests.\\n- **4-6 (Moderate Complexity):** Needs some testing, single specialty.\\n- **7-10 (High Complexity):** Requires multiple tests, possible admission, specialist consults.\\nChief Complaint: **{x}**\\nPlease only return an integer of Complexity Score (1-10):\""
   ]
  },
  {
   "cell_type": "code",
   "execution_count": 3,
   "metadata": {},
   "outputs": [],
   "source": [
    "def text_gen(x):\n",
    "    return f\"The patient is suffering from {x}\""
   ]
  },
  {
   "cell_type": "code",
   "execution_count": 4,
   "metadata": {},
   "outputs": [
    {
     "name": "stdout",
     "output_type": "stream",
     "text": [
      "425087\n"
     ]
    }
   ],
   "source": [
    "print(ed_triage_df.shape[0])"
   ]
  },
  {
   "cell_type": "code",
   "execution_count": 5,
   "metadata": {},
   "outputs": [],
   "source": [
    "def converter(df, m):\n",
    "    ans = []\n",
    "    temp = []\n",
    "    for i in range(df.shape[0]):\n",
    "        text = text_gen(df.iloc[i])\n",
    "        temp.append(text)\n",
    "        if (i + 1) % m == 0:\n",
    "            if len(temp) != 0 :\n",
    "                ans.append(temp)\n",
    "            temp = []\n",
    "    if len(temp) != 0:\n",
    "        ans.append(temp)\n",
    "    return ans"
   ]
  },
  {
   "cell_type": "code",
   "execution_count": 6,
   "metadata": {},
   "outputs": [],
   "source": [
    "device = \"cuda\" if torch.cuda.is_available() else \"cpu\""
   ]
  },
  {
   "cell_type": "code",
   "execution_count": 77,
   "metadata": {},
   "outputs": [],
   "source": [
    "def inference_prompt(batch_lst, tokenizer, model, device=\"cuda\" if torch.cuda.is_available() else \"cpu\"):\n",
    "    ans = []\n",
    "    for batch in tqdm(batch_lst):\n",
    "        bs = len(batch)\n",
    "        inputs = tokenizer(batch, padding=True, return_tensors=\"pt\", truncation=True, max_length=128)\n",
    "        inputs = {k: v.to(device) for k, v in inputs.items()}\n",
    "        with torch.no_grad():\n",
    "            output_sequences = model(**inputs)\n",
    "            outputs_cls_embeddings = output_sequences.last_hidden_state[:, 0, :].cpu().numpy() \n",
    "        for i in range(bs):\n",
    "            ans.append(outputs_cls_embeddings[i, :])\n",
    "\n",
    "    return pd.Series(ans)\n",
    "        \n",
    "        \n"
   ]
  },
  {
   "cell_type": "code",
   "execution_count": 78,
   "metadata": {},
   "outputs": [],
   "source": [
    "lst_prompt = converter(ed_triage_df[\"chiefcomplaint\"].head(234), 10)"
   ]
  },
  {
   "cell_type": "code",
   "execution_count": 79,
   "metadata": {},
   "outputs": [],
   "source": [
    "model_name = \"bionlp/bluebert_pubmed_mimic_uncased_L-12_H-768_A-12\"\n",
    "tokenizer = AutoTokenizer.from_pretrained(model_name)\n",
    "model = AutoModel.from_pretrained(model_name)"
   ]
  },
  {
   "cell_type": "code",
   "execution_count": 80,
   "metadata": {},
   "outputs": [
    {
     "data": {
      "text/plain": [
       "BertModel(\n",
       "  (embeddings): BertEmbeddings(\n",
       "    (word_embeddings): Embedding(30522, 768, padding_idx=0)\n",
       "    (position_embeddings): Embedding(512, 768)\n",
       "    (token_type_embeddings): Embedding(2, 768)\n",
       "    (LayerNorm): LayerNorm((768,), eps=1e-12, elementwise_affine=True)\n",
       "    (dropout): Dropout(p=0.1, inplace=False)\n",
       "  )\n",
       "  (encoder): BertEncoder(\n",
       "    (layer): ModuleList(\n",
       "      (0-11): 12 x BertLayer(\n",
       "        (attention): BertAttention(\n",
       "          (self): BertSelfAttention(\n",
       "            (query): Linear(in_features=768, out_features=768, bias=True)\n",
       "            (key): Linear(in_features=768, out_features=768, bias=True)\n",
       "            (value): Linear(in_features=768, out_features=768, bias=True)\n",
       "            (dropout): Dropout(p=0.1, inplace=False)\n",
       "          )\n",
       "          (output): BertSelfOutput(\n",
       "            (dense): Linear(in_features=768, out_features=768, bias=True)\n",
       "            (LayerNorm): LayerNorm((768,), eps=1e-12, elementwise_affine=True)\n",
       "            (dropout): Dropout(p=0.1, inplace=False)\n",
       "          )\n",
       "        )\n",
       "        (intermediate): BertIntermediate(\n",
       "          (dense): Linear(in_features=768, out_features=3072, bias=True)\n",
       "          (intermediate_act_fn): GELUActivation()\n",
       "        )\n",
       "        (output): BertOutput(\n",
       "          (dense): Linear(in_features=3072, out_features=768, bias=True)\n",
       "          (LayerNorm): LayerNorm((768,), eps=1e-12, elementwise_affine=True)\n",
       "          (dropout): Dropout(p=0.1, inplace=False)\n",
       "        )\n",
       "      )\n",
       "    )\n",
       "  )\n",
       "  (pooler): BertPooler(\n",
       "    (dense): Linear(in_features=768, out_features=768, bias=True)\n",
       "    (activation): Tanh()\n",
       "  )\n",
       ")"
      ]
     },
     "execution_count": 80,
     "metadata": {},
     "output_type": "execute_result"
    }
   ],
   "source": [
    "device = \"cuda\" if torch.cuda.is_available() else \"cpu\"\n",
    "model.to(device)"
   ]
  },
  {
   "cell_type": "code",
   "execution_count": 81,
   "metadata": {},
   "outputs": [
    {
     "name": "stderr",
     "output_type": "stream",
     "text": [
      "100%|██████████| 24/24 [00:01<00:00, 13.49it/s]\n"
     ]
    }
   ],
   "source": [
    "res = inference_prompt(lst_prompt, tokenizer, model, device=\"cuda\" if torch.cuda.is_available() else \"cpu\")"
   ]
  },
  {
   "cell_type": "code",
   "execution_count": 82,
   "metadata": {},
   "outputs": [
    {
     "name": "stdout",
     "output_type": "stream",
     "text": [
      "(768,)\n",
      "(234,)\n"
     ]
    }
   ],
   "source": [
    "print(res.iloc[0].shape)\n",
    "print(res.shape)"
   ]
  }
 ],
 "metadata": {
  "kernelspec": {
   "display_name": "test",
   "language": "python",
   "name": "python3"
  },
  "language_info": {
   "codemirror_mode": {
    "name": "ipython",
    "version": 3
   },
   "file_extension": ".py",
   "mimetype": "text/x-python",
   "name": "python",
   "nbconvert_exporter": "python",
   "pygments_lexer": "ipython3",
   "version": "3.9.16"
  }
 },
 "nbformat": 4,
 "nbformat_minor": 2
}
