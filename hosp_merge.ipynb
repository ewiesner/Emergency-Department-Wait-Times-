{
 "cells": [
  {
   "cell_type": "code",
   "execution_count": 3,
   "metadata": {},
   "outputs": [],
   "source": [
    "import pandas as pd\n",
    "import glob\n",
    "from read_csv_gz import read_csv_gz\n",
    "import matplotlib.pyplot as plt\n",
    "import seaborn as sns"
   ]
  },
  {
   "cell_type": "code",
   "execution_count": 4,
   "metadata": {},
   "outputs": [],
   "source": [
    "ed_diagnosis_df = read_csv_gz(\"ed_data/diagnosis.csv.gz\")\n",
    "ed_edstays_df = read_csv_gz(\"ed_data/edstays.csv.gz\")\n",
    "ed_medrecon_df = read_csv_gz(\"ed_data/medrecon.csv.gz\")\n",
    "ed_pyxis_df = read_csv_gz(\"ed_data/pyxis.csv.gz\")\n",
    "ed_triage_df = read_csv_gz(\"ed_data/triage.csv.gz\")\n",
    "ed_vitalsign_df = read_csv_gz(\"ed_data/vitalsign.csv.gz\")\n",
    "hosp_admissions_df = read_csv_gz(\"hosp_data/admissions.csv.gz\")\n",
    "hosp_patients_df = read_csv_gz(\"hosp_data/patients.csv.gz\")"
   ]
  },
  {
   "cell_type": "code",
   "execution_count": 19,
   "metadata": {},
   "outputs": [
    {
     "data": {
      "text/html": [
       "<div>\n",
       "<style scoped>\n",
       "    .dataframe tbody tr th:only-of-type {\n",
       "        vertical-align: middle;\n",
       "    }\n",
       "\n",
       "    .dataframe tbody tr th {\n",
       "        vertical-align: top;\n",
       "    }\n",
       "\n",
       "    .dataframe thead th {\n",
       "        text-align: right;\n",
       "    }\n",
       "</style>\n",
       "<table border=\"1\" class=\"dataframe\">\n",
       "  <thead>\n",
       "    <tr style=\"text-align: right;\">\n",
       "      <th></th>\n",
       "      <th>subject_id</th>\n",
       "      <th>hadm_id</th>\n",
       "      <th>stay_id</th>\n",
       "    </tr>\n",
       "  </thead>\n",
       "  <tbody>\n",
       "    <tr>\n",
       "      <th>count</th>\n",
       "      <td>4.250870e+05</td>\n",
       "      <td>2.030160e+05</td>\n",
       "      <td>4.250870e+05</td>\n",
       "    </tr>\n",
       "    <tr>\n",
       "      <th>mean</th>\n",
       "      <td>1.500871e+07</td>\n",
       "      <td>2.499495e+07</td>\n",
       "      <td>3.499735e+07</td>\n",
       "    </tr>\n",
       "    <tr>\n",
       "      <th>std</th>\n",
       "      <td>2.878486e+06</td>\n",
       "      <td>2.888745e+06</td>\n",
       "      <td>2.888342e+06</td>\n",
       "    </tr>\n",
       "    <tr>\n",
       "      <th>min</th>\n",
       "      <td>1.000003e+07</td>\n",
       "      <td>2.000002e+07</td>\n",
       "      <td>3.000001e+07</td>\n",
       "    </tr>\n",
       "    <tr>\n",
       "      <th>25%</th>\n",
       "      <td>1.251789e+07</td>\n",
       "      <td>2.248982e+07</td>\n",
       "      <td>3.249799e+07</td>\n",
       "    </tr>\n",
       "    <tr>\n",
       "      <th>50%</th>\n",
       "      <td>1.501628e+07</td>\n",
       "      <td>2.499935e+07</td>\n",
       "      <td>3.499395e+07</td>\n",
       "    </tr>\n",
       "    <tr>\n",
       "      <th>75%</th>\n",
       "      <td>1.749900e+07</td>\n",
       "      <td>2.749388e+07</td>\n",
       "      <td>3.750387e+07</td>\n",
       "    </tr>\n",
       "    <tr>\n",
       "      <th>max</th>\n",
       "      <td>1.999999e+07</td>\n",
       "      <td>2.999981e+07</td>\n",
       "      <td>3.999996e+07</td>\n",
       "    </tr>\n",
       "  </tbody>\n",
       "</table>\n",
       "</div>"
      ],
      "text/plain": [
       "         subject_id       hadm_id       stay_id\n",
       "count  4.250870e+05  2.030160e+05  4.250870e+05\n",
       "mean   1.500871e+07  2.499495e+07  3.499735e+07\n",
       "std    2.878486e+06  2.888745e+06  2.888342e+06\n",
       "min    1.000003e+07  2.000002e+07  3.000001e+07\n",
       "25%    1.251789e+07  2.248982e+07  3.249799e+07\n",
       "50%    1.501628e+07  2.499935e+07  3.499395e+07\n",
       "75%    1.749900e+07  2.749388e+07  3.750387e+07\n",
       "max    1.999999e+07  2.999981e+07  3.999996e+07"
      ]
     },
     "execution_count": 19,
     "metadata": {},
     "output_type": "execute_result"
    }
   ],
   "source": [
    "# ed_edstays_df.head(5)\n",
    "ed_edstays_df.describe()"
   ]
  },
  {
   "cell_type": "code",
   "execution_count": 6,
   "metadata": {},
   "outputs": [],
   "source": [
    "# hosp_admissions_df.head(15)"
   ]
  },
  {
   "cell_type": "code",
   "execution_count": 7,
   "metadata": {},
   "outputs": [
    {
     "data": {
      "text/plain": [
       "False    537006\n",
       "True       9022\n",
       "Name: count, dtype: int64"
      ]
     },
     "execution_count": 7,
     "metadata": {},
     "output_type": "execute_result"
    }
   ],
   "source": [
    "# Why does hosptial admittime come BEFORE edouttime in most cases?\n",
    "(hosp_admissions_df['edouttime'] < hosp_admissions_df['admittime']).value_counts()"
   ]
  },
  {
   "cell_type": "code",
   "execution_count": 8,
   "metadata": {},
   "outputs": [],
   "source": [
    "# hosp_patients_df.head(10)"
   ]
  },
  {
   "cell_type": "code",
   "execution_count": 9,
   "metadata": {},
   "outputs": [],
   "source": [
    "def merge_df(df_chef, df_2, df_3):\n",
    "    \"\"\"\n",
    "    Merge the three dataframes together and calculate the patient age at the adimission time to emergency department.\n",
    "    :param df_chef: the main dataframe, edstays\n",
    "    :param df_2: the second dataframe, patients, which contains the patient's anchor age and anchor year\n",
    "    :param df_3: the third dataframe, admissions, which contains the patient's language (Note: insurance and marital status could be different for a given patient thus are not used in this function)\n",
    "    :return: a new dataframe with the patient's age and language at the admission time to emergency department\n",
    "    \"\"\" \n",
    "    df_2_cleaned = df_2[['subject_id', 'anchor_age', 'anchor_year']].drop_duplicates()\n",
    "    # df_3_cleaned = df_3[['subject_id', 'insurance', 'marital_status', 'language']].drop_duplicates(subset='subject_id')\n",
    "    df_3_cleaned = df_3[['subject_id', 'language']].drop_duplicates() \n",
    "    ans = pd.merge(df_chef, df_3_cleaned, on='subject_id', how='left') \n",
    "    ans = pd.merge(ans, df_2_cleaned, on='subject_id', how='left') \n",
    "    ans['admission_age'] = pd.to_datetime(ans['intime']).dt.year - ans['anchor_year'] + ans['anchor_age'] # calculate age at admission time\n",
    "    ans = ans.drop(columns=['anchor_age', 'anchor_year']) # drop anchor_age and anchor_year and only keep admission_age\n",
    "    return ans\n"
   ]
  },
  {
   "cell_type": "code",
   "execution_count": 10,
   "metadata": {},
   "outputs": [],
   "source": [
    "merged_df = merge_df(df_chef=ed_edstays_df, df_2=hosp_patients_df, df_3=hosp_admissions_df)"
   ]
  },
  {
   "cell_type": "code",
   "execution_count": 21,
   "metadata": {},
   "outputs": [
    {
     "data": {
      "text/plain": [
       "language\n",
       "English                   286659\n",
       "Spanish                    13579\n",
       "Russian                     5135\n",
       "Chinese                     4438\n",
       "Kabuverdianu                3941\n",
       "Haitian                     1555\n",
       "Portuguese                  1414\n",
       "Other                        719\n",
       "Vietnamese                   565\n",
       "American Sign Language       550\n",
       "Modern Greek (1453-)         549\n",
       "Italian                      523\n",
       "Arabic                       412\n",
       "Persian                      372\n",
       "Polish                       260\n",
       "Amharic                      202\n",
       "Korean                       195\n",
       "Thai                         192\n",
       "Somali                       167\n",
       "French                       133\n",
       "Khmer                         96\n",
       "Bengali                       95\n",
       "Japanese                      89\n",
       "Hindi                         84\n",
       "Armenian                      50\n",
       "Name: count, dtype: int64"
      ]
     },
     "execution_count": 21,
     "metadata": {},
     "output_type": "execute_result"
    }
   ],
   "source": [
    "# merged_df.head(15)\n",
    "merged_df['language'].value_counts()"
   ]
  },
  {
   "cell_type": "code",
   "execution_count": 12,
   "metadata": {},
   "outputs": [
    {
     "name": "stdout",
     "output_type": "stream",
     "text": [
      "admission_age 0.00017878693067536764\n"
     ]
    }
   ],
   "source": [
    "cols = ['admission_age']\n",
    "for col in cols:\n",
    "    print(col, merged_df[col].isnull().sum() / merged_df.shape[0]) # check the percentage of missing values"
   ]
  },
  {
   "cell_type": "code",
   "execution_count": 13,
   "metadata": {},
   "outputs": [],
   "source": [
    "# merged_df[merged_df['admission_age'].isnull()] # check the rows with missing values"
   ]
  },
  {
   "cell_type": "code",
   "execution_count": 14,
   "metadata": {},
   "outputs": [
    {
     "data": {
      "text/plain": [
       "np.float64(0.5224130589738101)"
      ]
     },
     "execution_count": 14,
     "metadata": {},
     "output_type": "execute_result"
    }
   ],
   "source": [
    "new_merged_df = pd.merge(ed_edstays_df, hosp_admissions_df, on='hadm_id', how='left')\n",
    "ed_edstays_df['hadm_id'].isnull().sum() / ed_edstays_df.shape[0] # check the percentage of missing values"
   ]
  },
  {
   "cell_type": "markdown",
   "metadata": {},
   "source": [
    "def merge(df_chef, df_2, df_3):\n",
    "    # df_1 contains subject_id, df_2 contains age, df_3 contains insurance, languge, "
   ]
  },
  {
   "cell_type": "code",
   "execution_count": null,
   "metadata": {},
   "outputs": [],
   "source": []
  }
 ],
 "metadata": {
  "kernelspec": {
   "display_name": "erdos_spring_2025",
   "language": "python",
   "name": "python3"
  },
  "language_info": {
   "codemirror_mode": {
    "name": "ipython",
    "version": 3
   },
   "file_extension": ".py",
   "mimetype": "text/x-python",
   "name": "python",
   "nbconvert_exporter": "python",
   "pygments_lexer": "ipython3",
   "version": "3.12.8"
  }
 },
 "nbformat": 4,
 "nbformat_minor": 2
}
