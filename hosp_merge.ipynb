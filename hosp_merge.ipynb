{
 "cells": [
  {
   "cell_type": "code",
   "execution_count": 1,
   "metadata": {},
   "outputs": [],
   "source": [
    "import pandas as pd\n",
    "import glob\n",
    "from read_csv_gz import read_csv_gz\n",
    "import matplotlib.pyplot as plt\n",
    "import seaborn as sns"
   ]
  },
  {
   "cell_type": "code",
   "execution_count": 2,
   "metadata": {},
   "outputs": [],
   "source": [
    "ed_diagnosis_df = read_csv_gz(\"ed_data/diagnosis.csv.gz\")\n",
    "ed_edstays_df = read_csv_gz(\"ed_data/edstays.csv.gz\")\n",
    "ed_medrecon_df = read_csv_gz(\"ed_data/medrecon.csv.gz\")\n",
    "ed_pyxis_df = read_csv_gz(\"ed_data/pyxis.csv.gz\")\n",
    "ed_triage_df = read_csv_gz(\"ed_data/triage.csv.gz\")\n",
    "ed_vitalsign_df = read_csv_gz(\"ed_data/vitalsign.csv.gz\")\n",
    "hosp_admissions_df = read_csv_gz(\"hosp_data/admissions.csv.gz\")\n",
    "hosp_patients_df = read_csv_gz(\"hosp_data/patients.csv.gz\")"
   ]
  },
  {
   "cell_type": "code",
   "execution_count": 3,
   "metadata": {},
   "outputs": [],
   "source": [
    "# ed_edstays_df.head(5)"
   ]
  },
  {
   "cell_type": "code",
   "execution_count": 4,
   "metadata": {},
   "outputs": [],
   "source": [
    "# hosp_admissions_df.head(15)"
   ]
  },
  {
   "cell_type": "code",
   "execution_count": 5,
   "metadata": {},
   "outputs": [
    {
     "data": {
      "text/plain": [
       "False    537006\n",
       "True       9022\n",
       "Name: count, dtype: int64"
      ]
     },
     "execution_count": 5,
     "metadata": {},
     "output_type": "execute_result"
    }
   ],
   "source": [
    "# Why does hosptial admittime come BEFORE edouttime in most cases?\n",
    "(hosp_admissions_df['edouttime'] < hosp_admissions_df['admittime']).value_counts()"
   ]
  },
  {
   "cell_type": "code",
   "execution_count": 6,
   "metadata": {},
   "outputs": [],
   "source": [
    "# hosp_patients_df.head(10)"
   ]
  },
  {
   "cell_type": "code",
   "execution_count": 7,
   "metadata": {},
   "outputs": [],
   "source": [
    "def merge_df(df_chef, df_2, df_3):\n",
    "    \"\"\"\n",
    "    Merge the three dataframes together and calculate the patient age at the adimission time to emergency department.\n",
    "    :param df_chef: the main dataframe, edstays\n",
    "    :param df_2: the second dataframe, patients, which contains the patient's anchor age and anchor year\n",
    "    :param df_3: the third dataframe, admissions, which contains the patient's language (Note: insurance and marital status could be different for a given patient thus are not used in this function)\n",
    "    :return: a new dataframe with the patient's age and language at the admission time to emergency department\n",
    "    \"\"\" \n",
    "    df_2_cleaned = df_2[['subject_id', 'anchor_age', 'anchor_year']].drop_duplicates()\n",
    "    # df_3_cleaned = df_3[['subject_id', 'insurance', 'marital_status', 'language']].drop_duplicates(subset='subject_id')\n",
    "    df_3_cleaned = df_3[['subject_id', 'language']].drop_duplicates() \n",
    "    ans = pd.merge(df_chef, df_3_cleaned, on='subject_id', how='left') \n",
    "    ans = pd.merge(ans, df_2_cleaned, on='subject_id', how='left') \n",
    "    ans['admission_age'] = pd.to_datetime(ans['intime']).dt.year - ans['anchor_year'] + ans['anchor_age'] # calculate age at admission time\n",
    "    ans = ans.drop(columns=['anchor_age', 'anchor_year']) # drop anchor_age and anchor_year and only keep admission_age\n",
    "    return ans\n"
   ]
  },
  {
   "cell_type": "code",
   "execution_count": 8,
   "metadata": {},
   "outputs": [],
   "source": [
    "merged_df = merge_df(df_chef=ed_edstays_df, df_2=hosp_patients_df, df_3=hosp_admissions_df)"
   ]
  },
  {
   "cell_type": "code",
   "execution_count": 11,
   "metadata": {},
   "outputs": [],
   "source": [
    "# merged_df.head(15)"
   ]
  },
  {
   "cell_type": "code",
   "execution_count": null,
   "metadata": {},
   "outputs": [
    {
     "name": "stdout",
     "output_type": "stream",
     "text": [
      "admission_age 0.00017878693067536764\n"
     ]
    }
   ],
   "source": [
    "cols = ['admission_age']\n",
    "for col in cols:\n",
    "    print(col, merged_df[col].isnull().sum() / merged_df.shape[0]) # check the percentage of missing values"
   ]
  },
  {
   "cell_type": "code",
   "execution_count": null,
   "metadata": {},
   "outputs": [
    {
     "data": {
      "text/html": [
       "<div>\n",
       "<style scoped>\n",
       "    .dataframe tbody tr th:only-of-type {\n",
       "        vertical-align: middle;\n",
       "    }\n",
       "\n",
       "    .dataframe tbody tr th {\n",
       "        vertical-align: top;\n",
       "    }\n",
       "\n",
       "    .dataframe thead th {\n",
       "        text-align: right;\n",
       "    }\n",
       "</style>\n",
       "<table border=\"1\" class=\"dataframe\">\n",
       "  <thead>\n",
       "    <tr style=\"text-align: right;\">\n",
       "      <th></th>\n",
       "      <th>subject_id</th>\n",
       "      <th>hadm_id</th>\n",
       "      <th>stay_id</th>\n",
       "      <th>intime</th>\n",
       "      <th>outtime</th>\n",
       "      <th>gender</th>\n",
       "      <th>race</th>\n",
       "      <th>arrival_transport</th>\n",
       "      <th>disposition</th>\n",
       "      <th>language</th>\n",
       "      <th>admission_age</th>\n",
       "    </tr>\n",
       "  </thead>\n",
       "  <tbody>\n",
       "    <tr>\n",
       "      <th>478</th>\n",
       "      <td>10010663</td>\n",
       "      <td>22209635.0</td>\n",
       "      <td>38069845</td>\n",
       "      <td>2146-09-28 04:48:00</td>\n",
       "      <td>2146-09-28 23:55:39</td>\n",
       "      <td>F</td>\n",
       "      <td>HISPANIC/LATINO - GUATEMALAN</td>\n",
       "      <td>WALK IN</td>\n",
       "      <td>ADMITTED</td>\n",
       "      <td>NaN</td>\n",
       "      <td>NaN</td>\n",
       "    </tr>\n",
       "    <tr>\n",
       "      <th>479</th>\n",
       "      <td>10010663</td>\n",
       "      <td>NaN</td>\n",
       "      <td>32541009</td>\n",
       "      <td>2148-11-16 21:56:00</td>\n",
       "      <td>2148-11-17 03:13:00</td>\n",
       "      <td>F</td>\n",
       "      <td>HISPANIC/LATINO - GUATEMALAN</td>\n",
       "      <td>WALK IN</td>\n",
       "      <td>HOME</td>\n",
       "      <td>NaN</td>\n",
       "      <td>NaN</td>\n",
       "    </tr>\n",
       "    <tr>\n",
       "      <th>480</th>\n",
       "      <td>10010663</td>\n",
       "      <td>NaN</td>\n",
       "      <td>34448503</td>\n",
       "      <td>2144-11-19 18:05:00</td>\n",
       "      <td>2144-11-19 21:22:00</td>\n",
       "      <td>F</td>\n",
       "      <td>HISPANIC/LATINO - GUATEMALAN</td>\n",
       "      <td>WALK IN</td>\n",
       "      <td>HOME</td>\n",
       "      <td>NaN</td>\n",
       "      <td>NaN</td>\n",
       "    </tr>\n",
       "    <tr>\n",
       "      <th>481</th>\n",
       "      <td>10010663</td>\n",
       "      <td>NaN</td>\n",
       "      <td>37342540</td>\n",
       "      <td>2146-09-27 03:15:00</td>\n",
       "      <td>2146-09-27 08:29:00</td>\n",
       "      <td>F</td>\n",
       "      <td>HISPANIC/LATINO - GUATEMALAN</td>\n",
       "      <td>WALK IN</td>\n",
       "      <td>HOME</td>\n",
       "      <td>NaN</td>\n",
       "      <td>NaN</td>\n",
       "    </tr>\n",
       "    <tr>\n",
       "      <th>9958</th>\n",
       "      <td>10246884</td>\n",
       "      <td>20330558.0</td>\n",
       "      <td>30078457</td>\n",
       "      <td>2172-03-24 01:42:00</td>\n",
       "      <td>2172-03-24 08:08:00</td>\n",
       "      <td>M</td>\n",
       "      <td>BLACK/AFRICAN AMERICAN</td>\n",
       "      <td>AMBULANCE</td>\n",
       "      <td>HOME</td>\n",
       "      <td>NaN</td>\n",
       "      <td>NaN</td>\n",
       "    </tr>\n",
       "    <tr>\n",
       "      <th>...</th>\n",
       "      <td>...</td>\n",
       "      <td>...</td>\n",
       "      <td>...</td>\n",
       "      <td>...</td>\n",
       "      <td>...</td>\n",
       "      <td>...</td>\n",
       "      <td>...</td>\n",
       "      <td>...</td>\n",
       "      <td>...</td>\n",
       "      <td>...</td>\n",
       "      <td>...</td>\n",
       "    </tr>\n",
       "    <tr>\n",
       "      <th>381793</th>\n",
       "      <td>18971568</td>\n",
       "      <td>NaN</td>\n",
       "      <td>30197314</td>\n",
       "      <td>2130-05-05 15:06:00</td>\n",
       "      <td>2130-05-05 19:21:00</td>\n",
       "      <td>F</td>\n",
       "      <td>WHITE</td>\n",
       "      <td>WALK IN</td>\n",
       "      <td>HOME</td>\n",
       "      <td>NaN</td>\n",
       "      <td>NaN</td>\n",
       "    </tr>\n",
       "    <tr>\n",
       "      <th>382580</th>\n",
       "      <td>18992882</td>\n",
       "      <td>NaN</td>\n",
       "      <td>39149470</td>\n",
       "      <td>2168-02-25 18:02:00</td>\n",
       "      <td>2168-02-25 21:27:00</td>\n",
       "      <td>M</td>\n",
       "      <td>OTHER</td>\n",
       "      <td>AMBULANCE</td>\n",
       "      <td>HOME</td>\n",
       "      <td>NaN</td>\n",
       "      <td>NaN</td>\n",
       "    </tr>\n",
       "    <tr>\n",
       "      <th>393684</th>\n",
       "      <td>19257662</td>\n",
       "      <td>NaN</td>\n",
       "      <td>39920504</td>\n",
       "      <td>2185-10-22 18:36:00</td>\n",
       "      <td>2185-10-22 22:36:00</td>\n",
       "      <td>F</td>\n",
       "      <td>OTHER</td>\n",
       "      <td>WALK IN</td>\n",
       "      <td>HOME</td>\n",
       "      <td>NaN</td>\n",
       "      <td>NaN</td>\n",
       "    </tr>\n",
       "    <tr>\n",
       "      <th>423691</th>\n",
       "      <td>19965819</td>\n",
       "      <td>28425094.0</td>\n",
       "      <td>38077665</td>\n",
       "      <td>2164-02-08 04:10:00</td>\n",
       "      <td>2164-02-08 08:06:00</td>\n",
       "      <td>F</td>\n",
       "      <td>WHITE</td>\n",
       "      <td>AMBULANCE</td>\n",
       "      <td>ADMITTED</td>\n",
       "      <td>NaN</td>\n",
       "      <td>NaN</td>\n",
       "    </tr>\n",
       "    <tr>\n",
       "      <th>423692</th>\n",
       "      <td>19965819</td>\n",
       "      <td>NaN</td>\n",
       "      <td>32841479</td>\n",
       "      <td>2166-12-20 00:32:00</td>\n",
       "      <td>2166-12-20 05:56:00</td>\n",
       "      <td>F</td>\n",
       "      <td>WHITE</td>\n",
       "      <td>WALK IN</td>\n",
       "      <td>HOME</td>\n",
       "      <td>NaN</td>\n",
       "      <td>NaN</td>\n",
       "    </tr>\n",
       "  </tbody>\n",
       "</table>\n",
       "<p>76 rows × 11 columns</p>\n",
       "</div>"
      ],
      "text/plain": [
       "        subject_id     hadm_id   stay_id               intime  \\\n",
       "478       10010663  22209635.0  38069845  2146-09-28 04:48:00   \n",
       "479       10010663         NaN  32541009  2148-11-16 21:56:00   \n",
       "480       10010663         NaN  34448503  2144-11-19 18:05:00   \n",
       "481       10010663         NaN  37342540  2146-09-27 03:15:00   \n",
       "9958      10246884  20330558.0  30078457  2172-03-24 01:42:00   \n",
       "...            ...         ...       ...                  ...   \n",
       "381793    18971568         NaN  30197314  2130-05-05 15:06:00   \n",
       "382580    18992882         NaN  39149470  2168-02-25 18:02:00   \n",
       "393684    19257662         NaN  39920504  2185-10-22 18:36:00   \n",
       "423691    19965819  28425094.0  38077665  2164-02-08 04:10:00   \n",
       "423692    19965819         NaN  32841479  2166-12-20 00:32:00   \n",
       "\n",
       "                    outtime gender                          race  \\\n",
       "478     2146-09-28 23:55:39      F  HISPANIC/LATINO - GUATEMALAN   \n",
       "479     2148-11-17 03:13:00      F  HISPANIC/LATINO - GUATEMALAN   \n",
       "480     2144-11-19 21:22:00      F  HISPANIC/LATINO - GUATEMALAN   \n",
       "481     2146-09-27 08:29:00      F  HISPANIC/LATINO - GUATEMALAN   \n",
       "9958    2172-03-24 08:08:00      M        BLACK/AFRICAN AMERICAN   \n",
       "...                     ...    ...                           ...   \n",
       "381793  2130-05-05 19:21:00      F                         WHITE   \n",
       "382580  2168-02-25 21:27:00      M                         OTHER   \n",
       "393684  2185-10-22 22:36:00      F                         OTHER   \n",
       "423691  2164-02-08 08:06:00      F                         WHITE   \n",
       "423692  2166-12-20 05:56:00      F                         WHITE   \n",
       "\n",
       "       arrival_transport disposition language  admission_age  \n",
       "478              WALK IN    ADMITTED      NaN            NaN  \n",
       "479              WALK IN        HOME      NaN            NaN  \n",
       "480              WALK IN        HOME      NaN            NaN  \n",
       "481              WALK IN        HOME      NaN            NaN  \n",
       "9958           AMBULANCE        HOME      NaN            NaN  \n",
       "...                  ...         ...      ...            ...  \n",
       "381793           WALK IN        HOME      NaN            NaN  \n",
       "382580         AMBULANCE        HOME      NaN            NaN  \n",
       "393684           WALK IN        HOME      NaN            NaN  \n",
       "423691         AMBULANCE    ADMITTED      NaN            NaN  \n",
       "423692           WALK IN        HOME      NaN            NaN  \n",
       "\n",
       "[76 rows x 11 columns]"
      ]
     },
     "execution_count": 13,
     "metadata": {},
     "output_type": "execute_result"
    }
   ],
   "source": [
    "# merged_df[merged_df['admission_age'].isnull()] # check the rows with missing values"
   ]
  },
  {
   "cell_type": "code",
   "execution_count": 17,
   "metadata": {},
   "outputs": [
    {
     "data": {
      "text/plain": [
       "np.float64(0.5224130589738101)"
      ]
     },
     "execution_count": 17,
     "metadata": {},
     "output_type": "execute_result"
    }
   ],
   "source": [
    "new_merged_df = pd.merge(ed_edstays_df, hosp_admissions_df, on='hadm_id', how='left')\n",
    "ed_edstays_df['hadm_id'].isnull().sum() / ed_edstays_df.shape[0] # check the percentage of missing values"
   ]
  },
  {
   "cell_type": "markdown",
   "metadata": {},
   "source": [
    "def merge(df_chef, df_2, df_3):\n",
    "    # df_1 contains subject_id, df_2 contains age, df_3 contains insurance, languge, "
   ]
  },
  {
   "cell_type": "code",
   "execution_count": null,
   "metadata": {},
   "outputs": [],
   "source": []
  }
 ],
 "metadata": {
  "kernelspec": {
   "display_name": "erdos_spring_2025",
   "language": "python",
   "name": "python3"
  },
  "language_info": {
   "codemirror_mode": {
    "name": "ipython",
    "version": 3
   },
   "file_extension": ".py",
   "mimetype": "text/x-python",
   "name": "python",
   "nbconvert_exporter": "python",
   "pygments_lexer": "ipython3",
   "version": "3.12.8"
  }
 },
 "nbformat": 4,
 "nbformat_minor": 2
}
