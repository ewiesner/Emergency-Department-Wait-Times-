{
 "cells": [
  {
   "cell_type": "code",
   "execution_count": 1,
   "metadata": {},
   "outputs": [],
   "source": [
    "import pandas as pd\n",
    "import glob\n",
    "from read_csv_gz import read_csv_gz\n",
    "import matplotlib.pyplot as plt\n",
    "import seaborn as sns"
   ]
  },
  {
   "cell_type": "code",
   "execution_count": 23,
   "metadata": {},
   "outputs": [],
   "source": [
    "ed_diagnosis_df = read_csv_gz(\"ed_data/diagnosis.csv.gz\")\n",
    "ed_edstays_df = read_csv_gz(\"ed_data/edstays.csv.gz\")\n",
    "ed_medrecon_df = read_csv_gz(\"ed_data/medrecon.csv.gz\")\n",
    "ed_pyxis_df = read_csv_gz(\"ed_data/pyxis.csv.gz\")\n",
    "ed_triage_df = read_csv_gz(\"ed_data/triage.csv.gz\")\n",
    "ed_vitalsign_df = read_csv_gz(\"ed_data/vitalsign.csv.gz\")"
   ]
  },
  {
   "cell_type": "code",
   "execution_count": 45,
   "metadata": {},
   "outputs": [
    {
     "data": {
      "text/html": [
       "<div>\n",
       "<style scoped>\n",
       "    .dataframe tbody tr th:only-of-type {\n",
       "        vertical-align: middle;\n",
       "    }\n",
       "\n",
       "    .dataframe tbody tr th {\n",
       "        vertical-align: top;\n",
       "    }\n",
       "\n",
       "    .dataframe thead th {\n",
       "        text-align: right;\n",
       "    }\n",
       "</style>\n",
       "<table border=\"1\" class=\"dataframe\">\n",
       "  <thead>\n",
       "    <tr style=\"text-align: right;\">\n",
       "      <th></th>\n",
       "      <th>subject_id</th>\n",
       "      <th>stay_id</th>\n",
       "      <th>temperature</th>\n",
       "      <th>heartrate</th>\n",
       "      <th>resprate</th>\n",
       "      <th>o2sat</th>\n",
       "      <th>sbp</th>\n",
       "      <th>dbp</th>\n",
       "      <th>pain</th>\n",
       "      <th>acuity</th>\n",
       "      <th>chiefcomplaint</th>\n",
       "    </tr>\n",
       "  </thead>\n",
       "  <tbody>\n",
       "    <tr>\n",
       "      <th>150</th>\n",
       "      <td>10002769</td>\n",
       "      <td>33927820</td>\n",
       "      <td>97.8</td>\n",
       "      <td>96.0</td>\n",
       "      <td>16.0</td>\n",
       "      <td>100.0</td>\n",
       "      <td>156.0</td>\n",
       "      <td>106.0</td>\n",
       "      <td>0</td>\n",
       "      <td>5.0</td>\n",
       "      <td>PRESCRIPTION REFILL</td>\n",
       "    </tr>\n",
       "    <tr>\n",
       "      <th>573</th>\n",
       "      <td>10012438</td>\n",
       "      <td>30494808</td>\n",
       "      <td>97.8</td>\n",
       "      <td>72.0</td>\n",
       "      <td>18.0</td>\n",
       "      <td>96.0</td>\n",
       "      <td>123.0</td>\n",
       "      <td>87.0</td>\n",
       "      <td>7</td>\n",
       "      <td>5.0</td>\n",
       "      <td>BEE STING</td>\n",
       "    </tr>\n",
       "    <tr>\n",
       "      <th>1271</th>\n",
       "      <td>10027100</td>\n",
       "      <td>33115003</td>\n",
       "      <td>99.1</td>\n",
       "      <td>76.0</td>\n",
       "      <td>18.0</td>\n",
       "      <td>99.0</td>\n",
       "      <td>157.0</td>\n",
       "      <td>92.0</td>\n",
       "      <td>0</td>\n",
       "      <td>5.0</td>\n",
       "      <td>Med refill</td>\n",
       "    </tr>\n",
       "    <tr>\n",
       "      <th>1294</th>\n",
       "      <td>10027100</td>\n",
       "      <td>35957815</td>\n",
       "      <td>98.5</td>\n",
       "      <td>73.0</td>\n",
       "      <td>16.0</td>\n",
       "      <td>96.0</td>\n",
       "      <td>118.0</td>\n",
       "      <td>89.0</td>\n",
       "      <td>7</td>\n",
       "      <td>5.0</td>\n",
       "      <td>Med refill</td>\n",
       "    </tr>\n",
       "    <tr>\n",
       "      <th>1433</th>\n",
       "      <td>10029874</td>\n",
       "      <td>38908026</td>\n",
       "      <td>97.9</td>\n",
       "      <td>65.0</td>\n",
       "      <td>16.0</td>\n",
       "      <td>94.0</td>\n",
       "      <td>114.0</td>\n",
       "      <td>61.0</td>\n",
       "      <td>0</td>\n",
       "      <td>5.0</td>\n",
       "      <td>FOLEY CATH EVAL</td>\n",
       "    </tr>\n",
       "    <tr>\n",
       "      <th>2118</th>\n",
       "      <td>10046562</td>\n",
       "      <td>39937204</td>\n",
       "      <td>98.0</td>\n",
       "      <td>91.0</td>\n",
       "      <td>20.0</td>\n",
       "      <td>100.0</td>\n",
       "      <td>122.0</td>\n",
       "      <td>68.0</td>\n",
       "      <td>0</td>\n",
       "      <td>5.0</td>\n",
       "      <td>Suture removal</td>\n",
       "    </tr>\n",
       "    <tr>\n",
       "      <th>2461</th>\n",
       "      <td>10054858</td>\n",
       "      <td>36692260</td>\n",
       "      <td>98.4</td>\n",
       "      <td>68.0</td>\n",
       "      <td>12.0</td>\n",
       "      <td>98.0</td>\n",
       "      <td>87.0</td>\n",
       "      <td>57.0</td>\n",
       "      <td>0</td>\n",
       "      <td>5.0</td>\n",
       "      <td>Staples removal</td>\n",
       "    </tr>\n",
       "    <tr>\n",
       "      <th>2664</th>\n",
       "      <td>10061105</td>\n",
       "      <td>37557199</td>\n",
       "      <td>97.6</td>\n",
       "      <td>73.0</td>\n",
       "      <td>16.0</td>\n",
       "      <td>98.0</td>\n",
       "      <td>106.0</td>\n",
       "      <td>62.0</td>\n",
       "      <td>3</td>\n",
       "      <td>5.0</td>\n",
       "      <td>SPLINTER</td>\n",
       "    </tr>\n",
       "    <tr>\n",
       "      <th>3452</th>\n",
       "      <td>10083476</td>\n",
       "      <td>31737961</td>\n",
       "      <td>98.0</td>\n",
       "      <td>90.0</td>\n",
       "      <td>15.0</td>\n",
       "      <td>100.0</td>\n",
       "      <td>135.0</td>\n",
       "      <td>79.0</td>\n",
       "      <td>1</td>\n",
       "      <td>5.0</td>\n",
       "      <td>L Thumb injury</td>\n",
       "    </tr>\n",
       "    <tr>\n",
       "      <th>3532</th>\n",
       "      <td>10086404</td>\n",
       "      <td>36802223</td>\n",
       "      <td>99.2</td>\n",
       "      <td>72.0</td>\n",
       "      <td>16.0</td>\n",
       "      <td>98.0</td>\n",
       "      <td>145.0</td>\n",
       "      <td>94.0</td>\n",
       "      <td>0</td>\n",
       "      <td>5.0</td>\n",
       "      <td>?BUG BITES</td>\n",
       "    </tr>\n",
       "  </tbody>\n",
       "</table>\n",
       "</div>"
      ],
      "text/plain": [
       "      subject_id   stay_id  temperature  heartrate  resprate  o2sat    sbp  \\\n",
       "150     10002769  33927820         97.8       96.0      16.0  100.0  156.0   \n",
       "573     10012438  30494808         97.8       72.0      18.0   96.0  123.0   \n",
       "1271    10027100  33115003         99.1       76.0      18.0   99.0  157.0   \n",
       "1294    10027100  35957815         98.5       73.0      16.0   96.0  118.0   \n",
       "1433    10029874  38908026         97.9       65.0      16.0   94.0  114.0   \n",
       "2118    10046562  39937204         98.0       91.0      20.0  100.0  122.0   \n",
       "2461    10054858  36692260         98.4       68.0      12.0   98.0   87.0   \n",
       "2664    10061105  37557199         97.6       73.0      16.0   98.0  106.0   \n",
       "3452    10083476  31737961         98.0       90.0      15.0  100.0  135.0   \n",
       "3532    10086404  36802223         99.2       72.0      16.0   98.0  145.0   \n",
       "\n",
       "        dbp pain  acuity       chiefcomplaint  \n",
       "150   106.0    0     5.0  PRESCRIPTION REFILL  \n",
       "573    87.0    7     5.0            BEE STING  \n",
       "1271   92.0    0     5.0           Med refill  \n",
       "1294   89.0    7     5.0           Med refill  \n",
       "1433   61.0    0     5.0      FOLEY CATH EVAL  \n",
       "2118   68.0    0     5.0       Suture removal  \n",
       "2461   57.0    0     5.0      Staples removal  \n",
       "2664   62.0    3     5.0             SPLINTER  \n",
       "3452   79.0    1     5.0       L Thumb injury  \n",
       "3532   94.0    0     5.0           ?BUG BITES  "
      ]
     },
     "execution_count": 45,
     "metadata": {},
     "output_type": "execute_result"
    }
   ],
   "source": [
    "ed_triage_df[ed_triage_df['acuity'] > 4].head(10)"
   ]
  },
  {
   "cell_type": "code",
   "execution_count": 62,
   "metadata": {},
   "outputs": [
    {
     "data": {
      "text/plain": [
       "np.int64(368920)"
      ]
     },
     "execution_count": 62,
     "metadata": {},
     "output_type": "execute_result"
    }
   ],
   "source": [
    "# ed_triage_df['chiefcomplaint'].value_counts().head(50)\n",
    "ed_triage_df['chiefcomplaint'].value_counts().iloc[:10000].sum()"
   ]
  },
  {
   "cell_type": "code",
   "execution_count": 53,
   "metadata": {},
   "outputs": [
    {
     "name": "stdout",
     "output_type": "stream",
     "text": [
      "0    3\n",
      "1    2\n",
      "2    3\n",
      "3    3\n",
      "4    3\n",
      "5    3\n",
      "6    1\n",
      "7    2\n",
      "8    3\n",
      "Name: count, dtype: int64\n"
     ]
    }
   ],
   "source": [
    "import pandas as pd\n",
    "\n",
    "# Example Series\n",
    "s = pd.Series([3, 1, 2, 2, 3, 3, 4, 1, 2])\n",
    "\n",
    "# Sort by frequency of values\n",
    "sorted_s = s.value_counts().loc[s].reset_index(drop=True)\n",
    "\n",
    "print(sorted_s)"
   ]
  },
  {
   "cell_type": "code",
   "execution_count": 25,
   "metadata": {},
   "outputs": [],
   "source": [
    "hosp_admissions_df = read_csv_gz(\"hosp_data/admissions.csv.gz\")\n",
    "hosp_patients_df = read_csv_gz(\"hosp_data/patients.csv.gz\")"
   ]
  },
  {
   "cell_type": "code",
   "execution_count": 5,
   "metadata": {},
   "outputs": [
    {
     "data": {
      "text/html": [
       "<div>\n",
       "<style scoped>\n",
       "    .dataframe tbody tr th:only-of-type {\n",
       "        vertical-align: middle;\n",
       "    }\n",
       "\n",
       "    .dataframe tbody tr th {\n",
       "        vertical-align: top;\n",
       "    }\n",
       "\n",
       "    .dataframe thead th {\n",
       "        text-align: right;\n",
       "    }\n",
       "</style>\n",
       "<table border=\"1\" class=\"dataframe\">\n",
       "  <thead>\n",
       "    <tr style=\"text-align: right;\">\n",
       "      <th></th>\n",
       "      <th>subject_id</th>\n",
       "      <th>hadm_id</th>\n",
       "      <th>stay_id</th>\n",
       "      <th>intime</th>\n",
       "      <th>outtime</th>\n",
       "      <th>gender</th>\n",
       "      <th>race</th>\n",
       "      <th>arrival_transport</th>\n",
       "      <th>disposition</th>\n",
       "    </tr>\n",
       "  </thead>\n",
       "  <tbody>\n",
       "    <tr>\n",
       "      <th>0</th>\n",
       "      <td>10000032</td>\n",
       "      <td>22595853.0</td>\n",
       "      <td>33258284</td>\n",
       "      <td>2180-05-06 19:17:00</td>\n",
       "      <td>2180-05-06 23:30:00</td>\n",
       "      <td>F</td>\n",
       "      <td>WHITE</td>\n",
       "      <td>AMBULANCE</td>\n",
       "      <td>ADMITTED</td>\n",
       "    </tr>\n",
       "    <tr>\n",
       "      <th>1</th>\n",
       "      <td>10000032</td>\n",
       "      <td>22841357.0</td>\n",
       "      <td>38112554</td>\n",
       "      <td>2180-06-26 15:54:00</td>\n",
       "      <td>2180-06-26 21:31:00</td>\n",
       "      <td>F</td>\n",
       "      <td>WHITE</td>\n",
       "      <td>AMBULANCE</td>\n",
       "      <td>ADMITTED</td>\n",
       "    </tr>\n",
       "    <tr>\n",
       "      <th>2</th>\n",
       "      <td>10000032</td>\n",
       "      <td>25742920.0</td>\n",
       "      <td>35968195</td>\n",
       "      <td>2180-08-05 20:58:00</td>\n",
       "      <td>2180-08-06 01:44:00</td>\n",
       "      <td>F</td>\n",
       "      <td>WHITE</td>\n",
       "      <td>AMBULANCE</td>\n",
       "      <td>ADMITTED</td>\n",
       "    </tr>\n",
       "    <tr>\n",
       "      <th>3</th>\n",
       "      <td>10000032</td>\n",
       "      <td>29079034.0</td>\n",
       "      <td>32952584</td>\n",
       "      <td>2180-07-22 16:24:00</td>\n",
       "      <td>2180-07-23 05:54:00</td>\n",
       "      <td>F</td>\n",
       "      <td>WHITE</td>\n",
       "      <td>AMBULANCE</td>\n",
       "      <td>HOME</td>\n",
       "    </tr>\n",
       "    <tr>\n",
       "      <th>4</th>\n",
       "      <td>10000032</td>\n",
       "      <td>29079034.0</td>\n",
       "      <td>39399961</td>\n",
       "      <td>2180-07-23 05:54:00</td>\n",
       "      <td>2180-07-23 14:00:00</td>\n",
       "      <td>F</td>\n",
       "      <td>WHITE</td>\n",
       "      <td>AMBULANCE</td>\n",
       "      <td>ADMITTED</td>\n",
       "    </tr>\n",
       "  </tbody>\n",
       "</table>\n",
       "</div>"
      ],
      "text/plain": [
       "   subject_id     hadm_id   stay_id               intime              outtime  \\\n",
       "0    10000032  22595853.0  33258284  2180-05-06 19:17:00  2180-05-06 23:30:00   \n",
       "1    10000032  22841357.0  38112554  2180-06-26 15:54:00  2180-06-26 21:31:00   \n",
       "2    10000032  25742920.0  35968195  2180-08-05 20:58:00  2180-08-06 01:44:00   \n",
       "3    10000032  29079034.0  32952584  2180-07-22 16:24:00  2180-07-23 05:54:00   \n",
       "4    10000032  29079034.0  39399961  2180-07-23 05:54:00  2180-07-23 14:00:00   \n",
       "\n",
       "  gender   race arrival_transport disposition  \n",
       "0      F  WHITE         AMBULANCE    ADMITTED  \n",
       "1      F  WHITE         AMBULANCE    ADMITTED  \n",
       "2      F  WHITE         AMBULANCE    ADMITTED  \n",
       "3      F  WHITE         AMBULANCE        HOME  \n",
       "4      F  WHITE         AMBULANCE    ADMITTED  "
      ]
     },
     "execution_count": 5,
     "metadata": {},
     "output_type": "execute_result"
    }
   ],
   "source": [
    "ed_edstays_df.head(5)"
   ]
  },
  {
   "cell_type": "code",
   "execution_count": 35,
   "metadata": {},
   "outputs": [
    {
     "data": {
      "text/html": [
       "<div>\n",
       "<style scoped>\n",
       "    .dataframe tbody tr th:only-of-type {\n",
       "        vertical-align: middle;\n",
       "    }\n",
       "\n",
       "    .dataframe tbody tr th {\n",
       "        vertical-align: top;\n",
       "    }\n",
       "\n",
       "    .dataframe thead th {\n",
       "        text-align: right;\n",
       "    }\n",
       "</style>\n",
       "<table border=\"1\" class=\"dataframe\">\n",
       "  <thead>\n",
       "    <tr style=\"text-align: right;\">\n",
       "      <th></th>\n",
       "      <th>subject_id</th>\n",
       "      <th>insurance</th>\n",
       "      <th>marital_status</th>\n",
       "      <th>language</th>\n",
       "    </tr>\n",
       "  </thead>\n",
       "  <tbody>\n",
       "    <tr>\n",
       "      <th>0</th>\n",
       "      <td>10000032</td>\n",
       "      <td>Medicaid</td>\n",
       "      <td>WIDOWED</td>\n",
       "      <td>English</td>\n",
       "    </tr>\n",
       "    <tr>\n",
       "      <th>4</th>\n",
       "      <td>10000068</td>\n",
       "      <td>NaN</td>\n",
       "      <td>SINGLE</td>\n",
       "      <td>English</td>\n",
       "    </tr>\n",
       "    <tr>\n",
       "      <th>5</th>\n",
       "      <td>10000084</td>\n",
       "      <td>Medicare</td>\n",
       "      <td>MARRIED</td>\n",
       "      <td>English</td>\n",
       "    </tr>\n",
       "    <tr>\n",
       "      <th>7</th>\n",
       "      <td>10000108</td>\n",
       "      <td>NaN</td>\n",
       "      <td>SINGLE</td>\n",
       "      <td>English</td>\n",
       "    </tr>\n",
       "    <tr>\n",
       "      <th>8</th>\n",
       "      <td>10000117</td>\n",
       "      <td>Medicaid</td>\n",
       "      <td>DIVORCED</td>\n",
       "      <td>English</td>\n",
       "    </tr>\n",
       "  </tbody>\n",
       "</table>\n",
       "</div>"
      ],
      "text/plain": [
       "   subject_id insurance marital_status language\n",
       "0    10000032  Medicaid        WIDOWED  English\n",
       "4    10000068       NaN         SINGLE  English\n",
       "5    10000084  Medicare        MARRIED  English\n",
       "7    10000108       NaN         SINGLE  English\n",
       "8    10000117  Medicaid       DIVORCED  English"
      ]
     },
     "execution_count": 35,
     "metadata": {},
     "output_type": "execute_result"
    }
   ],
   "source": [
    "hosp_patients_info_df = hosp_admissions_df[['subject_id','insurance', 'marital_status', 'language']].drop_duplicates()\n",
    "# hosp_patients_info_df = pd.merge(hosp_patients_info_df, hosp_patients_df[['subject'\n",
    "hosp_patients_info_df.head()"
   ]
  },
  {
   "cell_type": "code",
   "execution_count": 32,
   "metadata": {},
   "outputs": [
    {
     "data": {
      "text/html": [
       "<div>\n",
       "<style scoped>\n",
       "    .dataframe tbody tr th:only-of-type {\n",
       "        vertical-align: middle;\n",
       "    }\n",
       "\n",
       "    .dataframe tbody tr th {\n",
       "        vertical-align: top;\n",
       "    }\n",
       "\n",
       "    .dataframe thead th {\n",
       "        text-align: right;\n",
       "    }\n",
       "</style>\n",
       "<table border=\"1\" class=\"dataframe\">\n",
       "  <thead>\n",
       "    <tr style=\"text-align: right;\">\n",
       "      <th></th>\n",
       "      <th>subject_id</th>\n",
       "      <th>gender</th>\n",
       "      <th>anchor_age</th>\n",
       "      <th>anchor_year</th>\n",
       "      <th>anchor_year_group</th>\n",
       "      <th>dod</th>\n",
       "    </tr>\n",
       "  </thead>\n",
       "  <tbody>\n",
       "    <tr>\n",
       "      <th>0</th>\n",
       "      <td>10000032</td>\n",
       "      <td>F</td>\n",
       "      <td>52</td>\n",
       "      <td>2180</td>\n",
       "      <td>2014 - 2016</td>\n",
       "      <td>2180-09-09</td>\n",
       "    </tr>\n",
       "    <tr>\n",
       "      <th>1</th>\n",
       "      <td>10000048</td>\n",
       "      <td>F</td>\n",
       "      <td>23</td>\n",
       "      <td>2126</td>\n",
       "      <td>2008 - 2010</td>\n",
       "      <td>NaN</td>\n",
       "    </tr>\n",
       "    <tr>\n",
       "      <th>2</th>\n",
       "      <td>10000058</td>\n",
       "      <td>F</td>\n",
       "      <td>33</td>\n",
       "      <td>2168</td>\n",
       "      <td>2020 - 2022</td>\n",
       "      <td>NaN</td>\n",
       "    </tr>\n",
       "    <tr>\n",
       "      <th>3</th>\n",
       "      <td>10000068</td>\n",
       "      <td>F</td>\n",
       "      <td>19</td>\n",
       "      <td>2160</td>\n",
       "      <td>2008 - 2010</td>\n",
       "      <td>NaN</td>\n",
       "    </tr>\n",
       "    <tr>\n",
       "      <th>4</th>\n",
       "      <td>10000084</td>\n",
       "      <td>M</td>\n",
       "      <td>72</td>\n",
       "      <td>2160</td>\n",
       "      <td>2017 - 2019</td>\n",
       "      <td>2161-02-13</td>\n",
       "    </tr>\n",
       "  </tbody>\n",
       "</table>\n",
       "</div>"
      ],
      "text/plain": [
       "   subject_id gender  anchor_age  anchor_year anchor_year_group         dod\n",
       "0    10000032      F          52         2180       2014 - 2016  2180-09-09\n",
       "1    10000048      F          23         2126       2008 - 2010         NaN\n",
       "2    10000058      F          33         2168       2020 - 2022         NaN\n",
       "3    10000068      F          19         2160       2008 - 2010         NaN\n",
       "4    10000084      M          72         2160       2017 - 2019  2161-02-13"
      ]
     },
     "execution_count": 32,
     "metadata": {},
     "output_type": "execute_result"
    }
   ],
   "source": [
    "hosp_patients_df.head(5)"
   ]
  },
  {
   "cell_type": "code",
   "execution_count": 36,
   "metadata": {},
   "outputs": [
    {
     "ename": "KeyError",
     "evalue": "'chief_complaint'",
     "output_type": "error",
     "traceback": [
      "\u001b[0;31m---------------------------------------------------------------------------\u001b[0m",
      "\u001b[0;31mKeyError\u001b[0m                                  Traceback (most recent call last)",
      "File \u001b[0;32m/opt/miniconda3/envs/erdos_spring_2025/lib/python3.12/site-packages/pandas/core/indexes/base.py:3805\u001b[0m, in \u001b[0;36mIndex.get_loc\u001b[0;34m(self, key)\u001b[0m\n\u001b[1;32m   3804\u001b[0m \u001b[38;5;28;01mtry\u001b[39;00m:\n\u001b[0;32m-> 3805\u001b[0m     \u001b[38;5;28;01mreturn\u001b[39;00m \u001b[38;5;28;43mself\u001b[39;49m\u001b[38;5;241;43m.\u001b[39;49m\u001b[43m_engine\u001b[49m\u001b[38;5;241;43m.\u001b[39;49m\u001b[43mget_loc\u001b[49m\u001b[43m(\u001b[49m\u001b[43mcasted_key\u001b[49m\u001b[43m)\u001b[49m\n\u001b[1;32m   3806\u001b[0m \u001b[38;5;28;01mexcept\u001b[39;00m \u001b[38;5;167;01mKeyError\u001b[39;00m \u001b[38;5;28;01mas\u001b[39;00m err:\n",
      "File \u001b[0;32mindex.pyx:167\u001b[0m, in \u001b[0;36mpandas._libs.index.IndexEngine.get_loc\u001b[0;34m()\u001b[0m\n",
      "File \u001b[0;32mindex.pyx:196\u001b[0m, in \u001b[0;36mpandas._libs.index.IndexEngine.get_loc\u001b[0;34m()\u001b[0m\n",
      "File \u001b[0;32mpandas/_libs/hashtable_class_helper.pxi:7081\u001b[0m, in \u001b[0;36mpandas._libs.hashtable.PyObjectHashTable.get_item\u001b[0;34m()\u001b[0m\n",
      "File \u001b[0;32mpandas/_libs/hashtable_class_helper.pxi:7089\u001b[0m, in \u001b[0;36mpandas._libs.hashtable.PyObjectHashTable.get_item\u001b[0;34m()\u001b[0m\n",
      "\u001b[0;31mKeyError\u001b[0m: 'chief_complaint'",
      "\nThe above exception was the direct cause of the following exception:\n",
      "\u001b[0;31mKeyError\u001b[0m                                  Traceback (most recent call last)",
      "Cell \u001b[0;32mIn[36], line 1\u001b[0m\n\u001b[0;32m----> 1\u001b[0m \u001b[43med_diagnosis_df\u001b[49m\u001b[43m[\u001b[49m\u001b[38;5;124;43m'\u001b[39;49m\u001b[38;5;124;43mchief_complaint\u001b[39;49m\u001b[38;5;124;43m'\u001b[39;49m\u001b[43m]\u001b[49m\u001b[38;5;241m.\u001b[39mhead()\n",
      "File \u001b[0;32m/opt/miniconda3/envs/erdos_spring_2025/lib/python3.12/site-packages/pandas/core/frame.py:4102\u001b[0m, in \u001b[0;36mDataFrame.__getitem__\u001b[0;34m(self, key)\u001b[0m\n\u001b[1;32m   4100\u001b[0m \u001b[38;5;28;01mif\u001b[39;00m \u001b[38;5;28mself\u001b[39m\u001b[38;5;241m.\u001b[39mcolumns\u001b[38;5;241m.\u001b[39mnlevels \u001b[38;5;241m>\u001b[39m \u001b[38;5;241m1\u001b[39m:\n\u001b[1;32m   4101\u001b[0m     \u001b[38;5;28;01mreturn\u001b[39;00m \u001b[38;5;28mself\u001b[39m\u001b[38;5;241m.\u001b[39m_getitem_multilevel(key)\n\u001b[0;32m-> 4102\u001b[0m indexer \u001b[38;5;241m=\u001b[39m \u001b[38;5;28;43mself\u001b[39;49m\u001b[38;5;241;43m.\u001b[39;49m\u001b[43mcolumns\u001b[49m\u001b[38;5;241;43m.\u001b[39;49m\u001b[43mget_loc\u001b[49m\u001b[43m(\u001b[49m\u001b[43mkey\u001b[49m\u001b[43m)\u001b[49m\n\u001b[1;32m   4103\u001b[0m \u001b[38;5;28;01mif\u001b[39;00m is_integer(indexer):\n\u001b[1;32m   4104\u001b[0m     indexer \u001b[38;5;241m=\u001b[39m [indexer]\n",
      "File \u001b[0;32m/opt/miniconda3/envs/erdos_spring_2025/lib/python3.12/site-packages/pandas/core/indexes/base.py:3812\u001b[0m, in \u001b[0;36mIndex.get_loc\u001b[0;34m(self, key)\u001b[0m\n\u001b[1;32m   3807\u001b[0m     \u001b[38;5;28;01mif\u001b[39;00m \u001b[38;5;28misinstance\u001b[39m(casted_key, \u001b[38;5;28mslice\u001b[39m) \u001b[38;5;129;01mor\u001b[39;00m (\n\u001b[1;32m   3808\u001b[0m         \u001b[38;5;28misinstance\u001b[39m(casted_key, abc\u001b[38;5;241m.\u001b[39mIterable)\n\u001b[1;32m   3809\u001b[0m         \u001b[38;5;129;01mand\u001b[39;00m \u001b[38;5;28many\u001b[39m(\u001b[38;5;28misinstance\u001b[39m(x, \u001b[38;5;28mslice\u001b[39m) \u001b[38;5;28;01mfor\u001b[39;00m x \u001b[38;5;129;01min\u001b[39;00m casted_key)\n\u001b[1;32m   3810\u001b[0m     ):\n\u001b[1;32m   3811\u001b[0m         \u001b[38;5;28;01mraise\u001b[39;00m InvalidIndexError(key)\n\u001b[0;32m-> 3812\u001b[0m     \u001b[38;5;28;01mraise\u001b[39;00m \u001b[38;5;167;01mKeyError\u001b[39;00m(key) \u001b[38;5;28;01mfrom\u001b[39;00m\u001b[38;5;250m \u001b[39m\u001b[38;5;21;01merr\u001b[39;00m\n\u001b[1;32m   3813\u001b[0m \u001b[38;5;28;01mexcept\u001b[39;00m \u001b[38;5;167;01mTypeError\u001b[39;00m:\n\u001b[1;32m   3814\u001b[0m     \u001b[38;5;66;03m# If we have a listlike key, _check_indexing_error will raise\u001b[39;00m\n\u001b[1;32m   3815\u001b[0m     \u001b[38;5;66;03m#  InvalidIndexError. Otherwise we fall through and re-raise\u001b[39;00m\n\u001b[1;32m   3816\u001b[0m     \u001b[38;5;66;03m#  the TypeError.\u001b[39;00m\n\u001b[1;32m   3817\u001b[0m     \u001b[38;5;28mself\u001b[39m\u001b[38;5;241m.\u001b[39m_check_indexing_error(key)\n",
      "\u001b[0;31mKeyError\u001b[0m: 'chief_complaint'"
     ]
    }
   ],
   "source": [
    "ed_diagnosis_df['chief_complaint'].head()"
   ]
  },
  {
   "cell_type": "code",
   "execution_count": 6,
   "metadata": {},
   "outputs": [
    {
     "data": {
      "text/plain": [
       "np.float64(0.5224130589738101)"
      ]
     },
     "execution_count": 6,
     "metadata": {},
     "output_type": "execute_result"
    }
   ],
   "source": [
    "ed_edstays_df[\"hadm_id\"].isna().sum() / ed_edstays_df.shape[0]"
   ]
  },
  {
   "cell_type": "code",
   "execution_count": 7,
   "metadata": {},
   "outputs": [
    {
     "data": {
      "text/html": [
       "<div>\n",
       "<style scoped>\n",
       "    .dataframe tbody tr th:only-of-type {\n",
       "        vertical-align: middle;\n",
       "    }\n",
       "\n",
       "    .dataframe tbody tr th {\n",
       "        vertical-align: top;\n",
       "    }\n",
       "\n",
       "    .dataframe thead th {\n",
       "        text-align: right;\n",
       "    }\n",
       "</style>\n",
       "<table border=\"1\" class=\"dataframe\">\n",
       "  <thead>\n",
       "    <tr style=\"text-align: right;\">\n",
       "      <th></th>\n",
       "      <th>subject_id</th>\n",
       "      <th>hadm_id</th>\n",
       "      <th>stay_id</th>\n",
       "      <th>intime</th>\n",
       "      <th>outtime</th>\n",
       "      <th>gender</th>\n",
       "      <th>race</th>\n",
       "      <th>arrival_transport</th>\n",
       "      <th>disposition</th>\n",
       "    </tr>\n",
       "  </thead>\n",
       "  <tbody>\n",
       "    <tr>\n",
       "      <th>count</th>\n",
       "      <td>4.250870e+05</td>\n",
       "      <td>2.030160e+05</td>\n",
       "      <td>4.250870e+05</td>\n",
       "      <td>425087</td>\n",
       "      <td>425087</td>\n",
       "      <td>425087</td>\n",
       "      <td>425087</td>\n",
       "      <td>425087</td>\n",
       "      <td>425087</td>\n",
       "    </tr>\n",
       "    <tr>\n",
       "      <th>unique</th>\n",
       "      <td>NaN</td>\n",
       "      <td>NaN</td>\n",
       "      <td>NaN</td>\n",
       "      <td>422817</td>\n",
       "      <td>423227</td>\n",
       "      <td>2</td>\n",
       "      <td>33</td>\n",
       "      <td>5</td>\n",
       "      <td>8</td>\n",
       "    </tr>\n",
       "    <tr>\n",
       "      <th>top</th>\n",
       "      <td>NaN</td>\n",
       "      <td>NaN</td>\n",
       "      <td>NaN</td>\n",
       "      <td>2173-05-28 00:17:00</td>\n",
       "      <td>2173-05-28 06:08:00</td>\n",
       "      <td>F</td>\n",
       "      <td>WHITE</td>\n",
       "      <td>WALK IN</td>\n",
       "      <td>HOME</td>\n",
       "    </tr>\n",
       "    <tr>\n",
       "      <th>freq</th>\n",
       "      <td>NaN</td>\n",
       "      <td>NaN</td>\n",
       "      <td>NaN</td>\n",
       "      <td>4</td>\n",
       "      <td>5</td>\n",
       "      <td>229898</td>\n",
       "      <td>228123</td>\n",
       "      <td>251849</td>\n",
       "      <td>241632</td>\n",
       "    </tr>\n",
       "    <tr>\n",
       "      <th>mean</th>\n",
       "      <td>1.500871e+07</td>\n",
       "      <td>2.499495e+07</td>\n",
       "      <td>3.499735e+07</td>\n",
       "      <td>NaN</td>\n",
       "      <td>NaN</td>\n",
       "      <td>NaN</td>\n",
       "      <td>NaN</td>\n",
       "      <td>NaN</td>\n",
       "      <td>NaN</td>\n",
       "    </tr>\n",
       "    <tr>\n",
       "      <th>std</th>\n",
       "      <td>2.878486e+06</td>\n",
       "      <td>2.888745e+06</td>\n",
       "      <td>2.888342e+06</td>\n",
       "      <td>NaN</td>\n",
       "      <td>NaN</td>\n",
       "      <td>NaN</td>\n",
       "      <td>NaN</td>\n",
       "      <td>NaN</td>\n",
       "      <td>NaN</td>\n",
       "    </tr>\n",
       "    <tr>\n",
       "      <th>min</th>\n",
       "      <td>1.000003e+07</td>\n",
       "      <td>2.000002e+07</td>\n",
       "      <td>3.000001e+07</td>\n",
       "      <td>NaN</td>\n",
       "      <td>NaN</td>\n",
       "      <td>NaN</td>\n",
       "      <td>NaN</td>\n",
       "      <td>NaN</td>\n",
       "      <td>NaN</td>\n",
       "    </tr>\n",
       "    <tr>\n",
       "      <th>25%</th>\n",
       "      <td>1.251789e+07</td>\n",
       "      <td>2.248982e+07</td>\n",
       "      <td>3.249799e+07</td>\n",
       "      <td>NaN</td>\n",
       "      <td>NaN</td>\n",
       "      <td>NaN</td>\n",
       "      <td>NaN</td>\n",
       "      <td>NaN</td>\n",
       "      <td>NaN</td>\n",
       "    </tr>\n",
       "    <tr>\n",
       "      <th>50%</th>\n",
       "      <td>1.501628e+07</td>\n",
       "      <td>2.499935e+07</td>\n",
       "      <td>3.499395e+07</td>\n",
       "      <td>NaN</td>\n",
       "      <td>NaN</td>\n",
       "      <td>NaN</td>\n",
       "      <td>NaN</td>\n",
       "      <td>NaN</td>\n",
       "      <td>NaN</td>\n",
       "    </tr>\n",
       "    <tr>\n",
       "      <th>75%</th>\n",
       "      <td>1.749900e+07</td>\n",
       "      <td>2.749388e+07</td>\n",
       "      <td>3.750387e+07</td>\n",
       "      <td>NaN</td>\n",
       "      <td>NaN</td>\n",
       "      <td>NaN</td>\n",
       "      <td>NaN</td>\n",
       "      <td>NaN</td>\n",
       "      <td>NaN</td>\n",
       "    </tr>\n",
       "    <tr>\n",
       "      <th>max</th>\n",
       "      <td>1.999999e+07</td>\n",
       "      <td>2.999981e+07</td>\n",
       "      <td>3.999996e+07</td>\n",
       "      <td>NaN</td>\n",
       "      <td>NaN</td>\n",
       "      <td>NaN</td>\n",
       "      <td>NaN</td>\n",
       "      <td>NaN</td>\n",
       "      <td>NaN</td>\n",
       "    </tr>\n",
       "  </tbody>\n",
       "</table>\n",
       "</div>"
      ],
      "text/plain": [
       "          subject_id       hadm_id       stay_id               intime  \\\n",
       "count   4.250870e+05  2.030160e+05  4.250870e+05               425087   \n",
       "unique           NaN           NaN           NaN               422817   \n",
       "top              NaN           NaN           NaN  2173-05-28 00:17:00   \n",
       "freq             NaN           NaN           NaN                    4   \n",
       "mean    1.500871e+07  2.499495e+07  3.499735e+07                  NaN   \n",
       "std     2.878486e+06  2.888745e+06  2.888342e+06                  NaN   \n",
       "min     1.000003e+07  2.000002e+07  3.000001e+07                  NaN   \n",
       "25%     1.251789e+07  2.248982e+07  3.249799e+07                  NaN   \n",
       "50%     1.501628e+07  2.499935e+07  3.499395e+07                  NaN   \n",
       "75%     1.749900e+07  2.749388e+07  3.750387e+07                  NaN   \n",
       "max     1.999999e+07  2.999981e+07  3.999996e+07                  NaN   \n",
       "\n",
       "                    outtime  gender    race arrival_transport disposition  \n",
       "count                425087  425087  425087            425087      425087  \n",
       "unique               423227       2      33                 5           8  \n",
       "top     2173-05-28 06:08:00       F   WHITE           WALK IN        HOME  \n",
       "freq                      5  229898  228123            251849      241632  \n",
       "mean                    NaN     NaN     NaN               NaN         NaN  \n",
       "std                     NaN     NaN     NaN               NaN         NaN  \n",
       "min                     NaN     NaN     NaN               NaN         NaN  \n",
       "25%                     NaN     NaN     NaN               NaN         NaN  \n",
       "50%                     NaN     NaN     NaN               NaN         NaN  \n",
       "75%                     NaN     NaN     NaN               NaN         NaN  \n",
       "max                     NaN     NaN     NaN               NaN         NaN  "
      ]
     },
     "execution_count": 7,
     "metadata": {},
     "output_type": "execute_result"
    }
   ],
   "source": [
    "ed_edstays_df.describe(include='all') "
   ]
  },
  {
   "cell_type": "code",
   "execution_count": 8,
   "metadata": {},
   "outputs": [
    {
     "data": {
      "text/plain": [
       "array(['WHITE', 'ASIAN', 'OTHER', 'ASIAN - SOUTH EAST ASIAN', 'UNKNOWN',\n",
       "       'BLACK/AFRICAN AMERICAN', 'ASIAN - CHINESE', 'WHITE - RUSSIAN',\n",
       "       'BLACK/CAPE VERDEAN', 'PORTUGUESE', 'MULTIPLE RACE/ETHNICITY',\n",
       "       'UNABLE TO OBTAIN', 'WHITE - OTHER EUROPEAN',\n",
       "       'HISPANIC/LATINO - DOMINICAN', 'HISPANIC/LATINO - SALVADORAN',\n",
       "       'HISPANIC/LATINO - PUERTO RICAN', 'WHITE - BRAZILIAN',\n",
       "       'HISPANIC/LATINO - GUATEMALAN', 'BLACK/CARIBBEAN ISLAND',\n",
       "       'HISPANIC OR LATINO', 'BLACK/AFRICAN',\n",
       "       'AMERICAN INDIAN/ALASKA NATIVE', 'ASIAN - KOREAN',\n",
       "       'WHITE - EASTERN EUROPEAN',\n",
       "       'NATIVE HAWAIIAN OR OTHER PACIFIC ISLANDER',\n",
       "       'HISPANIC/LATINO - MEXICAN', 'PATIENT DECLINED TO ANSWER',\n",
       "       'HISPANIC/LATINO - CUBAN', 'HISPANIC/LATINO - COLUMBIAN',\n",
       "       'ASIAN - ASIAN INDIAN', 'SOUTH AMERICAN',\n",
       "       'HISPANIC/LATINO - HONDURAN', 'HISPANIC/LATINO - CENTRAL AMERICAN'],\n",
       "      dtype=object)"
      ]
     },
     "execution_count": 8,
     "metadata": {},
     "output_type": "execute_result"
    }
   ],
   "source": [
    "ed_edstays_df['race'].unique()"
   ]
  },
  {
   "cell_type": "code",
   "execution_count": 9,
   "metadata": {},
   "outputs": [
    {
     "data": {
      "text/plain": [
       "([0,\n",
       "  1,\n",
       "  2,\n",
       "  3,\n",
       "  4,\n",
       "  5,\n",
       "  6,\n",
       "  7,\n",
       "  8,\n",
       "  9,\n",
       "  10,\n",
       "  11,\n",
       "  12,\n",
       "  13,\n",
       "  14,\n",
       "  15,\n",
       "  16,\n",
       "  17,\n",
       "  18,\n",
       "  19,\n",
       "  20,\n",
       "  21,\n",
       "  22,\n",
       "  23,\n",
       "  24,\n",
       "  25,\n",
       "  26,\n",
       "  27,\n",
       "  28,\n",
       "  29,\n",
       "  30,\n",
       "  31,\n",
       "  32],\n",
       " [Text(0, 0, 'WHITE'),\n",
       "  Text(1, 0, 'ASIAN'),\n",
       "  Text(2, 0, 'OTHER'),\n",
       "  Text(3, 0, 'ASIAN - SOUTH EAST ASIAN'),\n",
       "  Text(4, 0, 'UNKNOWN'),\n",
       "  Text(5, 0, 'BLACK/AFRICAN AMERICAN'),\n",
       "  Text(6, 0, 'ASIAN - CHINESE'),\n",
       "  Text(7, 0, 'WHITE - RUSSIAN'),\n",
       "  Text(8, 0, 'BLACK/CAPE VERDEAN'),\n",
       "  Text(9, 0, 'PORTUGUESE'),\n",
       "  Text(10, 0, 'MULTIPLE RACE/ETHNICITY'),\n",
       "  Text(11, 0, 'UNABLE TO OBTAIN'),\n",
       "  Text(12, 0, 'WHITE - OTHER EUROPEAN'),\n",
       "  Text(13, 0, 'HISPANIC/LATINO - DOMINICAN'),\n",
       "  Text(14, 0, 'HISPANIC/LATINO - SALVADORAN'),\n",
       "  Text(15, 0, 'HISPANIC/LATINO - PUERTO RICAN'),\n",
       "  Text(16, 0, 'WHITE - BRAZILIAN'),\n",
       "  Text(17, 0, 'HISPANIC/LATINO - GUATEMALAN'),\n",
       "  Text(18, 0, 'BLACK/CARIBBEAN ISLAND'),\n",
       "  Text(19, 0, 'HISPANIC OR LATINO'),\n",
       "  Text(20, 0, 'BLACK/AFRICAN'),\n",
       "  Text(21, 0, 'AMERICAN INDIAN/ALASKA NATIVE'),\n",
       "  Text(22, 0, 'ASIAN - KOREAN'),\n",
       "  Text(23, 0, 'WHITE - EASTERN EUROPEAN'),\n",
       "  Text(24, 0, 'NATIVE HAWAIIAN OR OTHER PACIFIC ISLANDER'),\n",
       "  Text(25, 0, 'HISPANIC/LATINO - MEXICAN'),\n",
       "  Text(26, 0, 'PATIENT DECLINED TO ANSWER'),\n",
       "  Text(27, 0, 'HISPANIC/LATINO - CUBAN'),\n",
       "  Text(28, 0, 'HISPANIC/LATINO - COLUMBIAN'),\n",
       "  Text(29, 0, 'ASIAN - ASIAN INDIAN'),\n",
       "  Text(30, 0, 'SOUTH AMERICAN'),\n",
       "  Text(31, 0, 'HISPANIC/LATINO - HONDURAN'),\n",
       "  Text(32, 0, 'HISPANIC/LATINO - CENTRAL AMERICAN')])"
      ]
     },
     "execution_count": 9,
     "metadata": {},
     "output_type": "execute_result"
    },
    {
     "data": {
      "image/png": "[encoded data removed]",
      "text/plain": [
       "<Figure size 640x480 with 1 Axes>"
      ]
     },
     "metadata": {},
     "output_type": "display_data"
    }
   ],
   "source": [
    "sns.countplot(x='race', data=ed_edstays_df)\n",
    "plt.xticks(rotation=90)"
   ]
  },
  {
   "cell_type": "code",
   "execution_count": 10,
   "metadata": {},
   "outputs": [
    {
     "name": "stdout",
     "output_type": "stream",
     "text": [
      "0\n"
     ]
    }
   ],
   "source": [
    "ed_edstays_df[\"intime_converted\"] = pd.to_datetime(ed_edstays_df[\"intime\"])\n",
    "print(ed_edstays_df['intime_converted'].isna().sum())"
   ]
  },
  {
   "cell_type": "code",
   "execution_count": 11,
   "metadata": {},
   "outputs": [
    {
     "name": "stdout",
     "output_type": "stream",
     "text": [
      "0\n"
     ]
    }
   ],
   "source": [
    "ed_edstays_df[\"outtime_converted\"] = pd.to_datetime(ed_edstays_df[\"outtime\"])\n",
    "print(ed_edstays_df['outtime_converted'].isna().sum())"
   ]
  },
  {
   "cell_type": "code",
   "execution_count": 12,
   "metadata": {},
   "outputs": [],
   "source": [
    "ed_edstays_df[\"duration\"] = (ed_edstays_df[\"outtime_converted\"] - ed_edstays_df[\"intime_converted\"]).dt.total_seconds() / 60"
   ]
  },
  {
   "cell_type": "code",
   "execution_count": 13,
   "metadata": {},
   "outputs": [
    {
     "data": {
      "text/plain": [
       "0    253.0\n",
       "1    337.0\n",
       "2    286.0\n",
       "3    810.0\n",
       "4    486.0\n",
       "Name: duration, dtype: float64"
      ]
     },
     "execution_count": 13,
     "metadata": {},
     "output_type": "execute_result"
    }
   ],
   "source": [
    "ed_edstays_df[\"duration\"].head(5)"
   ]
  },
  {
   "cell_type": "code",
   "execution_count": 14,
   "metadata": {},
   "outputs": [
    {
     "data": {
      "text/plain": [
       "count    425087.000000\n",
       "mean        429.499604\n",
       "std         397.679997\n",
       "min       -1364.000000\n",
       "25%         212.000000\n",
       "50%         328.000000\n",
       "75%         499.000000\n",
       "max       29584.166667\n",
       "Name: duration, dtype: float64"
      ]
     },
     "execution_count": 14,
     "metadata": {},
     "output_type": "execute_result"
    }
   ],
   "source": [
    "ed_edstays_df[\"duration\"].describe()"
   ]
  },
  {
   "cell_type": "code",
   "execution_count": 15,
   "metadata": {},
   "outputs": [
    {
     "data": {
      "text/plain": [
       "subject_id                          10086893\n",
       "hadm_id                                  NaN\n",
       "stay_id                             34581389\n",
       "intime                   2116-09-30 23:09:00\n",
       "outtime                  2116-09-30 00:25:00\n",
       "gender                                     F\n",
       "race                  BLACK/AFRICAN AMERICAN\n",
       "arrival_transport                    UNKNOWN\n",
       "disposition          LEFT WITHOUT BEING SEEN\n",
       "intime_converted         2116-09-30 23:09:00\n",
       "outtime_converted        2116-09-30 00:25:00\n",
       "duration                             -1364.0\n",
       "Name: 3547, dtype: object"
      ]
     },
     "execution_count": 15,
     "metadata": {},
     "output_type": "execute_result"
    }
   ],
   "source": [
    "ed_edstays_df.iloc[ed_edstays_df[\"duration\"].argmin()]"
   ]
  },
  {
   "cell_type": "code",
   "execution_count": 16,
   "metadata": {},
   "outputs": [
    {
     "data": {
      "text/plain": [
       "6"
      ]
     },
     "execution_count": 16,
     "metadata": {},
     "output_type": "execute_result"
    }
   ],
   "source": [
    "ed_edstays_df[ed_edstays_df[\"duration\"] < 0].shape[0]"
   ]
  },
  {
   "cell_type": "code",
   "execution_count": 17,
   "metadata": {},
   "outputs": [
    {
     "data": {
      "image/png": "[encoded data removed]",
      "text/plain": [
       "<Figure size 1000x800 with 1 Axes>"
      ]
     },
     "metadata": {},
     "output_type": "display_data"
    }
   ],
   "source": [
    "ed_edstays_df[\"duration\"].hist(figsize=(10, 8), bins=10)\n",
    "plt.tight_layout()"
   ]
  },
  {
   "cell_type": "code",
   "execution_count": 18,
   "metadata": {},
   "outputs": [
    {
     "data": {
      "text/plain": [
       "0.9925709325385157"
      ]
     },
     "execution_count": 18,
     "metadata": {},
     "output_type": "execute_result"
    }
   ],
   "source": [
    "ed_edstays_df[ed_edstays_df[\"duration\"] <= 2000].shape[0] / ed_edstays_df.shape[0]"
   ]
  },
  {
   "cell_type": "code",
   "execution_count": 19,
   "metadata": {},
   "outputs": [
    {
     "data": {
      "image/png": "[encoded data removed]",
      "text/plain": [
       "<Figure size 1000x800 with 1 Axes>"
      ]
     },
     "metadata": {},
     "output_type": "display_data"
    }
   ],
   "source": [
    "ed_edstays_df[ed_edstays_df[\"duration\"] <= 2000][\"duration\"].hist(figsize=(10, 8), bins=10)\n",
    "plt.tight_layout()"
   ]
  },
  {
   "cell_type": "code",
   "execution_count": 20,
   "metadata": {},
   "outputs": [
    {
     "data": {
      "text/html": [
       "<div>\n",
       "<style scoped>\n",
       "    .dataframe tbody tr th:only-of-type {\n",
       "        vertical-align: middle;\n",
       "    }\n",
       "\n",
       "    .dataframe tbody tr th {\n",
       "        vertical-align: top;\n",
       "    }\n",
       "\n",
       "    .dataframe thead th {\n",
       "        text-align: right;\n",
       "    }\n",
       "</style>\n",
       "<table border=\"1\" class=\"dataframe\">\n",
       "  <thead>\n",
       "    <tr style=\"text-align: right;\">\n",
       "      <th></th>\n",
       "      <th>subject_id</th>\n",
       "      <th>stay_id</th>\n",
       "      <th>temperature</th>\n",
       "      <th>heartrate</th>\n",
       "      <th>resprate</th>\n",
       "      <th>o2sat</th>\n",
       "      <th>sbp</th>\n",
       "      <th>dbp</th>\n",
       "      <th>acuity</th>\n",
       "    </tr>\n",
       "  </thead>\n",
       "  <tbody>\n",
       "    <tr>\n",
       "      <th>count</th>\n",
       "      <td>4.250870e+05</td>\n",
       "      <td>4.250870e+05</td>\n",
       "      <td>401672.000000</td>\n",
       "      <td>407997.000000</td>\n",
       "      <td>404734.000000</td>\n",
       "      <td>404491.000000</td>\n",
       "      <td>406796.000000</td>\n",
       "      <td>405996.000000</td>\n",
       "      <td>418100.000000</td>\n",
       "    </tr>\n",
       "    <tr>\n",
       "      <th>mean</th>\n",
       "      <td>1.500871e+07</td>\n",
       "      <td>3.499735e+07</td>\n",
       "      <td>98.015046</td>\n",
       "      <td>85.079891</td>\n",
       "      <td>17.565521</td>\n",
       "      <td>98.471888</td>\n",
       "      <td>135.395352</td>\n",
       "      <td>81.262126</td>\n",
       "      <td>2.625102</td>\n",
       "    </tr>\n",
       "    <tr>\n",
       "      <th>std</th>\n",
       "      <td>2.878486e+06</td>\n",
       "      <td>2.888342e+06</td>\n",
       "      <td>4.008575</td>\n",
       "      <td>18.041690</td>\n",
       "      <td>5.485706</td>\n",
       "      <td>17.040807</td>\n",
       "      <td>240.956408</td>\n",
       "      <td>1057.220031</td>\n",
       "      <td>0.708084</td>\n",
       "    </tr>\n",
       "    <tr>\n",
       "      <th>min</th>\n",
       "      <td>1.000003e+07</td>\n",
       "      <td>3.000001e+07</td>\n",
       "      <td>0.100000</td>\n",
       "      <td>1.000000</td>\n",
       "      <td>0.000000</td>\n",
       "      <td>0.000000</td>\n",
       "      <td>1.000000</td>\n",
       "      <td>0.000000</td>\n",
       "      <td>1.000000</td>\n",
       "    </tr>\n",
       "    <tr>\n",
       "      <th>25%</th>\n",
       "      <td>1.251789e+07</td>\n",
       "      <td>3.249799e+07</td>\n",
       "      <td>97.500000</td>\n",
       "      <td>72.000000</td>\n",
       "      <td>16.000000</td>\n",
       "      <td>97.000000</td>\n",
       "      <td>120.000000</td>\n",
       "      <td>68.000000</td>\n",
       "      <td>2.000000</td>\n",
       "    </tr>\n",
       "    <tr>\n",
       "      <th>50%</th>\n",
       "      <td>1.501628e+07</td>\n",
       "      <td>3.499395e+07</td>\n",
       "      <td>98.000000</td>\n",
       "      <td>84.000000</td>\n",
       "      <td>18.000000</td>\n",
       "      <td>99.000000</td>\n",
       "      <td>133.000000</td>\n",
       "      <td>77.000000</td>\n",
       "      <td>3.000000</td>\n",
       "    </tr>\n",
       "    <tr>\n",
       "      <th>75%</th>\n",
       "      <td>1.749900e+07</td>\n",
       "      <td>3.750387e+07</td>\n",
       "      <td>98.600000</td>\n",
       "      <td>96.000000</td>\n",
       "      <td>18.000000</td>\n",
       "      <td>100.000000</td>\n",
       "      <td>148.000000</td>\n",
       "      <td>87.000000</td>\n",
       "      <td>3.000000</td>\n",
       "    </tr>\n",
       "    <tr>\n",
       "      <th>max</th>\n",
       "      <td>1.999999e+07</td>\n",
       "      <td>3.999996e+07</td>\n",
       "      <td>986.000000</td>\n",
       "      <td>1228.000000</td>\n",
       "      <td>1820.000000</td>\n",
       "      <td>9322.000000</td>\n",
       "      <td>151103.000000</td>\n",
       "      <td>661672.000000</td>\n",
       "      <td>5.000000</td>\n",
       "    </tr>\n",
       "  </tbody>\n",
       "</table>\n",
       "</div>"
      ],
      "text/plain": [
       "         subject_id       stay_id    temperature      heartrate  \\\n",
       "count  4.250870e+05  4.250870e+05  401672.000000  407997.000000   \n",
       "mean   1.500871e+07  3.499735e+07      98.015046      85.079891   \n",
       "std    2.878486e+06  2.888342e+06       4.008575      18.041690   \n",
       "min    1.000003e+07  3.000001e+07       0.100000       1.000000   \n",
       "25%    1.251789e+07  3.249799e+07      97.500000      72.000000   \n",
       "50%    1.501628e+07  3.499395e+07      98.000000      84.000000   \n",
       "75%    1.749900e+07  3.750387e+07      98.600000      96.000000   \n",
       "max    1.999999e+07  3.999996e+07     986.000000    1228.000000   \n",
       "\n",
       "            resprate          o2sat            sbp            dbp  \\\n",
       "count  404734.000000  404491.000000  406796.000000  405996.000000   \n",
       "mean       17.565521      98.471888     135.395352      81.262126   \n",
       "std         5.485706      17.040807     240.956408    1057.220031   \n",
       "min         0.000000       0.000000       1.000000       0.000000   \n",
       "25%        16.000000      97.000000     120.000000      68.000000   \n",
       "50%        18.000000      99.000000     133.000000      77.000000   \n",
       "75%        18.000000     100.000000     148.000000      87.000000   \n",
       "max      1820.000000    9322.000000  151103.000000  661672.000000   \n",
       "\n",
       "              acuity  \n",
       "count  418100.000000  \n",
       "mean        2.625102  \n",
       "std         0.708084  \n",
       "min         1.000000  \n",
       "25%         2.000000  \n",
       "50%         3.000000  \n",
       "75%         3.000000  \n",
       "max         5.000000  "
      ]
     },
     "execution_count": 20,
     "metadata": {},
     "output_type": "execute_result"
    }
   ],
   "source": [
    "ed_triage_df.describe()"
   ]
  }
 ],
 "metadata": {
  "kernelspec": {
   "display_name": "erdos_spring_2025",
   "language": "python",
   "name": "python3"
  },
  "language_info": {
   "codemirror_mode": {
    "name": "ipython",
    "version": 3
   },
   "file_extension": ".py",
   "mimetype": "text/x-python",
   "name": "python",
   "nbconvert_exporter": "python",
   "pygments_lexer": "ipython3",
   "version": "3.12.8"
  }
 },
 "nbformat": 4,
 "nbformat_minor": 2
}
