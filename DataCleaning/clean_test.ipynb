{
 "cells": [
  {
   "cell_type": "code",
   "execution_count": 15,
   "metadata": {},
   "outputs": [],
   "source": [
    "import numpy as np\n",
    "import pandas as pd\n",
    "import matplotlib.pyplot as plt\n",
    "import seaborn as sns\n"
   ]
  },
  {
   "cell_type": "code",
   "execution_count": 16,
   "metadata": {},
   "outputs": [],
   "source": [
    "#The data relevant to our research question is in the following two files. Note these contain background information about patients (age, sex, etc), as well as information obtained at the paitent's arrival at the ED. \n",
    "# Although there is other data available, it is obtained later in the patient's ED stay.\n",
    "ed_edstays_df = pd.read_csv('../ed_data/edstays.csv.gz', compression='gzip')\n",
    "ed_triage_df = pd.read_csv('../ed_data/triage.csv.gz', compression='gzip') \n",
    "hosp_patients_df = pd.read_csv('../hosp_data/patients.csv.gz', compression='gzip')  "
   ]
  },
  {
   "cell_type": "code",
   "execution_count": 17,
   "metadata": {},
   "outputs": [
    {
     "data": {
      "text/plain": [
       "425087"
      ]
     },
     "execution_count": 17,
     "metadata": {},
     "output_type": "execute_result"
    }
   ],
   "source": [
    "ed_edstays_df['stay_id'].nunique()"
   ]
  },
  {
   "cell_type": "code",
   "execution_count": 18,
   "metadata": {},
   "outputs": [],
   "source": [
    "# Merge two dataframes edstays and triage\n",
    "from MergeCleanClasses import DataMerge \n",
    "df_merge = DataMerge(ed_edstays_df, ed_triage_df, hosp_patients_df).get_dataframe()"
   ]
  },
  {
   "cell_type": "code",
   "execution_count": 19,
   "metadata": {},
   "outputs": [
    {
     "data": {
      "text/plain": [
       "Index(['subject_id', 'hadm_id', 'stay_id', 'intime', 'outtime', 'gender',\n",
       "       'race', 'arrival_transport', 'disposition', 'admission_age',\n",
       "       'temperature', 'heartrate', 'resprate', 'o2sat', 'sbp', 'dbp', 'pain',\n",
       "       'acuity', 'chiefcomplaint'],\n",
       "      dtype='object')"
      ]
     },
     "execution_count": 19,
     "metadata": {},
     "output_type": "execute_result"
    }
   ],
   "source": [
    "df_merge.columns"
   ]
  },
  {
   "cell_type": "code",
   "execution_count": 20,
   "metadata": {},
   "outputs": [],
   "source": [
    "# Clean the dataframe by replacing abnormal values with np.nan in multiple columns, including\n",
    "#   stay_length_hours, temperature, resprate, sbp, dbp, o2sat, pain\n",
    "# Special treatments for several columns:\n",
    "# 1. For temperature, scale temperature values by 10 (if between 8.24 and 10.10) and by 0.10 (if between 824 and 1010),\n",
    "#      and convert temperature from Celsius to Fahrenheit (if betweeen 28 and 43.3)\n",
    "# 2. Exclude data where disposition is 'eloped', 'left without being seen' or 'left against medical advice'\n",
    "# 3. For pain, \n",
    "#   if it's a range (number-number), replace this range by the average (e.g., 6-9 is replaced by 7.5);\n",
    "#   if it's a number followed by a symbol, strip off the extra symbols and just keep the number  (e.g., '9+' is replaced by 9);\n",
    "#   it's a single number, convert to a float (covers integer and decimal). Round down to 10 if the result is larger than 10.\n",
    "# 4. Condense race into fewer categories: 'White', 'OTHER', 'HISPANIC/LATINO', 'ASIAN', 'BLACK', nan,\n",
    "#    'NATIVE HAWAIIAN OR OTHER PACIFIC ISLANDER', 'AMERICAN INDIAN/ALASKA NATIVE'\n",
    "# All above are copied from Emilie's Cleaning.ipynb\n",
    "\n",
    "# Additional cleaning I made:\n",
    "# 1. Change stay_length_hours to stay_length_minutes and drop those stay_length_minutes < 1 or > 10000\n",
    "# 2. Set 'heartrate' to NaN if greater than 400\n",
    "# 3. Set 'resprate' to NaN if greater than 100 or less than 20\n",
    "# 4. Scale sbp values up by 10 (if between 5 and 30) and down by 0.10 (if between 500 and 3000)\n",
    "#    and set 'sbp' to NaN if greater than 300 or less than 50\n",
    "# 5. Scale dbp values up by 10 (if between 2 and 20) and down by 0.10 (if between 200 and 2000)\n",
    "#    and set 'dbp' to NaN if greater than 200 or less than 20\n",
    "# 6. Set O2sat to NaN if greater than 100 or less than 20 \n",
    "# 7. For chief complaint, drop those rows where chief complaints do not contain any letters. Those are considered as null values such as ['___', '.', '-', nan, '___ ___', '\\\\', '\\x81\\x80\\x87', '\\x88\\x87', '1', '0', '\\x87', '?', '353', '2', '21', '___ /___', '___, ___', '150', '? ___', '\\x89', '___,___', '--']\n",
    "\n",
    "from MergeCleanClasses import DataCleaner\n",
    "cleaner=DataCleaner(df_merge)\n",
    "cleaner.clean_data()\n",
    "df_cleaned = cleaner.get_dataframe()\n"
   ]
  },
  {
   "cell_type": "code",
   "execution_count": 21,
   "metadata": {},
   "outputs": [
    {
     "data": {
      "text/html": [
       "<div>\n",
       "<style scoped>\n",
       "    .dataframe tbody tr th:only-of-type {\n",
       "        vertical-align: middle;\n",
       "    }\n",
       "\n",
       "    .dataframe tbody tr th {\n",
       "        vertical-align: top;\n",
       "    }\n",
       "\n",
       "    .dataframe thead th {\n",
       "        text-align: right;\n",
       "    }\n",
       "</style>\n",
       "<table border=\"1\" class=\"dataframe\">\n",
       "  <thead>\n",
       "    <tr style=\"text-align: right;\">\n",
       "      <th></th>\n",
       "      <th>subject_id</th>\n",
       "      <th>hadm_id</th>\n",
       "      <th>stay_id</th>\n",
       "      <th>admission_age</th>\n",
       "      <th>temperature</th>\n",
       "      <th>heartrate</th>\n",
       "      <th>resprate</th>\n",
       "      <th>o2sat</th>\n",
       "      <th>sbp</th>\n",
       "      <th>dbp</th>\n",
       "      <th>acuity</th>\n",
       "      <th>stay_length_minutes</th>\n",
       "      <th>pain_cleaned_advanced</th>\n",
       "    </tr>\n",
       "  </thead>\n",
       "  <tbody>\n",
       "    <tr>\n",
       "      <th>count</th>\n",
       "      <td>4.099730e+05</td>\n",
       "      <td>2.009690e+05</td>\n",
       "      <td>4.099730e+05</td>\n",
       "      <td>409901.000000</td>\n",
       "      <td>386970.000000</td>\n",
       "      <td>393218.000000</td>\n",
       "      <td>59869.000000</td>\n",
       "      <td>389703.000000</td>\n",
       "      <td>392068.000000</td>\n",
       "      <td>391218.000000</td>\n",
       "      <td>403114.000000</td>\n",
       "      <td>409973.000000</td>\n",
       "      <td>383558.000000</td>\n",
       "    </tr>\n",
       "    <tr>\n",
       "      <th>mean</th>\n",
       "      <td>1.500700e+07</td>\n",
       "      <td>2.499450e+07</td>\n",
       "      <td>3.499759e+07</td>\n",
       "      <td>53.077289</td>\n",
       "      <td>98.087712</td>\n",
       "      <td>85.050677</td>\n",
       "      <td>21.391438</td>\n",
       "      <td>98.389827</td>\n",
       "      <td>135.029382</td>\n",
       "      <td>77.397434</td>\n",
       "      <td>2.617880</td>\n",
       "      <td>435.226365</td>\n",
       "      <td>4.332826</td>\n",
       "    </tr>\n",
       "    <tr>\n",
       "      <th>std</th>\n",
       "      <td>2.880169e+06</td>\n",
       "      <td>2.888970e+06</td>\n",
       "      <td>2.887985e+06</td>\n",
       "      <td>20.612036</td>\n",
       "      <td>0.978956</td>\n",
       "      <td>17.723182</td>\n",
       "      <td>3.194889</td>\n",
       "      <td>2.075818</td>\n",
       "      <td>22.388631</td>\n",
       "      <td>14.775016</td>\n",
       "      <td>0.709048</td>\n",
       "      <td>393.844532</td>\n",
       "      <td>3.817120</td>\n",
       "    </tr>\n",
       "    <tr>\n",
       "      <th>min</th>\n",
       "      <td>1.000003e+07</td>\n",
       "      <td>2.000002e+07</td>\n",
       "      <td>3.000001e+07</td>\n",
       "      <td>18.000000</td>\n",
       "      <td>82.400000</td>\n",
       "      <td>1.000000</td>\n",
       "      <td>20.000000</td>\n",
       "      <td>42.000000</td>\n",
       "      <td>50.000000</td>\n",
       "      <td>20.000000</td>\n",
       "      <td>1.000000</td>\n",
       "      <td>1.000000</td>\n",
       "      <td>0.000000</td>\n",
       "    </tr>\n",
       "    <tr>\n",
       "      <th>25%</th>\n",
       "      <td>1.251441e+07</td>\n",
       "      <td>2.248891e+07</td>\n",
       "      <td>3.249910e+07</td>\n",
       "      <td>35.000000</td>\n",
       "      <td>97.600000</td>\n",
       "      <td>72.000000</td>\n",
       "      <td>20.000000</td>\n",
       "      <td>97.000000</td>\n",
       "      <td>120.000000</td>\n",
       "      <td>68.000000</td>\n",
       "      <td>2.000000</td>\n",
       "      <td>217.000000</td>\n",
       "      <td>0.000000</td>\n",
       "    </tr>\n",
       "    <tr>\n",
       "      <th>50%</th>\n",
       "      <td>1.501340e+07</td>\n",
       "      <td>2.499833e+07</td>\n",
       "      <td>3.499260e+07</td>\n",
       "      <td>54.000000</td>\n",
       "      <td>98.000000</td>\n",
       "      <td>84.000000</td>\n",
       "      <td>20.000000</td>\n",
       "      <td>99.000000</td>\n",
       "      <td>133.000000</td>\n",
       "      <td>77.000000</td>\n",
       "      <td>3.000000</td>\n",
       "      <td>332.300000</td>\n",
       "      <td>5.000000</td>\n",
       "    </tr>\n",
       "    <tr>\n",
       "      <th>75%</th>\n",
       "      <td>1.750095e+07</td>\n",
       "      <td>2.749324e+07</td>\n",
       "      <td>3.750435e+07</td>\n",
       "      <td>69.000000</td>\n",
       "      <td>98.600000</td>\n",
       "      <td>96.000000</td>\n",
       "      <td>22.000000</td>\n",
       "      <td>100.000000</td>\n",
       "      <td>148.000000</td>\n",
       "      <td>87.000000</td>\n",
       "      <td>3.000000</td>\n",
       "      <td>504.000000</td>\n",
       "      <td>8.000000</td>\n",
       "    </tr>\n",
       "    <tr>\n",
       "      <th>max</th>\n",
       "      <td>1.999999e+07</td>\n",
       "      <td>2.999981e+07</td>\n",
       "      <td>3.999996e+07</td>\n",
       "      <td>91.000000</td>\n",
       "      <td>110.000000</td>\n",
       "      <td>256.000000</td>\n",
       "      <td>100.000000</td>\n",
       "      <td>100.000000</td>\n",
       "      <td>299.000000</td>\n",
       "      <td>199.000000</td>\n",
       "      <td>5.000000</td>\n",
       "      <td>9677.000000</td>\n",
       "      <td>10.000000</td>\n",
       "    </tr>\n",
       "  </tbody>\n",
       "</table>\n",
       "</div>"
      ],
      "text/plain": [
       "         subject_id       hadm_id       stay_id  admission_age    temperature  \\\n",
       "count  4.099730e+05  2.009690e+05  4.099730e+05  409901.000000  386970.000000   \n",
       "mean   1.500700e+07  2.499450e+07  3.499759e+07      53.077289      98.087712   \n",
       "std    2.880169e+06  2.888970e+06  2.887985e+06      20.612036       0.978956   \n",
       "min    1.000003e+07  2.000002e+07  3.000001e+07      18.000000      82.400000   \n",
       "25%    1.251441e+07  2.248891e+07  3.249910e+07      35.000000      97.600000   \n",
       "50%    1.501340e+07  2.499833e+07  3.499260e+07      54.000000      98.000000   \n",
       "75%    1.750095e+07  2.749324e+07  3.750435e+07      69.000000      98.600000   \n",
       "max    1.999999e+07  2.999981e+07  3.999996e+07      91.000000     110.000000   \n",
       "\n",
       "           heartrate      resprate          o2sat            sbp  \\\n",
       "count  393218.000000  59869.000000  389703.000000  392068.000000   \n",
       "mean       85.050677     21.391438      98.389827     135.029382   \n",
       "std        17.723182      3.194889       2.075818      22.388631   \n",
       "min         1.000000     20.000000      42.000000      50.000000   \n",
       "25%        72.000000     20.000000      97.000000     120.000000   \n",
       "50%        84.000000     20.000000      99.000000     133.000000   \n",
       "75%        96.000000     22.000000     100.000000     148.000000   \n",
       "max       256.000000    100.000000     100.000000     299.000000   \n",
       "\n",
       "                 dbp         acuity  stay_length_minutes  \\\n",
       "count  391218.000000  403114.000000        409973.000000   \n",
       "mean       77.397434       2.617880           435.226365   \n",
       "std        14.775016       0.709048           393.844532   \n",
       "min        20.000000       1.000000             1.000000   \n",
       "25%        68.000000       2.000000           217.000000   \n",
       "50%        77.000000       3.000000           332.300000   \n",
       "75%        87.000000       3.000000           504.000000   \n",
       "max       199.000000       5.000000          9677.000000   \n",
       "\n",
       "       pain_cleaned_advanced  \n",
       "count          383558.000000  \n",
       "mean                4.332826  \n",
       "std                 3.817120  \n",
       "min                 0.000000  \n",
       "25%                 0.000000  \n",
       "50%                 5.000000  \n",
       "75%                 8.000000  \n",
       "max                10.000000  "
      ]
     },
     "execution_count": 21,
     "metadata": {},
     "output_type": "execute_result"
    }
   ],
   "source": [
    "df_cleaned.describe()"
   ]
  },
  {
   "cell_type": "code",
   "execution_count": 22,
   "metadata": {},
   "outputs": [
    {
     "data": {
      "text/plain": [
       "Index(['subject_id', 'hadm_id', 'stay_id', 'intime', 'outtime', 'gender',\n",
       "       'race', 'arrival_transport', 'admission_age', 'temperature',\n",
       "       'heartrate', 'resprate', 'o2sat', 'sbp', 'dbp', 'pain', 'acuity',\n",
       "       'chiefcomplaint', 'stay_length_minutes', 'pain_cleaned_advanced',\n",
       "       'race_condensed'],\n",
       "      dtype='object')"
      ]
     },
     "execution_count": 22,
     "metadata": {},
     "output_type": "execute_result"
    }
   ],
   "source": [
    "df_cleaned.columns"
   ]
  },
  {
   "cell_type": "code",
   "execution_count": 23,
   "metadata": {},
   "outputs": [
    {
     "name": "stdout",
     "output_type": "stream",
     "text": [
      "201033\n",
      "409973\n"
     ]
    }
   ],
   "source": [
    "print(len(df_cleaned['subject_id'].unique()))\n",
    "print(len(df_cleaned['stay_id'].unique()))"
   ]
  },
  {
   "cell_type": "code",
   "execution_count": 24,
   "metadata": {},
   "outputs": [],
   "source": [
    "from sklearn.model_selection import train_test_split\n",
    "train, test= train_test_split(df_cleaned, shuffle = True, random_state = 489,test_size=.1)\n",
    "\n",
    "#train_prelim=train_prelim.reset_index()\n",
    "#test_prelim=test_prelim.reset_index()"
   ]
  },
  {
   "cell_type": "code",
   "execution_count": 25,
   "metadata": {},
   "outputs": [
    {
     "ename": "ValueError",
     "evalue": "Length of values (370149) does not match length of index (368975)",
     "output_type": "error",
     "traceback": [
      "\u001b[0;31m---------------------------------------------------------------------------\u001b[0m",
      "\u001b[0;31mValueError\u001b[0m                                Traceback (most recent call last)",
      "Cell \u001b[0;32mIn[25], line 4\u001b[0m\n\u001b[1;32m      2\u001b[0m train_pca\u001b[38;5;241m=\u001b[39mnp\u001b[38;5;241m.\u001b[39mload(\u001b[38;5;124m'\u001b[39m\u001b[38;5;124m../chief_complaint_data/train_pca.npy\u001b[39m\u001b[38;5;124m'\u001b[39m)\n\u001b[1;32m      3\u001b[0m column_labels \u001b[38;5;241m=\u001b[39m [\u001b[38;5;124mf\u001b[39m\u001b[38;5;124m'\u001b[39m\u001b[38;5;124mcc_\u001b[39m\u001b[38;5;132;01m{\u001b[39;00mi\u001b[38;5;132;01m}\u001b[39;00m\u001b[38;5;124m'\u001b[39m \u001b[38;5;28;01mfor\u001b[39;00m i \u001b[38;5;129;01min\u001b[39;00m \u001b[38;5;28mrange\u001b[39m(\u001b[38;5;241m100\u001b[39m)]\n\u001b[0;32m----> 4\u001b[0m \u001b[43mtrain\u001b[49m\u001b[43m[\u001b[49m\u001b[43mcolumn_labels\u001b[49m\u001b[43m]\u001b[49m\u001b[38;5;241m=\u001b[39mtrain_pca\n\u001b[1;32m      6\u001b[0m test_pca\u001b[38;5;241m=\u001b[39mnp\u001b[38;5;241m.\u001b[39mload(\u001b[38;5;124m'\u001b[39m\u001b[38;5;124m../chief_complaint_data/test_pca.npy\u001b[39m\u001b[38;5;124m'\u001b[39m)\n\u001b[1;32m      7\u001b[0m test[column_labels]\u001b[38;5;241m=\u001b[39mtest_pca\n",
      "File \u001b[0;32m/opt/miniconda3/envs/erdos_spring_2025/lib/python3.12/site-packages/pandas/core/frame.py:4299\u001b[0m, in \u001b[0;36mDataFrame.__setitem__\u001b[0;34m(self, key, value)\u001b[0m\n\u001b[1;32m   4297\u001b[0m     \u001b[38;5;28mself\u001b[39m\u001b[38;5;241m.\u001b[39m_setitem_frame(key, value)\n\u001b[1;32m   4298\u001b[0m \u001b[38;5;28;01melif\u001b[39;00m \u001b[38;5;28misinstance\u001b[39m(key, (Series, np\u001b[38;5;241m.\u001b[39mndarray, \u001b[38;5;28mlist\u001b[39m, Index)):\n\u001b[0;32m-> 4299\u001b[0m     \u001b[38;5;28;43mself\u001b[39;49m\u001b[38;5;241;43m.\u001b[39;49m\u001b[43m_setitem_array\u001b[49m\u001b[43m(\u001b[49m\u001b[43mkey\u001b[49m\u001b[43m,\u001b[49m\u001b[43m \u001b[49m\u001b[43mvalue\u001b[49m\u001b[43m)\u001b[49m\n\u001b[1;32m   4300\u001b[0m \u001b[38;5;28;01melif\u001b[39;00m \u001b[38;5;28misinstance\u001b[39m(value, DataFrame):\n\u001b[1;32m   4301\u001b[0m     \u001b[38;5;28mself\u001b[39m\u001b[38;5;241m.\u001b[39m_set_item_frame_value(key, value)\n",
      "File \u001b[0;32m/opt/miniconda3/envs/erdos_spring_2025/lib/python3.12/site-packages/pandas/core/frame.py:4350\u001b[0m, in \u001b[0;36mDataFrame._setitem_array\u001b[0;34m(self, key, value)\u001b[0m\n\u001b[1;32m   4347\u001b[0m         \u001b[38;5;28mself\u001b[39m[col] \u001b[38;5;241m=\u001b[39m value\n\u001b[1;32m   4349\u001b[0m \u001b[38;5;28;01melif\u001b[39;00m \u001b[38;5;28misinstance\u001b[39m(value, np\u001b[38;5;241m.\u001b[39mndarray) \u001b[38;5;129;01mand\u001b[39;00m value\u001b[38;5;241m.\u001b[39mndim \u001b[38;5;241m==\u001b[39m \u001b[38;5;241m2\u001b[39m:\n\u001b[0;32m-> 4350\u001b[0m     \u001b[38;5;28;43mself\u001b[39;49m\u001b[38;5;241;43m.\u001b[39;49m\u001b[43m_iset_not_inplace\u001b[49m\u001b[43m(\u001b[49m\u001b[43mkey\u001b[49m\u001b[43m,\u001b[49m\u001b[43m \u001b[49m\u001b[43mvalue\u001b[49m\u001b[43m)\u001b[49m\n\u001b[1;32m   4352\u001b[0m \u001b[38;5;28;01melif\u001b[39;00m np\u001b[38;5;241m.\u001b[39mndim(value) \u001b[38;5;241m>\u001b[39m \u001b[38;5;241m1\u001b[39m:\n\u001b[1;32m   4353\u001b[0m     \u001b[38;5;66;03m# list of lists\u001b[39;00m\n\u001b[1;32m   4354\u001b[0m     value \u001b[38;5;241m=\u001b[39m DataFrame(value)\u001b[38;5;241m.\u001b[39mvalues\n",
      "File \u001b[0;32m/opt/miniconda3/envs/erdos_spring_2025/lib/python3.12/site-packages/pandas/core/frame.py:4380\u001b[0m, in \u001b[0;36mDataFrame._iset_not_inplace\u001b[0;34m(self, key, value)\u001b[0m\n\u001b[1;32m   4377\u001b[0m         \u001b[38;5;28;01mraise\u001b[39;00m \u001b[38;5;167;01mValueError\u001b[39;00m(\u001b[38;5;124m\"\u001b[39m\u001b[38;5;124mColumns must be same length as key\u001b[39m\u001b[38;5;124m\"\u001b[39m)\n\u001b[1;32m   4379\u001b[0m     \u001b[38;5;28;01mfor\u001b[39;00m i, col \u001b[38;5;129;01min\u001b[39;00m \u001b[38;5;28menumerate\u001b[39m(key):\n\u001b[0;32m-> 4380\u001b[0m         \u001b[38;5;28;43mself\u001b[39;49m\u001b[43m[\u001b[49m\u001b[43mcol\u001b[49m\u001b[43m]\u001b[49m \u001b[38;5;241m=\u001b[39m igetitem(value, i)\n\u001b[1;32m   4382\u001b[0m \u001b[38;5;28;01melse\u001b[39;00m:\n\u001b[1;32m   4383\u001b[0m     ilocs \u001b[38;5;241m=\u001b[39m \u001b[38;5;28mself\u001b[39m\u001b[38;5;241m.\u001b[39mcolumns\u001b[38;5;241m.\u001b[39mget_indexer_non_unique(key)[\u001b[38;5;241m0\u001b[39m]\n",
      "File \u001b[0;32m/opt/miniconda3/envs/erdos_spring_2025/lib/python3.12/site-packages/pandas/core/frame.py:4311\u001b[0m, in \u001b[0;36mDataFrame.__setitem__\u001b[0;34m(self, key, value)\u001b[0m\n\u001b[1;32m   4308\u001b[0m     \u001b[38;5;28mself\u001b[39m\u001b[38;5;241m.\u001b[39m_setitem_array([key], value)\n\u001b[1;32m   4309\u001b[0m \u001b[38;5;28;01melse\u001b[39;00m:\n\u001b[1;32m   4310\u001b[0m     \u001b[38;5;66;03m# set column\u001b[39;00m\n\u001b[0;32m-> 4311\u001b[0m     \u001b[38;5;28;43mself\u001b[39;49m\u001b[38;5;241;43m.\u001b[39;49m\u001b[43m_set_item\u001b[49m\u001b[43m(\u001b[49m\u001b[43mkey\u001b[49m\u001b[43m,\u001b[49m\u001b[43m \u001b[49m\u001b[43mvalue\u001b[49m\u001b[43m)\u001b[49m\n",
      "File \u001b[0;32m/opt/miniconda3/envs/erdos_spring_2025/lib/python3.12/site-packages/pandas/core/frame.py:4524\u001b[0m, in \u001b[0;36mDataFrame._set_item\u001b[0;34m(self, key, value)\u001b[0m\n\u001b[1;32m   4514\u001b[0m \u001b[38;5;28;01mdef\u001b[39;00m\u001b[38;5;250m \u001b[39m\u001b[38;5;21m_set_item\u001b[39m(\u001b[38;5;28mself\u001b[39m, key, value) \u001b[38;5;241m-\u001b[39m\u001b[38;5;241m>\u001b[39m \u001b[38;5;28;01mNone\u001b[39;00m:\n\u001b[1;32m   4515\u001b[0m \u001b[38;5;250m    \u001b[39m\u001b[38;5;124;03m\"\"\"\u001b[39;00m\n\u001b[1;32m   4516\u001b[0m \u001b[38;5;124;03m    Add series to DataFrame in specified column.\u001b[39;00m\n\u001b[1;32m   4517\u001b[0m \n\u001b[0;32m   (...)\u001b[0m\n\u001b[1;32m   4522\u001b[0m \u001b[38;5;124;03m    ensure homogeneity.\u001b[39;00m\n\u001b[1;32m   4523\u001b[0m \u001b[38;5;124;03m    \"\"\"\u001b[39;00m\n\u001b[0;32m-> 4524\u001b[0m     value, refs \u001b[38;5;241m=\u001b[39m \u001b[38;5;28;43mself\u001b[39;49m\u001b[38;5;241;43m.\u001b[39;49m\u001b[43m_sanitize_column\u001b[49m\u001b[43m(\u001b[49m\u001b[43mvalue\u001b[49m\u001b[43m)\u001b[49m\n\u001b[1;32m   4526\u001b[0m     \u001b[38;5;28;01mif\u001b[39;00m (\n\u001b[1;32m   4527\u001b[0m         key \u001b[38;5;129;01min\u001b[39;00m \u001b[38;5;28mself\u001b[39m\u001b[38;5;241m.\u001b[39mcolumns\n\u001b[1;32m   4528\u001b[0m         \u001b[38;5;129;01mand\u001b[39;00m value\u001b[38;5;241m.\u001b[39mndim \u001b[38;5;241m==\u001b[39m \u001b[38;5;241m1\u001b[39m\n\u001b[1;32m   4529\u001b[0m         \u001b[38;5;129;01mand\u001b[39;00m \u001b[38;5;129;01mnot\u001b[39;00m \u001b[38;5;28misinstance\u001b[39m(value\u001b[38;5;241m.\u001b[39mdtype, ExtensionDtype)\n\u001b[1;32m   4530\u001b[0m     ):\n\u001b[1;32m   4531\u001b[0m         \u001b[38;5;66;03m# broadcast across multiple columns if necessary\u001b[39;00m\n\u001b[1;32m   4532\u001b[0m         \u001b[38;5;28;01mif\u001b[39;00m \u001b[38;5;129;01mnot\u001b[39;00m \u001b[38;5;28mself\u001b[39m\u001b[38;5;241m.\u001b[39mcolumns\u001b[38;5;241m.\u001b[39mis_unique \u001b[38;5;129;01mor\u001b[39;00m \u001b[38;5;28misinstance\u001b[39m(\u001b[38;5;28mself\u001b[39m\u001b[38;5;241m.\u001b[39mcolumns, MultiIndex):\n",
      "File \u001b[0;32m/opt/miniconda3/envs/erdos_spring_2025/lib/python3.12/site-packages/pandas/core/frame.py:5266\u001b[0m, in \u001b[0;36mDataFrame._sanitize_column\u001b[0;34m(self, value)\u001b[0m\n\u001b[1;32m   5263\u001b[0m     \u001b[38;5;28;01mreturn\u001b[39;00m _reindex_for_setitem(value, \u001b[38;5;28mself\u001b[39m\u001b[38;5;241m.\u001b[39mindex)\n\u001b[1;32m   5265\u001b[0m \u001b[38;5;28;01mif\u001b[39;00m is_list_like(value):\n\u001b[0;32m-> 5266\u001b[0m     \u001b[43mcom\u001b[49m\u001b[38;5;241;43m.\u001b[39;49m\u001b[43mrequire_length_match\u001b[49m\u001b[43m(\u001b[49m\u001b[43mvalue\u001b[49m\u001b[43m,\u001b[49m\u001b[43m \u001b[49m\u001b[38;5;28;43mself\u001b[39;49m\u001b[38;5;241;43m.\u001b[39;49m\u001b[43mindex\u001b[49m\u001b[43m)\u001b[49m\n\u001b[1;32m   5267\u001b[0m arr \u001b[38;5;241m=\u001b[39m sanitize_array(value, \u001b[38;5;28mself\u001b[39m\u001b[38;5;241m.\u001b[39mindex, copy\u001b[38;5;241m=\u001b[39m\u001b[38;5;28;01mTrue\u001b[39;00m, allow_2d\u001b[38;5;241m=\u001b[39m\u001b[38;5;28;01mTrue\u001b[39;00m)\n\u001b[1;32m   5268\u001b[0m \u001b[38;5;28;01mif\u001b[39;00m (\n\u001b[1;32m   5269\u001b[0m     \u001b[38;5;28misinstance\u001b[39m(value, Index)\n\u001b[1;32m   5270\u001b[0m     \u001b[38;5;129;01mand\u001b[39;00m value\u001b[38;5;241m.\u001b[39mdtype \u001b[38;5;241m==\u001b[39m \u001b[38;5;124m\"\u001b[39m\u001b[38;5;124mobject\u001b[39m\u001b[38;5;124m\"\u001b[39m\n\u001b[0;32m   (...)\u001b[0m\n\u001b[1;32m   5273\u001b[0m     \u001b[38;5;66;03m# TODO: Remove kludge in sanitize_array for string mode when enforcing\u001b[39;00m\n\u001b[1;32m   5274\u001b[0m     \u001b[38;5;66;03m# this deprecation\u001b[39;00m\n",
      "File \u001b[0;32m/opt/miniconda3/envs/erdos_spring_2025/lib/python3.12/site-packages/pandas/core/common.py:573\u001b[0m, in \u001b[0;36mrequire_length_match\u001b[0;34m(data, index)\u001b[0m\n\u001b[1;32m    569\u001b[0m \u001b[38;5;250m\u001b[39m\u001b[38;5;124;03m\"\"\"\u001b[39;00m\n\u001b[1;32m    570\u001b[0m \u001b[38;5;124;03mCheck the length of data matches the length of the index.\u001b[39;00m\n\u001b[1;32m    571\u001b[0m \u001b[38;5;124;03m\"\"\"\u001b[39;00m\n\u001b[1;32m    572\u001b[0m \u001b[38;5;28;01mif\u001b[39;00m \u001b[38;5;28mlen\u001b[39m(data) \u001b[38;5;241m!=\u001b[39m \u001b[38;5;28mlen\u001b[39m(index):\n\u001b[0;32m--> 573\u001b[0m     \u001b[38;5;28;01mraise\u001b[39;00m \u001b[38;5;167;01mValueError\u001b[39;00m(\n\u001b[1;32m    574\u001b[0m         \u001b[38;5;124m\"\u001b[39m\u001b[38;5;124mLength of values \u001b[39m\u001b[38;5;124m\"\u001b[39m\n\u001b[1;32m    575\u001b[0m         \u001b[38;5;124mf\u001b[39m\u001b[38;5;124m\"\u001b[39m\u001b[38;5;124m(\u001b[39m\u001b[38;5;132;01m{\u001b[39;00m\u001b[38;5;28mlen\u001b[39m(data)\u001b[38;5;132;01m}\u001b[39;00m\u001b[38;5;124m) \u001b[39m\u001b[38;5;124m\"\u001b[39m\n\u001b[1;32m    576\u001b[0m         \u001b[38;5;124m\"\u001b[39m\u001b[38;5;124mdoes not match length of index \u001b[39m\u001b[38;5;124m\"\u001b[39m\n\u001b[1;32m    577\u001b[0m         \u001b[38;5;124mf\u001b[39m\u001b[38;5;124m\"\u001b[39m\u001b[38;5;124m(\u001b[39m\u001b[38;5;132;01m{\u001b[39;00m\u001b[38;5;28mlen\u001b[39m(index)\u001b[38;5;132;01m}\u001b[39;00m\u001b[38;5;124m)\u001b[39m\u001b[38;5;124m\"\u001b[39m\n\u001b[1;32m    578\u001b[0m     )\n",
      "\u001b[0;31mValueError\u001b[0m: Length of values (370149) does not match length of index (368975)"
     ]
    }
   ],
   "source": [
    "#Load the PCA results and add as new columns to the train and test dataframes.\n",
    "train_pca=np.load('../chief_complaint_data/train_pca.npy')\n",
    "column_labels = [f'cc_{i}' for i in range(100)]\n",
    "train[column_labels]=train_pca\n",
    "\n",
    "test_pca=np.load('../chief_complaint_data/test_pca.npy')\n",
    "test[column_labels]=test_pca"
   ]
  },
  {
   "cell_type": "code",
   "execution_count": null,
   "metadata": {},
   "outputs": [],
   "source": [
    "#These csv files are now ready for modeling.\n",
    "train.to_csv('train.csv', index=False)\n",
    "test.to_csv('test.csv', index=False)"
   ]
  },
  {
   "cell_type": "code",
   "execution_count": null,
   "metadata": {},
   "outputs": [
    {
     "name": "stdout",
     "output_type": "stream",
     "text": [
      "Number of rows in cleaned training set is 368975\n",
      "Number of rows in cleaned test set is 40998\n"
     ]
    }
   ],
   "source": [
    "print('Number of rows in cleaned training set is', train['stay_id'].nunique())\n",
    "print('Number of rows in cleaned test set is', test['stay_id'].nunique())"
   ]
  },
  {
   "cell_type": "code",
   "execution_count": null,
   "metadata": {},
   "outputs": [],
   "source": [
    "# train.head()\n",
    "# test['stay_id'].nunique()\n",
    "# train[train['chiefcomplaint'].str != \"\"]\n",
    "# train.sample(5)\n",
    "# train_filtered = train[~train['chiefcomplaint'].str.contains('[a-zA-Z]', na=False)]\n",
    "# # train_filtered['chiefcomplaint'].unique()\n",
    "# train_filtered"
   ]
  },
  {
   "cell_type": "code",
   "execution_count": null,
   "metadata": {},
   "outputs": [],
   "source": [
    "# df_cleaned[df_cleaned['stay_length_minutes'] <= 5].count()"
   ]
  },
  {
   "cell_type": "code",
   "execution_count": null,
   "metadata": {},
   "outputs": [],
   "source": [
    "# plt.hist(df_cleaned[df_cleaned['stay_length_minutes'] < 5]['stay_length_minutes'])\n",
    "# plt.show()"
   ]
  },
  {
   "cell_type": "code",
   "execution_count": null,
   "metadata": {},
   "outputs": [],
   "source": []
  }
 ],
 "metadata": {
  "kernelspec": {
   "display_name": "edpredict",
   "language": "python",
   "name": "python3"
  },
  "language_info": {
   "codemirror_mode": {
    "name": "ipython",
    "version": 3
   },
   "file_extension": ".py",
   "mimetype": "text/x-python",
   "name": "python",
   "nbconvert_exporter": "python",
   "pygments_lexer": "ipython3",
   "version": "3.11.11"
  }
 },
 "nbformat": 4,
 "nbformat_minor": 2
}
