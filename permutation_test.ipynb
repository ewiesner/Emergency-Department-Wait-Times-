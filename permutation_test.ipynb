{
 "cells": [
  {
   "cell_type": "code",
   "execution_count": 2,
   "metadata": {},
   "outputs": [],
   "source": [
    "import pandas as pd\n",
    "import numpy as np\n",
    "from scipy.stats import permutation_test, f_oneway"
   ]
  },
  {
   "cell_type": "code",
   "execution_count": 4,
   "metadata": {},
   "outputs": [],
   "source": [
    "train = pd.read_csv('DataCleaning/train.csv')"
   ]
  },
  {
   "cell_type": "code",
   "execution_count": 18,
   "metadata": {},
   "outputs": [],
   "source": [
    "group1 = train[train['chiefcomplaint'] == \"Dyspnea\"]['stay_length_minutes']\n",
    "group2 = train[train['chiefcomplaint'] == \"Abd pain\"]['stay_length_minutes']"
   ]
  },
  {
   "cell_type": "code",
   "execution_count": 19,
   "metadata": {},
   "outputs": [
    {
     "name": "stdout",
     "output_type": "stream",
     "text": [
      "Observed Statistic: -41.902360176828495\n",
      "P-value: 0.003992015968063872\n"
     ]
    }
   ],
   "source": [
    "def statistic(x, y):\n",
    "    return np.mean(x) - np.mean(y)\n",
    "\n",
    "result = permutation_test(\n",
    "    (group1, group2), \n",
    "    statistic,\n",
    "    permutation_type='independent',\n",
    "    n_resamples=500,\n",
    "    alternative='two-sided'  \n",
    ")\n",
    "\n",
    "print(f\"Observed Statistic: {result.statistic}\")\n",
    "print(f\"P-value: {result.pvalue}\")"
   ]
  },
  {
   "cell_type": "code",
   "execution_count": 16,
   "metadata": {},
   "outputs": [],
   "source": [
    "group3 = train[train['gender'] == \"F\"]['stay_length_minutes']\n",
    "group4 = train[train['gender'] == \"M\"]['stay_length_minutes']"
   ]
  },
  {
   "cell_type": "code",
   "execution_count": 17,
   "metadata": {},
   "outputs": [
    {
     "name": "stdout",
     "output_type": "stream",
     "text": [
      "Observed Statistic: 0.7621521364051205\n",
      "P-value: 0.6347305389221557\n"
     ]
    }
   ],
   "source": [
    "def statistic(x, y):\n",
    "    return np.mean(x) - np.mean(y)\n",
    "\n",
    "result = permutation_test(\n",
    "    (group3, group4), \n",
    "    statistic,\n",
    "    permutation_type='independent', \n",
    "    n_resamples=500,               \n",
    "    alternative='two-sided'   \n",
    ")\n",
    "\n",
    "print(f\"Observed Statistic: {result.statistic}\")\n",
    "print(f\"P-value: {result.pvalue}\")"
   ]
  }
 ],
 "metadata": {
  "kernelspec": {
   "display_name": "erdos_spring_2025",
   "language": "python",
   "name": "python3"
  },
  "language_info": {
   "codemirror_mode": {
    "name": "ipython",
    "version": 3
   },
   "file_extension": ".py",
   "mimetype": "text/x-python",
   "name": "python",
   "nbconvert_exporter": "python",
   "pygments_lexer": "ipython3",
   "version": "3.12.8"
  }
 },
 "nbformat": 4,
 "nbformat_minor": 2
}
